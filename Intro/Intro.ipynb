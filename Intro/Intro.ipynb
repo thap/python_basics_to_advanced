{
 "cells": [
  {
   "cell_type": "markdown",
   "metadata": {},
   "source": [
    "# Introduction to Python"
   ]
  },
  {
   "cell_type": "markdown",
   "metadata": {},
   "source": [
    "## Numpy"
   ]
  },
  {
   "cell_type": "code",
   "execution_count": 1,
   "metadata": {},
   "outputs": [],
   "source": [
    "import numpy as np\n",
    "import pandas as pd"
   ]
  },
  {
   "cell_type": "code",
   "execution_count": 2,
   "metadata": {},
   "outputs": [
    {
     "name": "stdout",
     "output_type": "stream",
     "text": [
      "(1015, 7)\n",
      "Index(['Name', 'Team', 'Position', 'Height', 'Weight', 'Age', 'PosCategory'], dtype='object')\n",
      "              Name Team       Position  Height  Weight    Age PosCategory\n",
      "0    Adam_Donachie  BAL        Catcher      74     180  22.99     Catcher\n",
      "1        Paul_Bako  BAL        Catcher      74     215  34.69     Catcher\n",
      "2  Ramon_Hernandez  BAL        Catcher      72     210  30.78     Catcher\n",
      "3     Kevin_Millar  BAL  First_Baseman      72     210  35.43   Infielder\n",
      "4      Chris_Gomez  BAL  First_Baseman      73     188  35.71   Infielder\n",
      "            Height       Weight          Age\n",
      "count  1015.000000  1015.000000  1015.000000\n",
      "mean     73.689655   201.348768    28.708355\n",
      "std       2.313932    20.823115     4.314453\n",
      "min      67.000000   150.000000    20.900000\n",
      "25%      72.000000   186.000000    25.405000\n",
      "50%      74.000000   200.000000    27.900000\n",
      "75%      75.000000   215.000000    31.190000\n",
      "max      83.000000   290.000000    48.520000\n",
      "<class 'pandas.core.frame.DataFrame'>\n",
      "RangeIndex: 1015 entries, 0 to 1014\n",
      "Data columns (total 7 columns):\n",
      "Name           1015 non-null object\n",
      "Team           1015 non-null object\n",
      "Position       1015 non-null object\n",
      "Height         1015 non-null int64\n",
      "Weight         1015 non-null int64\n",
      "Age            1015 non-null float64\n",
      "PosCategory    1015 non-null object\n",
      "dtypes: float64(1), int64(2), object(4)\n",
      "memory usage: 55.6+ KB\n",
      "None\n"
     ]
    }
   ],
   "source": [
    "baseball = pd.read_csv('data/baseball.csv')\n",
    "print(baseball.shape)\n",
    "print(baseball.columns)\n",
    "print(baseball.head())\n",
    "print(baseball.describe())\n",
    "print(baseball.info())"
   ]
  },
  {
   "cell_type": "code",
   "execution_count": 4,
   "metadata": {},
   "outputs": [
    {
     "name": "stdout",
     "output_type": "stream",
     "text": [
      "Height     73.689655\n",
      "Weight    201.348768\n",
      "Age        28.708355\n",
      "dtype: float64\n",
      "Height     74.0\n",
      "Weight    200.0\n",
      "Age        27.9\n",
      "dtype: float64\n"
     ]
    }
   ],
   "source": [
    "print(baseball.mean())\n",
    "print(baseball.median())"
   ]
  },
  {
   "cell_type": "code",
   "execution_count": 5,
   "metadata": {},
   "outputs": [
    {
     "name": "stdout",
     "output_type": "stream",
     "text": [
      "(8847, 19)\n",
      "Index(['id', ' name', ' rating', ' position', ' height', ' foot', ' rare',\n",
      "       ' pace', ' shooting', ' passing', ' dribbling', ' defending',\n",
      "       ' heading', ' diving', ' handling', ' kicking', ' reflexes', ' speed',\n",
      "       ' positioning'],\n",
      "      dtype='object')\n",
      "       id                     name   rating  position   height    foot   rare  \\\n",
      "0    1001             Gábor Király       69        GK      191   Right      0   \n",
      "1  100143             Frederik Boi       65         M      184   Right      0   \n",
      "2  100264          Tomasz Szewczuk       57         A      185   Right      0   \n",
      "3  100325   Steeve Joseph-Reinette       63         D      180    Left      0   \n",
      "4  100326             Kamel Chafni       72         M      181   Right      0   \n",
      "\n",
      "   pace  shooting  passing  dribbling  defending  heading  diving  handling  \\\n",
      "0                                                              70        66   \n",
      "1    61        65       63         59         62       62                     \n",
      "2    65        54       43         53         55       74                     \n",
      "3    68        38       51         46         64       71                     \n",
      "4    75        64       67         72         57       66                     \n",
      "\n",
      "   kicking  reflexes  speed   positioning  \n",
      "0       63        74     35          66.0  \n",
      "1                                     NaN  \n",
      "2                                     NaN  \n",
      "3                                     NaN  \n",
      "4                                     NaN  \n",
      "                  id       rating       height         rare   positioning\n",
      "count    8847.000000  8847.000000  8847.000000  8847.000000    930.000000\n",
      "mean   152337.538035    66.680457   181.750424     0.353114     64.955914\n",
      "std     54506.606056     7.146679     6.454356     0.477965      8.854231\n",
      "min         2.000000    40.000000   158.000000     0.000000     37.000000\n",
      "25%    140001.500000    62.000000   178.000000     0.000000     59.000000\n",
      "50%    171578.000000    66.000000   182.000000     0.000000     65.000000\n",
      "75%    189185.000000    72.000000   186.000000     1.000000     71.000000\n",
      "max    205583.000000    94.000000   208.000000     1.000000     91.000000\n",
      "<class 'pandas.core.frame.DataFrame'>\n",
      "RangeIndex: 8847 entries, 0 to 8846\n",
      "Data columns (total 19 columns):\n",
      "id              8847 non-null int64\n",
      " name           8847 non-null object\n",
      " rating         8847 non-null int64\n",
      " position       8847 non-null object\n",
      " height         8847 non-null int64\n",
      " foot           8847 non-null object\n",
      " rare           8847 non-null int64\n",
      " pace           8847 non-null object\n",
      " shooting       8847 non-null object\n",
      " passing        8847 non-null object\n",
      " dribbling      8847 non-null object\n",
      " defending      8847 non-null object\n",
      " heading        8847 non-null object\n",
      " diving         8847 non-null object\n",
      " handling       8847 non-null object\n",
      " kicking        8847 non-null object\n",
      " reflexes       8847 non-null object\n",
      " speed          8847 non-null object\n",
      " positioning    930 non-null float64\n",
      "dtypes: float64(1), int64(4), object(14)\n",
      "memory usage: 1.3+ MB\n",
      "None\n"
     ]
    }
   ],
   "source": [
    "fifa = pd.read_csv('data/fifa.csv')\n",
    "print(fifa.shape)\n",
    "print(fifa.columns)\n",
    "print(fifa.head())\n",
    "print(fifa.describe())\n",
    "print(fifa.info())"
   ]
  },
  {
   "cell_type": "code",
   "execution_count": 6,
   "metadata": {},
   "outputs": [
    {
     "name": "stdout",
     "output_type": "stream",
     "text": [
      "id              152337.538035\n",
      " rating             66.680457\n",
      " height            181.750424\n",
      " rare                0.353114\n",
      " positioning        64.955914\n",
      "dtype: float64\n",
      "id              171578.0\n",
      " rating             66.0\n",
      " height            182.0\n",
      " rare                0.0\n",
      " positioning        65.0\n",
      "dtype: float64\n"
     ]
    }
   ],
   "source": [
    "print(fifa.mean())\n",
    "print(fifa.median())"
   ]
  },
  {
   "cell_type": "code",
   "execution_count": null,
   "metadata": {},
   "outputs": [],
   "source": []
  }
 ],
 "metadata": {
  "kernelspec": {
   "display_name": "Python 3",
   "language": "python",
   "name": "python3"
  },
  "language_info": {
   "codemirror_mode": {
    "name": "ipython",
    "version": 3
   },
   "file_extension": ".py",
   "mimetype": "text/x-python",
   "name": "python",
   "nbconvert_exporter": "python",
   "pygments_lexer": "ipython3",
   "version": "3.7.3"
  }
 },
 "nbformat": 4,
 "nbformat_minor": 4
}
