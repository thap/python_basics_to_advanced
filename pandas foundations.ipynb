{
 "cells": [
  {
   "cell_type": "markdown",
   "metadata": {},
   "source": [
    "# Pandas Foundations"
   ]
  },
  {
   "cell_type": "markdown",
   "metadata": {},
   "source": [
    "## Data Ingestion and Inspection"
   ]
  },
  {
   "cell_type": "markdown",
   "metadata": {},
   "source": [
    "### Review of Pandas DataFrames"
   ]
  },
  {
   "cell_type": "code",
   "execution_count": 15,
   "metadata": {},
   "outputs": [
    {
     "name": "stdout",
     "output_type": "stream",
     "text": [
      "      Total Population\n",
      "Year                  \n",
      "1960      3.034971e+09\n",
      "1970      3.684823e+09\n",
      "1980      4.436590e+09\n",
      "1990      5.282716e+09\n",
      "2000      6.115974e+09\n",
      "      Total Population\n",
      "Year                  \n",
      "1970      3.684823e+09\n",
      "1980      4.436590e+09\n",
      "1990      5.282716e+09\n",
      "2000      6.115974e+09\n",
      "2010      6.924283e+09\n"
     ]
    }
   ],
   "source": [
    "import pandas as pd\n",
    "\n",
    "df = pd.read_csv('data/world_population.csv', index_col=0)\n",
    "print(df.head())\n",
    "print(df.tail())"
   ]
  },
  {
   "cell_type": "code",
   "execution_count": 16,
   "metadata": {},
   "outputs": [
    {
     "name": "stdout",
     "output_type": "stream",
     "text": [
      "np_vals has type <class 'numpy.ndarray'>\n",
      "np_vals_log10 has type <class 'numpy.ndarray'>\n",
      "df has type <class 'pandas.core.frame.DataFrame'>\n",
      "df_log10 has type <class 'pandas.core.frame.DataFrame'>\n"
     ]
    },
    {
     "data": {
      "text/plain": [
       "[None, None, None, None]"
      ]
     },
     "execution_count": 16,
     "metadata": {},
     "output_type": "execute_result"
    }
   ],
   "source": [
    "import numpy as np\n",
    "\n",
    "# Create array of DataFrame values\n",
    "np_vals = df.values\n",
    "\n",
    "# Create new array of base 10 logarithm values\n",
    "np_vals_log10 = np.log10(np_vals)\n",
    "\n",
    "# Create array of new DataFrame by passing df to np.log10()\n",
    "df_log10 = np.log10(df)\n",
    "\n",
    "# Print original and new data containers\n",
    "[print(x, 'has type', type(eval(x))) for x in ['np_vals', 'np_vals_log10', 'df', 'df_log10']]"
   ]
  },
  {
   "cell_type": "markdown",
   "metadata": {},
   "source": [
    "### Building DataFrames from Scratch"
   ]
  },
  {
   "cell_type": "code",
   "execution_count": 18,
   "metadata": {},
   "outputs": [
    {
     "name": "stdout",
     "output_type": "stream",
     "text": [
      "[('Country', ['United States', 'Soviet Union', 'United Kingdom']), ('Total', [1118, 473, 273])]\n",
      "{'Country': ['United States', 'Soviet Union', 'United Kingdom'], 'Total': [1118, 473, 273]}\n",
      "          Country  Total\n",
      "0   United States   1118\n",
      "1    Soviet Union    473\n",
      "2  United Kingdom    273\n"
     ]
    }
   ],
   "source": [
    "list_keys = ['Country', 'Total']\n",
    "list_values = [['United States', 'Soviet Union', 'United Kingdom'], [1118, 473, 273]]\n",
    "\n",
    "# Zip the 2 lists together into one list of (key, value) tuples and inspect the list\n",
    "zipped = list(zip(list_keys, list_values))\n",
    "print(zipped)\n",
    "\n",
    "# Build and inspect a dictionary with the zipped list\n",
    "data = dict(zipped)\n",
    "print(data)\n",
    "\n",
    "# Build and inspect a DataFrame from the dictionary\n",
    "df = pd.DataFrame(data)\n",
    "print(df)"
   ]
  },
  {
   "cell_type": "code",
   "execution_count": 21,
   "metadata": {},
   "outputs": [
    {
     "name": "stdout",
     "output_type": "stream",
     "text": [
      "   year             artist                            song  chart weeks\n",
      "0  1980            Blondie                         Call Me            6\n",
      "1  1981  Christopher Cross                   Arthurs Theme            3\n",
      "2  1982          Joan Jett  Joan Jett I Love Rock and Roll            7\n"
     ]
    }
   ],
   "source": [
    "list_keys = ['a', 'b', 'c', 'd']\n",
    "list_values = [[1980, 1981, 1982], ['Blondie', 'Christopher Cross', 'Joan Jett'], \n",
    "            ['Call Me', 'Arthurs Theme', 'Joan Jett I Love Rock and Roll'], [6, 3, 7]]\n",
    "df = pd.DataFrame(dict(list(zip(list_keys, list_values))))\n",
    "# Build a list of labels\n",
    "list_labels = ['year', 'artist', 'song', 'chart weeks']\n",
    "\n",
    "# Assign the list of labels to the columns attribute\n",
    "df.columns = list_labels\n",
    "\n",
    "print(df)"
   ]
  },
  {
   "cell_type": "code",
   "execution_count": 24,
   "metadata": {},
   "outputs": [
    {
     "name": "stdout",
     "output_type": "stream",
     "text": [
      "{'state': 'PA', 'city': ['Manheim', 'Preston park', 'Biglerville', 'Indiana', 'Curwensville', 'Crown', 'Harveys lake', 'Mineral springs', 'Cassville', 'Hannastown', 'Saltsburg', 'Tunkhannock', 'Pittsburgh', 'Lemasters', 'Great bend']}\n",
      "   state             city\n",
      "0     PA          Manheim\n",
      "1     PA     Preston park\n",
      "2     PA      Biglerville\n",
      "3     PA          Indiana\n",
      "4     PA     Curwensville\n",
      "5     PA            Crown\n",
      "6     PA     Harveys lake\n",
      "7     PA  Mineral springs\n",
      "8     PA        Cassville\n",
      "9     PA       Hannastown\n",
      "10    PA        Saltsburg\n",
      "11    PA      Tunkhannock\n",
      "12    PA       Pittsburgh\n",
      "13    PA        Lemasters\n",
      "14    PA       Great bend\n"
     ]
    }
   ],
   "source": [
    "# Make a list of cities' names\n",
    "cities = ['Manheim', 'Preston park', 'Biglerville', 'Indiana', 'Curwensville', \n",
    "          'Crown', 'Harveys lake', 'Mineral springs', 'Cassville', 'Hannastown', \n",
    "          'Saltsburg', 'Tunkhannock', 'Pittsburgh', 'Lemasters', 'Great bend']\n",
    "\n",
    "# Make a string with the value 'PA'\n",
    "state = 'PA'\n",
    "\n",
    "# Construct a dictionary\n",
    "data = {'state': state, 'city': cities}\n",
    "print(data)\n",
    "\n",
    "# Construct a DataFrame with broadcasting\n",
    "df = pd.DataFrame(data)\n",
    "print(df)"
   ]
  },
  {
   "cell_type": "markdown",
   "metadata": {},
   "source": [
    "### Importing and Exporting Data"
   ]
  },
  {
   "cell_type": "code",
   "execution_count": 27,
   "metadata": {},
   "outputs": [
    {
     "name": "stdout",
     "output_type": "stream",
     "text": [
      "   year    population\n",
      "0  1960  3.034971e+09\n",
      "1  1970  3.684823e+09\n",
      "2  1980  4.436590e+09\n",
      "3  1990  5.282716e+09\n",
      "4  2000  6.115974e+09\n",
      "5  2010  6.924283e+09\n"
     ]
    }
   ],
   "source": [
    "# Read in the file, specifying the header and names\n",
    "df = pd.read_csv('data/world_population.csv', header=0, names=['year', 'population'])\n",
    "print(df)"
   ]
  },
  {
   "cell_type": "markdown",
   "metadata": {},
   "source": [
    "#### Delimiters, Headers, and Extensions"
   ]
  },
  {
   "cell_type": "code",
   "execution_count": 34,
   "metadata": {},
   "outputs": [
    {
     "name": "stdout",
     "output_type": "stream",
     "text": [
      "Index(['name', 'Jan', 'Feb', 'Mar', 'Apr', 'May', 'Jun', 'Jul', 'Aug', 'Sep',\n",
      "       'Oct', 'Nov', 'Dec'],\n",
      "      dtype='object')\n",
      "     name     Jan     Feb     Mar     Apr     May     Jun     Jul     Aug  \\\n",
      "0     IBM  156.08  160.01  159.81  165.22  172.25  167.15  164.75  152.77   \n",
      "1    MSFT   45.51   43.08   42.13   43.47   47.53   45.96   45.61   45.51   \n",
      "2  GOOGLE  512.42  537.99  559.72  540.50  535.24  532.92  590.09  636.84   \n",
      "3   APPLE  110.64  125.43  125.97  127.29  128.76  127.81  125.34  113.39   \n",
      "\n",
      "      Sep     Oct     Nov     Dec  \n",
      "0  145.36  146.11  137.21  137.96  \n",
      "1   43.56   48.70   53.88   55.40  \n",
      "2  617.93  663.59  735.39  755.35  \n",
      "3  112.80  113.36  118.16  111.73  \n"
     ]
    }
   ],
   "source": [
    "# Read in the file with correct parameters\n",
    "df = pd.read_csv('data/messy_stock_data.tsv', delimiter=' ', header=3, comment='#')\n",
    "print(df.columns)\n",
    "print(df.head())\n",
    "\n",
    "# Save the cleaned up DataFrame to a CSV file without the index\n",
    "df.to_csv('data/clean_stock_data.csv', index=False)\n",
    "\n",
    "# Save the cleaned up DataFrame to an excel file without the index\n",
    "df.to_excel('data/clean_stock_data.xlsx', index=False)"
   ]
  },
  {
   "cell_type": "markdown",
   "metadata": {},
   "source": [
    "### Plotting with Pandas"
   ]
  },
  {
   "cell_type": "markdown",
   "metadata": {},
   "source": [
    "#### Plotting Series using Pandas"
   ]
  },
  {
   "cell_type": "code",
   "execution_count": 36,
   "metadata": {},
   "outputs": [
    {
     "name": "stdout",
     "output_type": "stream",
     "text": [
      "Index(['Temperature', 'DewPoint', 'Pressure', 'Date'], dtype='object')\n",
      "   Temperature  DewPoint  Pressure            Date\n",
      "0         46.2      37.5       1.0  20100101 00:00\n",
      "1         44.6      37.1       1.0  20100101 01:00\n",
      "2         44.1      36.9       1.0  20100101 02:00\n",
      "3         43.8      36.9       1.0  20100101 03:00\n",
      "4         43.5      36.8       1.0  20100101 04:00\n"
     ]
    }
   ],
   "source": [
    "# Importing Data\n",
    "df = pd.read_csv('data/weather_data_austin_2010.csv')\n",
    "print(df.columns)\n",
    "print(df.head())"
   ]
  },
  {
   "cell_type": "code",
   "execution_count": 40,
   "metadata": {},
   "outputs": [
    {
     "data": {
      "image/png": "[encoded data removed]",
      "text/plain": [
       "<Figure size 432x288 with 1 Axes>"
      ]
     },
     "metadata": {
      "needs_background": "light"
     },
     "output_type": "display_data"
    }
   ],
   "source": [
    "import matplotlib.pyplot as plt\n",
    "%matplotlib inline\n",
    "\n",
    "# Create a plot with color red\n",
    "df.plot(color='red')\n",
    "plt.title('Temperature in Austin')\n",
    "plt.xlabel('Hours since midnight August 1, 2010')\n",
    "plt.ylabel('Temperature (degrees F)')\n",
    "plt.show()"
   ]
  },
  {
   "cell_type": "code",
   "execution_count": null,
   "metadata": {},
   "outputs": [],
   "source": []
  }
 ],
 "metadata": {
  "kernelspec": {
   "display_name": "Python 3",
   "language": "python",
   "name": "python3"
  },
  "language_info": {
   "codemirror_mode": {
    "name": "ipython",
    "version": 3
   },
   "file_extension": ".py",
   "mimetype": "text/x-python",
   "name": "python",
   "nbconvert_exporter": "python",
   "pygments_lexer": "ipython3",
   "version": "3.7.3"
  }
 },
 "nbformat": 4,
 "nbformat_minor": 4
}
