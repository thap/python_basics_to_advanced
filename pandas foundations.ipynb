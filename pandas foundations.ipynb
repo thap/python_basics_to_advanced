{
 "cells": [
  {
   "cell_type": "markdown",
   "metadata": {},
   "source": [
    "# Pandas Foundations"
   ]
  },
  {
   "cell_type": "markdown",
   "metadata": {},
   "source": [
    "## Data Ingestion and Inspection"
   ]
  },
  {
   "cell_type": "markdown",
   "metadata": {},
   "source": [
    "### Review of Pandas DataFrames"
   ]
  },
  {
   "cell_type": "code",
   "execution_count": 15,
   "metadata": {},
   "outputs": [
    {
     "name": "stdout",
     "output_type": "stream",
     "text": [
      "      Total Population\n",
      "Year                  \n",
      "1960      3.034971e+09\n",
      "1970      3.684823e+09\n",
      "1980      4.436590e+09\n",
      "1990      5.282716e+09\n",
      "2000      6.115974e+09\n",
      "      Total Population\n",
      "Year                  \n",
      "1970      3.684823e+09\n",
      "1980      4.436590e+09\n",
      "1990      5.282716e+09\n",
      "2000      6.115974e+09\n",
      "2010      6.924283e+09\n"
     ]
    }
   ],
   "source": [
    "import pandas as pd\n",
    "\n",
    "df = pd.read_csv('data/world_population.csv', index_col=0)\n",
    "print(df.head())\n",
    "print(df.tail())"
   ]
  },
  {
   "cell_type": "code",
   "execution_count": 16,
   "metadata": {},
   "outputs": [
    {
     "name": "stdout",
     "output_type": "stream",
     "text": [
      "np_vals has type <class 'numpy.ndarray'>\n",
      "np_vals_log10 has type <class 'numpy.ndarray'>\n",
      "df has type <class 'pandas.core.frame.DataFrame'>\n",
      "df_log10 has type <class 'pandas.core.frame.DataFrame'>\n"
     ]
    },
    {
     "data": {
      "text/plain": [
       "[None, None, None, None]"
      ]
     },
     "execution_count": 16,
     "metadata": {},
     "output_type": "execute_result"
    }
   ],
   "source": [
    "import numpy as np\n",
    "\n",
    "# Create array of DataFrame values\n",
    "np_vals = df.values\n",
    "\n",
    "# Create new array of base 10 logarithm values\n",
    "np_vals_log10 = np.log10(np_vals)\n",
    "\n",
    "# Create array of new DataFrame by passing df to np.log10()\n",
    "df_log10 = np.log10(df)\n",
    "\n",
    "# Print original and new data containers\n",
    "[print(x, 'has type', type(eval(x))) for x in ['np_vals', 'np_vals_log10', 'df', 'df_log10']]"
   ]
  },
  {
   "cell_type": "markdown",
   "metadata": {},
   "source": [
    "### Building DataFrames from Scratch"
   ]
  },
  {
   "cell_type": "code",
   "execution_count": 18,
   "metadata": {},
   "outputs": [
    {
     "name": "stdout",
     "output_type": "stream",
     "text": [
      "[('Country', ['United States', 'Soviet Union', 'United Kingdom']), ('Total', [1118, 473, 273])]\n",
      "{'Country': ['United States', 'Soviet Union', 'United Kingdom'], 'Total': [1118, 473, 273]}\n",
      "          Country  Total\n",
      "0   United States   1118\n",
      "1    Soviet Union    473\n",
      "2  United Kingdom    273\n"
     ]
    }
   ],
   "source": [
    "list_keys = ['Country', 'Total']\n",
    "list_values = [['United States', 'Soviet Union', 'United Kingdom'], [1118, 473, 273]]\n",
    "\n",
    "# Zip the 2 lists together into one list of (key, value) tuples and inspect the list\n",
    "zipped = list(zip(list_keys, list_values))\n",
    "print(zipped)\n",
    "\n",
    "# Build and inspect a dictionary with the zipped list\n",
    "data = dict(zipped)\n",
    "print(data)\n",
    "\n",
    "# Build and inspect a DataFrame from the dictionary\n",
    "df = pd.DataFrame(data)\n",
    "print(df)"
   ]
  },
  {
   "cell_type": "code",
   "execution_count": 21,
   "metadata": {},
   "outputs": [
    {
     "name": "stdout",
     "output_type": "stream",
     "text": [
      "   year             artist                            song  chart weeks\n",
      "0  1980            Blondie                         Call Me            6\n",
      "1  1981  Christopher Cross                   Arthurs Theme            3\n",
      "2  1982          Joan Jett  Joan Jett I Love Rock and Roll            7\n"
     ]
    }
   ],
   "source": [
    "list_keys = ['a', 'b', 'c', 'd']\n",
    "list_values = [[1980, 1981, 1982], ['Blondie', 'Christopher Cross', 'Joan Jett'], \n",
    "            ['Call Me', 'Arthurs Theme', 'Joan Jett I Love Rock and Roll'], [6, 3, 7]]\n",
    "df = pd.DataFrame(dict(list(zip(list_keys, list_values))))\n",
    "# Build a list of labels\n",
    "list_labels = ['year', 'artist', 'song', 'chart weeks']\n",
    "\n",
    "# Assign the list of labels to the columns attribute\n",
    "df.columns = list_labels\n",
    "\n",
    "print(df)"
   ]
  },
  {
   "cell_type": "code",
   "execution_count": 24,
   "metadata": {},
   "outputs": [
    {
     "name": "stdout",
     "output_type": "stream",
     "text": [
      "{'state': 'PA', 'city': ['Manheim', 'Preston park', 'Biglerville', 'Indiana', 'Curwensville', 'Crown', 'Harveys lake', 'Mineral springs', 'Cassville', 'Hannastown', 'Saltsburg', 'Tunkhannock', 'Pittsburgh', 'Lemasters', 'Great bend']}\n",
      "   state             city\n",
      "0     PA          Manheim\n",
      "1     PA     Preston park\n",
      "2     PA      Biglerville\n",
      "3     PA          Indiana\n",
      "4     PA     Curwensville\n",
      "5     PA            Crown\n",
      "6     PA     Harveys lake\n",
      "7     PA  Mineral springs\n",
      "8     PA        Cassville\n",
      "9     PA       Hannastown\n",
      "10    PA        Saltsburg\n",
      "11    PA      Tunkhannock\n",
      "12    PA       Pittsburgh\n",
      "13    PA        Lemasters\n",
      "14    PA       Great bend\n"
     ]
    }
   ],
   "source": [
    "# Make a list of cities' names\n",
    "cities = ['Manheim', 'Preston park', 'Biglerville', 'Indiana', 'Curwensville', \n",
    "          'Crown', 'Harveys lake', 'Mineral springs', 'Cassville', 'Hannastown', \n",
    "          'Saltsburg', 'Tunkhannock', 'Pittsburgh', 'Lemasters', 'Great bend']\n",
    "\n",
    "# Make a string with the value 'PA'\n",
    "state = 'PA'\n",
    "\n",
    "# Construct a dictionary\n",
    "data = {'state': state, 'city': cities}\n",
    "print(data)\n",
    "\n",
    "# Construct a DataFrame with broadcasting\n",
    "df = pd.DataFrame(data)\n",
    "print(df)"
   ]
  },
  {
   "cell_type": "markdown",
   "metadata": {},
   "source": [
    "### Importing and Exporting Data"
   ]
  },
  {
   "cell_type": "code",
   "execution_count": 27,
   "metadata": {},
   "outputs": [
    {
     "name": "stdout",
     "output_type": "stream",
     "text": [
      "   year    population\n",
      "0  1960  3.034971e+09\n",
      "1  1970  3.684823e+09\n",
      "2  1980  4.436590e+09\n",
      "3  1990  5.282716e+09\n",
      "4  2000  6.115974e+09\n",
      "5  2010  6.924283e+09\n"
     ]
    }
   ],
   "source": [
    "# Read in the file, specifying the header and names\n",
    "df = pd.read_csv('data/world_population.csv', header=0, names=['year', 'population'])\n",
    "print(df)"
   ]
  },
  {
   "cell_type": "markdown",
   "metadata": {},
   "source": [
    "#### Delimiters, Headers, and Extensions"
   ]
  },
  {
   "cell_type": "code",
   "execution_count": 34,
   "metadata": {},
   "outputs": [
    {
     "name": "stdout",
     "output_type": "stream",
     "text": [
      "Index(['name', 'Jan', 'Feb', 'Mar', 'Apr', 'May', 'Jun', 'Jul', 'Aug', 'Sep',\n",
      "       'Oct', 'Nov', 'Dec'],\n",
      "      dtype='object')\n",
      "     name     Jan     Feb     Mar     Apr     May     Jun     Jul     Aug  \\\n",
      "0     IBM  156.08  160.01  159.81  165.22  172.25  167.15  164.75  152.77   \n",
      "1    MSFT   45.51   43.08   42.13   43.47   47.53   45.96   45.61   45.51   \n",
      "2  GOOGLE  512.42  537.99  559.72  540.50  535.24  532.92  590.09  636.84   \n",
      "3   APPLE  110.64  125.43  125.97  127.29  128.76  127.81  125.34  113.39   \n",
      "\n",
      "      Sep     Oct     Nov     Dec  \n",
      "0  145.36  146.11  137.21  137.96  \n",
      "1   43.56   48.70   53.88   55.40  \n",
      "2  617.93  663.59  735.39  755.35  \n",
      "3  112.80  113.36  118.16  111.73  \n"
     ]
    }
   ],
   "source": [
    "# Read in the file with correct parameters\n",
    "df = pd.read_csv('data/messy_stock_data.tsv', delimiter=' ', header=3, comment='#')\n",
    "print(df.columns)\n",
    "print(df.head())\n",
    "\n",
    "# Save the cleaned up DataFrame to a CSV file without the index\n",
    "df.to_csv('data/clean_stock_data.csv', index=False)\n",
    "\n",
    "# Save the cleaned up DataFrame to an excel file without the index\n",
    "df.to_excel('data/clean_stock_data.xlsx', index=False)"
   ]
  },
  {
   "cell_type": "markdown",
   "metadata": {},
   "source": [
    "### Plotting with Pandas"
   ]
  },
  {
   "cell_type": "markdown",
   "metadata": {},
   "source": [
    "#### Plotting Series using Pandas"
   ]
  },
  {
   "cell_type": "code",
   "execution_count": 36,
   "metadata": {},
   "outputs": [
    {
     "name": "stdout",
     "output_type": "stream",
     "text": [
      "Index(['Temperature', 'DewPoint', 'Pressure', 'Date'], dtype='object')\n",
      "   Temperature  DewPoint  Pressure            Date\n",
      "0         46.2      37.5       1.0  20100101 00:00\n",
      "1         44.6      37.1       1.0  20100101 01:00\n",
      "2         44.1      36.9       1.0  20100101 02:00\n",
      "3         43.8      36.9       1.0  20100101 03:00\n",
      "4         43.5      36.8       1.0  20100101 04:00\n"
     ]
    }
   ],
   "source": [
    "# Importing Data\n",
    "df = pd.read_csv('data/weather_data_austin_2010.csv')\n",
    "print(df.columns)\n",
    "print(df.head())"
   ]
  },
  {
   "cell_type": "code",
   "execution_count": 40,
   "metadata": {},
   "outputs": [
    {
     "data": {
      "image/png": "[encoded data removed]",
      "text/plain": [
       "<Figure size 432x288 with 1 Axes>"
      ]
     },
     "metadata": {
      "needs_background": "light"
     },
     "output_type": "display_data"
    }
   ],
   "source": [
    "import matplotlib.pyplot as plt\n",
    "%matplotlib inline\n",
    "\n",
    "# Create a plot with color red\n",
    "df.plot(color='red')\n",
    "plt.title('Temperature in Austin')\n",
    "plt.xlabel('Hours since midnight August 1, 2010')\n",
    "plt.ylabel('Temperature (degrees F)')\n",
    "plt.show()"
   ]
  },
  {
   "cell_type": "markdown",
   "metadata": {},
   "source": [
    "#### Plotting DataFrames"
   ]
  },
  {
   "cell_type": "code",
   "execution_count": 41,
   "metadata": {},
   "outputs": [
    {
     "data": {
      "text/plain": [
       "<matplotlib.axes._subplots.AxesSubplot at 0x119d67470>"
      ]
     },
     "execution_count": 41,
     "metadata": {},
     "output_type": "execute_result"
    },
    {
     "data": {
      "image/png": "[encoded data removed]",
      "text/plain": [
       "<Figure size 432x288 with 1 Axes>"
      ]
     },
     "metadata": {
      "needs_background": "light"
     },
     "output_type": "display_data"
    }
   ],
   "source": [
    "# Plot all columns by default\n",
    "df.plot()"
   ]
  },
  {
   "cell_type": "code",
   "execution_count": 42,
   "metadata": {},
   "outputs": [
    {
     "data": {
      "text/plain": [
       "array([<matplotlib.axes._subplots.AxesSubplot object at 0x119f517f0>,\n",
       "       <matplotlib.axes._subplots.AxesSubplot object at 0x119d5b5c0>,\n",
       "       <matplotlib.axes._subplots.AxesSubplot object at 0x11881fa20>],\n",
       "      dtype=object)"
      ]
     },
     "execution_count": 42,
     "metadata": {},
     "output_type": "execute_result"
    },
    {
     "data": {
      "image/png": "[encoded data removed]",
      "text/plain": [
       "<Figure size 432x288 with 3 Axes>"
      ]
     },
     "metadata": {
      "needs_background": "light"
     },
     "output_type": "display_data"
    }
   ],
   "source": [
    "# Plot all columns as subplots\n",
    "df.plot(subplots=True)"
   ]
  },
  {
   "cell_type": "code",
   "execution_count": 45,
   "metadata": {},
   "outputs": [
    {
     "data": {
      "text/plain": [
       "<matplotlib.axes._subplots.AxesSubplot at 0x118f462b0>"
      ]
     },
     "execution_count": 45,
     "metadata": {},
     "output_type": "execute_result"
    },
    {
     "data": {
      "image/png": "[encoded data removed]",
      "text/plain": [
       "<Figure size 432x288 with 1 Axes>"
      ]
     },
     "metadata": {
      "needs_background": "light"
     },
     "output_type": "display_data"
    }
   ],
   "source": [
    "# Plot just the Dew Point data\n",
    "column_list1 = ['DewPoint']\n",
    "df[column_list1].plot()"
   ]
  },
  {
   "cell_type": "code",
   "execution_count": 46,
   "metadata": {},
   "outputs": [
    {
     "data": {
      "text/plain": [
       "<matplotlib.axes._subplots.AxesSubplot at 0x118db1978>"
      ]
     },
     "execution_count": 46,
     "metadata": {},
     "output_type": "execute_result"
    },
    {
     "data": {
      "image/png": "[encoded data removed]",
      "text/plain": [
       "<Figure size 432x288 with 1 Axes>"
      ]
     },
     "metadata": {
      "needs_background": "light"
     },
     "output_type": "display_data"
    }
   ],
   "source": [
    "# Plot the Dew Point and Temperature data but not Pressure data\n",
    "column_list2 = ['Temperature', 'DewPoint']\n",
    "df[column_list2].plot()"
   ]
  },
  {
   "cell_type": "markdown",
   "metadata": {},
   "source": [
    "## Exploratory Data Analysis"
   ]
  },
  {
   "cell_type": "markdown",
   "metadata": {},
   "source": [
    "### Visual EDA"
   ]
  },
  {
   "cell_type": "markdown",
   "metadata": {},
   "source": [
    "#### Pandas Line Plots"
   ]
  },
  {
   "cell_type": "code",
   "execution_count": 62,
   "metadata": {},
   "outputs": [
    {
     "name": "stdout",
     "output_type": "stream",
     "text": [
      "Index(['index', 'IBM', 'MSFT', 'GOOGLE', 'APPLE'], dtype='object', name='name')\n",
      "Index(['Month', 'IBM', 'MSFT', 'GOOGLE', 'APPLE'], dtype='object', name='name')\n",
      "name Month     IBM   MSFT  GOOGLE   APPLE\n",
      "0      Jan  156.08  45.51  512.42  110.64\n",
      "1      Feb  160.01  43.08  537.99  125.43\n",
      "2      Mar  159.81  42.13  559.72  125.97\n",
      "3      Apr  165.22  43.47  540.50  127.29\n",
      "4      May  172.25  47.53  535.24  128.76\n",
      "5      Jun  167.15  45.96  532.92  127.81\n",
      "6      Jul  164.75  45.61  590.09  125.34\n",
      "7      Aug  152.77  45.51  636.84  113.39\n",
      "8      Sep  145.36  43.56  617.93  112.80\n",
      "9      Oct  146.11  48.70  663.59  113.36\n",
      "10     Nov  137.21  53.88  735.39  118.16\n",
      "11     Dec  137.96  55.40  755.35  111.73\n"
     ]
    }
   ],
   "source": [
    "import pandas as pd\n",
    "\n",
    "df = pd.read_csv('data/clean_stock_data.csv', index_col=0).T\n",
    "df.reset_index(level=0, inplace=True)\n",
    "print(df.columns)\n",
    "df.rename(columns={'index': 'Month'}, inplace=True)\n",
    "print(df.columns)\n",
    "print(df)"
   ]
  },
  {
   "cell_type": "markdown",
   "metadata": {},
   "source": [
    "#### Pandas Scatter Plots"
   ]
  },
  {
   "cell_type": "code",
   "execution_count": 67,
   "metadata": {},
   "outputs": [
    {
     "data": {
      "text/plain": [
       "Text(0, 0.5, 'Price (USD)')"
      ]
     },
     "execution_count": 67,
     "metadata": {},
     "output_type": "execute_result"
    },
    {
     "data": {
      "image/png": "[encoded data removed]",
      "text/plain": [
       "<Figure size 432x288 with 1 Axes>"
      ]
     },
     "metadata": {
      "needs_background": "light"
     },
     "output_type": "display_data"
    }
   ],
   "source": [
    "# Create a list of y-axis column names\n",
    "y_columns = ['IBM', 'APPLE']\n",
    "\n",
    "# Generate a line plot\n",
    "df.plot(x='Month', y=y_columns)\n",
    "\n",
    "# Add a title\n",
    "plt.title('Monthly stock prices')\n",
    "\n",
    "# Add a y-axis label \n",
    "plt.ylabel('Price (USD)')"
   ]
  },
  {
   "cell_type": "markdown",
   "metadata": {},
   "source": [
    "#### Pandas Boxplots"
   ]
  },
  {
   "cell_type": "code",
   "execution_count": 69,
   "metadata": {},
   "outputs": [
    {
     "name": "stdout",
     "output_type": "stream",
     "text": [
      "Index(['mpg', 'cyl', 'displ', 'hp', 'weight', 'accel', 'yr', 'origin', 'name'], dtype='object')\n"
     ]
    }
   ],
   "source": [
    "import pandas as pd\n",
    "\n",
    "df = pd.read_csv('data/auto-mpg.csv')\n",
    "print(df.columns)"
   ]
  },
  {
   "cell_type": "code",
   "execution_count": 70,
   "metadata": {},
   "outputs": [
    {
     "data": {
      "text/plain": [
       "weight       AxesSubplot(0.125,0.125;0.352273x0.755)\n",
       "mpg       AxesSubplot(0.547727,0.125;0.352273x0.755)\n",
       "dtype: object"
      ]
     },
     "execution_count": 70,
     "metadata": {},
     "output_type": "execute_result"
    },
    {
     "data": {
      "image/png": "[encoded data removed]",
      "text/plain": [
       "<Figure size 432x288 with 2 Axes>"
      ]
     },
     "metadata": {
      "needs_background": "light"
     },
     "output_type": "display_data"
    }
   ],
   "source": [
    "# Make a list of the column names to be plotted\n",
    "cols = ['weight', 'mpg']\n",
    "\n",
    "# Generate the boxplot\n",
    "df[cols].plot(kind='box', subplots=True)"
   ]
  },
  {
   "cell_type": "markdown",
   "metadata": {},
   "source": [
    "#### Pandas Hist, PDF and CDF"
   ]
  },
  {
   "cell_type": "code",
   "execution_count": 78,
   "metadata": {},
   "outputs": [
    {
     "name": "stdout",
     "output_type": "stream",
     "text": [
      "<class 'matplotlib.figure.Figure'> <class 'numpy.ndarray'> (2,)\n"
     ]
    },
    {
     "data": {
      "text/plain": [
       "<matplotlib.axes._subplots.AxesSubplot at 0x11ae8d278>"
      ]
     },
     "execution_count": 78,
     "metadata": {},
     "output_type": "execute_result"
    },
    {
     "data": {
      "image/png": "[encoded data removed]",
      "text/plain": [
       "<Figure size 432x288 with 2 Axes>"
      ]
     },
     "metadata": {
      "needs_background": "light"
     },
     "output_type": "display_data"
    }
   ],
   "source": [
    "# This formats the plots such that they appear on separate rows\n",
    "fig, axes = plt.subplots(nrows=2, ncols=1)\n",
    "print(type(fig), type(axes), axes.shape)\n",
    "\n",
    "# Read data into DataFrame\n",
    "df = pd.read_csv('data/tips.csv')\n",
    "\n",
    "# Plot the PDF\n",
    "df.fraction.plot(ax=axes[0], kind='hist', normed=True, bins=30, range=(0, 0.3))\n",
    "\n",
    "# Plot the CDF\n",
    "df.fraction.plot(ax=axes[1], kind='hist', normed=True, bins=30, cumulative=True, range=(0, 0.3))"
   ]
  },
  {
   "cell_type": "markdown",
   "metadata": {},
   "source": [
    "### Statistical EDA"
   ]
  },
  {
   "cell_type": "markdown",
   "metadata": {},
   "source": [
    "#### Median"
   ]
  },
  {
   "cell_type": "code",
   "execution_count": 79,
   "metadata": {},
   "outputs": [
    {
     "data": {
      "text/plain": [
       "22.75"
      ]
     },
     "execution_count": 79,
     "metadata": {},
     "output_type": "execute_result"
    }
   ],
   "source": [
    "df = pd.read_csv('data/auto-mpg.csv')\n",
    "\n",
    "df.mpg.median()"
   ]
  },
  {
   "cell_type": "markdown",
   "metadata": {},
   "source": [
    "#### Mean"
   ]
  },
  {
   "cell_type": "code",
   "execution_count": 84,
   "metadata": {},
   "outputs": [
    {
     "name": "stdout",
     "output_type": "stream",
     "text": [
      "0.8\n",
      "19.0\n"
     ]
    },
    {
     "data": {
      "text/plain": [
       "<matplotlib.axes._subplots.AxesSubplot at 0x117f2f400>"
      ]
     },
     "execution_count": 84,
     "metadata": {},
     "output_type": "execute_result"
    },
    {
     "data": {
      "image/png": "[encoded data removed]",
      "text/plain": [
       "<Figure size 432x288 with 1 Axes>"
      ]
     },
     "metadata": {
      "needs_background": "light"
     },
     "output_type": "display_data"
    }
   ],
   "source": [
    "df = pd.read_csv('data/percent-bachelors-degrees-women-usa.csv')\n",
    "\n",
    "# The minimum value of the Engineering column\n",
    "print(df.Engineering.min())\n",
    "\n",
    "# The maximum value of the Engineering column\n",
    "print(df.Engineering.max())\n",
    "\n",
    "# The mean percentage per year\n",
    "mean = df.mean(axis='columns')\n",
    "\n",
    "# Plot the yearly mean percentage\n",
    "mean.plot()"
   ]
  },
  {
   "cell_type": "markdown",
   "metadata": {},
   "source": [
    "#### Median vs Mean"
   ]
  },
  {
   "cell_type": "code",
   "execution_count": 86,
   "metadata": {},
   "outputs": [
    {
     "name": "stdout",
     "output_type": "stream",
     "text": [
      "count    1308.000000\n",
      "mean       33.295479\n",
      "std        51.758668\n",
      "min         0.000000\n",
      "25%         7.895800\n",
      "50%        14.454200\n",
      "75%        31.275000\n",
      "max       512.329200\n",
      "Name: fare, dtype: float64\n"
     ]
    }
   ],
   "source": [
    "df = pd.read_csv('data/titanic.csv')\n",
    "\n",
    "# Print summary statistics of the fare column with describe\n",
    "print(df.fare.describe())"
   ]
  },
  {
   "cell_type": "code",
   "execution_count": 87,
   "metadata": {},
   "outputs": [
    {
     "data": {
      "text/plain": [
       "<matplotlib.axes._subplots.AxesSubplot at 0x11a9f3208>"
      ]
     },
     "execution_count": 87,
     "metadata": {},
     "output_type": "execute_result"
    },
    {
     "data": {
      "image/png": "[encoded data removed]",
      "text/plain": [
       "<Figure size 432x288 with 1 Axes>"
      ]
     },
     "metadata": {
      "needs_background": "light"
     },
     "output_type": "display_data"
    }
   ],
   "source": [
    "df.fare.plot(kind='box')"
   ]
  },
  {
   "cell_type": "markdown",
   "metadata": {},
   "source": [
    "#### Quantiles"
   ]
  },
  {
   "cell_type": "code",
   "execution_count": 93,
   "metadata": {},
   "outputs": [
    {
     "name": "stdout",
     "output_type": "stream",
     "text": [
      "209\n",
      "      Unnamed: 0   1800   1801   1802  1803  1804   1805   1806   1807  1808  \\\n",
      "0.05       12.95  25.40  25.30  25.20  25.2  25.2  25.40  25.40  25.40  25.3   \n",
      "0.95      246.05  37.92  37.35  38.37  38.0  38.3  38.37  38.37  38.37  38.0   \n",
      "\n",
      "      ...   2007   2008    2009    2010   2011    2012    2013   2014    2015  \\\n",
      "0.05  ...  53.07  53.60  54.235  54.935  55.97  56.335  56.705  56.87  57.855   \n",
      "0.95  ...  80.73  80.93  81.200  81.365  81.60  81.665  81.830  82.00  82.100   \n",
      "\n",
      "         2016  \n",
      "0.05  59.2555  \n",
      "0.95  82.1650  \n",
      "\n",
      "[2 rows x 218 columns]\n"
     ]
    },
    {
     "data": {
      "image/png": "[encoded data removed]",
      "text/plain": [
       "<Figure size 432x288 with 1 Axes>"
      ]
     },
     "metadata": {
      "needs_background": "light"
     },
     "output_type": "display_data"
    }
   ],
   "source": [
    "df = pd.read_csv('data/life_expectancy_at_birth.csv')\n",
    "\n",
    "# Print the number of countries reported in 2015\n",
    "print(df['2005'].count())\n",
    "\n",
    "# Print the 5th and 95th percentiles\n",
    "print(df.quantile([0.05, 0.95]))\n",
    "\n",
    "# Generate a boxplot\n",
    "years = ['1800', '1850', '1900', '1950', '2000']\n",
    "df[years].plot(kind='box')\n",
    "plt.show()"
   ]
  },
  {
   "cell_type": "markdown",
   "metadata": {},
   "source": [
    "#### Standard Deviation"
   ]
  },
  {
   "cell_type": "code",
   "execution_count": 96,
   "metadata": {},
   "outputs": [
    {
     "name": "stdout",
     "output_type": "stream",
     "text": [
      "Index(['Temperature', 'DewPoint', 'Pressure', 'Date'], dtype='object')\n",
      "   Temperature  DewPoint  Pressure            Date\n",
      "0         46.2      37.5       1.0  20100101 00:00\n",
      "1         44.6      37.1       1.0  20100101 01:00\n",
      "2         44.1      36.9       1.0  20100101 02:00\n",
      "3         43.8      36.9       1.0  20100101 03:00\n",
      "4         43.5      36.8       1.0  20100101 04:00\n"
     ]
    }
   ],
   "source": [
    "df = pd.read_csv('data/weather_data_austin_2010.csv')\n",
    "print(df.columns)\n",
    "print(df.head())"
   ]
  },
  {
   "cell_type": "code",
   "execution_count": 100,
   "metadata": {},
   "outputs": [
    {
     "data": {
      "text/plain": [
       "dtype('<M8[ns]')"
      ]
     },
     "execution_count": 100,
     "metadata": {},
     "output_type": "execute_result"
    }
   ],
   "source": [
    "df['Date'] = pd.to_datetime(df['Date'], format='%Y%m%d %H:%M')\n",
    "df.Date.dtype"
   ]
  },
  {
   "cell_type": "code",
   "execution_count": 102,
   "metadata": {},
   "outputs": [
    {
     "name": "stdout",
     "output_type": "stream",
     "text": [
      "   Temperature  DewPoint  Pressure                Date\n",
      "0         46.2      37.5       1.0 2010-01-01 00:00:00\n",
      "1         44.6      37.1       1.0 2010-01-01 01:00:00\n",
      "2         44.1      36.9       1.0 2010-01-01 02:00:00\n",
      "3         43.8      36.9       1.0 2010-01-01 03:00:00\n",
      "4         43.5      36.8       1.0 2010-01-01 04:00:00\n",
      "(744, 4)\n"
     ]
    }
   ],
   "source": [
    "jan = df[df['Date'].dt.month == 1]\n",
    "print(jan.head())\n",
    "print(jan.shape)"
   ]
  },
  {
   "cell_type": "code",
   "execution_count": 103,
   "metadata": {},
   "outputs": [
    {
     "name": "stdout",
     "output_type": "stream",
     "text": [
      "(743, 4)\n"
     ]
    }
   ],
   "source": [
    "mar = df[df['Date'].dt.month == 3]\n",
    "print(mar.shape)"
   ]
  },
  {
   "cell_type": "code",
   "execution_count": 104,
   "metadata": {},
   "outputs": [
    {
     "name": "stdout",
     "output_type": "stream",
     "text": [
      "49.9873655913979 60.8955585464334\n",
      "5.90756765806953 6.479669152231178\n"
     ]
    }
   ],
   "source": [
    "print(jan.Temperature.mean(), mar.Temperature.mean())\n",
    "print(jan.Temperature.std(), mar.Temperature.std())"
   ]
  },
  {
   "cell_type": "markdown",
   "metadata": {},
   "source": [
    "### Separating Populations"
   ]
  },
  {
   "cell_type": "markdown",
   "metadata": {},
   "source": [
    "#### Filtering and Counting"
   ]
  },
  {
   "cell_type": "code",
   "execution_count": 106,
   "metadata": {},
   "outputs": [
    {
     "name": "stdout",
     "output_type": "stream",
     "text": [
      "Index(['mpg', 'cyl', 'displ', 'hp', 'weight', 'accel', 'yr', 'origin', 'name'], dtype='object')\n"
     ]
    }
   ],
   "source": [
    "df = pd.read_csv('data/auto-mpg.csv')\n",
    "print(df.columns)"
   ]
  },
  {
   "cell_type": "code",
   "execution_count": 108,
   "metadata": {},
   "outputs": [
    {
     "data": {
      "text/plain": [
       "mpg       79\n",
       "cyl       79\n",
       "displ     79\n",
       "hp        79\n",
       "weight    79\n",
       "accel     79\n",
       "yr        79\n",
       "origin    79\n",
       "name      79\n",
       "dtype: int64"
      ]
     },
     "execution_count": 108,
     "metadata": {},
     "output_type": "execute_result"
    }
   ],
   "source": [
    "df[df['origin'] == 'Asia'].count()"
   ]
  },
  {
   "cell_type": "markdown",
   "metadata": {},
   "source": [
    "#### Separate and Plot"
   ]
  },
  {
   "cell_type": "code",
   "execution_count": 109,
   "metadata": {},
   "outputs": [
    {
     "name": "stdout",
     "output_type": "stream",
     "text": [
      "Index(['pclass', 'survived', 'name', 'sex', 'age', 'sibsp', 'parch', 'ticket',\n",
      "       'fare', 'cabin', 'embarked', 'boat', 'body', 'home.dest'],\n",
      "      dtype='object')\n"
     ]
    }
   ],
   "source": [
    "df = pd.read_csv('data/titanic.csv')\n",
    "print(df.columns)"
   ]
  },
  {
   "cell_type": "code",
   "execution_count": 111,
   "metadata": {},
   "outputs": [
    {
     "data": {
      "text/plain": [
       "<matplotlib.axes._subplots.AxesSubplot at 0x11b7949b0>"
      ]
     },
     "execution_count": 111,
     "metadata": {},
     "output_type": "execute_result"
    },
    {
     "data": {
      "image/png": "[encoded data removed]",
      "text/plain": [
       "<Figure size 432x288 with 3 Axes>"
      ]
     },
     "metadata": {
      "needs_background": "light"
     },
     "output_type": "display_data"
    }
   ],
   "source": [
    "# Display the boxplots on 3 separate rows and 1 column\n",
    "fig, axes = plt.subplots(nrows=3, ncols=1)\n",
    "\n",
    "# Generate a boxplot of the fare prices for First class passengers\n",
    "df[df['pclass'] == 1].plot(ax=axes[0], y='fare', kind='box')\n",
    "\n",
    "# Generate a boxplot of the fare prices for Second class passengers\n",
    "df[df['pclass'] == 2].plot(ax=axes[1], y='fare', kind='box')\n",
    "\n",
    "# Generate a boxplot of the fare prices for Third class passengers\n",
    "df[df['pclass'] == 3].plot(ax=axes[2], y='fare', kind='box')"
   ]
  },
  {
   "cell_type": "code",
   "execution_count": null,
   "metadata": {},
   "outputs": [],
   "source": []
  }
 ],
 "metadata": {
  "kernelspec": {
   "display_name": "Python 3",
   "language": "python",
   "name": "python3"
  },
  "language_info": {
   "codemirror_mode": {
    "name": "ipython",
    "version": 3
   },
   "file_extension": ".py",
   "mimetype": "text/x-python",
   "name": "python",
   "nbconvert_exporter": "python",
   "pygments_lexer": "ipython3",
   "version": "3.7.3"
  }
 },
 "nbformat": 4,
 "nbformat_minor": 4
}
