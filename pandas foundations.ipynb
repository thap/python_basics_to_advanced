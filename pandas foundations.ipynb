{
 "cells": [
  {
   "cell_type": "markdown",
   "metadata": {},
   "source": [
    "# Pandas Foundations"
   ]
  },
  {
   "cell_type": "markdown",
   "metadata": {},
   "source": [
    "## Data Ingestion and Inspection"
   ]
  },
  {
   "cell_type": "markdown",
   "metadata": {},
   "source": [
    "### Review of Pandas DataFrames"
   ]
  },
  {
   "cell_type": "code",
   "execution_count": 15,
   "metadata": {},
   "outputs": [
    {
     "name": "stdout",
     "output_type": "stream",
     "text": [
      "      Total Population\n",
      "Year                  \n",
      "1960      3.034971e+09\n",
      "1970      3.684823e+09\n",
      "1980      4.436590e+09\n",
      "1990      5.282716e+09\n",
      "2000      6.115974e+09\n",
      "      Total Population\n",
      "Year                  \n",
      "1970      3.684823e+09\n",
      "1980      4.436590e+09\n",
      "1990      5.282716e+09\n",
      "2000      6.115974e+09\n",
      "2010      6.924283e+09\n"
     ]
    }
   ],
   "source": [
    "import pandas as pd\n",
    "\n",
    "df = pd.read_csv('data/world_population.csv', index_col=0)\n",
    "print(df.head())\n",
    "print(df.tail())"
   ]
  },
  {
   "cell_type": "code",
   "execution_count": 16,
   "metadata": {},
   "outputs": [
    {
     "name": "stdout",
     "output_type": "stream",
     "text": [
      "np_vals has type <class 'numpy.ndarray'>\n",
      "np_vals_log10 has type <class 'numpy.ndarray'>\n",
      "df has type <class 'pandas.core.frame.DataFrame'>\n",
      "df_log10 has type <class 'pandas.core.frame.DataFrame'>\n"
     ]
    },
    {
     "data": {
      "text/plain": [
       "[None, None, None, None]"
      ]
     },
     "execution_count": 16,
     "metadata": {},
     "output_type": "execute_result"
    }
   ],
   "source": [
    "import numpy as np\n",
    "\n",
    "# Create array of DataFrame values\n",
    "np_vals = df.values\n",
    "\n",
    "# Create new array of base 10 logarithm values\n",
    "np_vals_log10 = np.log10(np_vals)\n",
    "\n",
    "# Create array of new DataFrame by passing df to np.log10()\n",
    "df_log10 = np.log10(df)\n",
    "\n",
    "# Print original and new data containers\n",
    "[print(x, 'has type', type(eval(x))) for x in ['np_vals', 'np_vals_log10', 'df', 'df_log10']]"
   ]
  },
  {
   "cell_type": "markdown",
   "metadata": {},
   "source": [
    "### Building DataFrames from Scratch"
   ]
  },
  {
   "cell_type": "code",
   "execution_count": 18,
   "metadata": {},
   "outputs": [
    {
     "name": "stdout",
     "output_type": "stream",
     "text": [
      "[('Country', ['United States', 'Soviet Union', 'United Kingdom']), ('Total', [1118, 473, 273])]\n",
      "{'Country': ['United States', 'Soviet Union', 'United Kingdom'], 'Total': [1118, 473, 273]}\n",
      "          Country  Total\n",
      "0   United States   1118\n",
      "1    Soviet Union    473\n",
      "2  United Kingdom    273\n"
     ]
    }
   ],
   "source": [
    "list_keys = ['Country', 'Total']\n",
    "list_values = [['United States', 'Soviet Union', 'United Kingdom'], [1118, 473, 273]]\n",
    "\n",
    "# Zip the 2 lists together into one list of (key, value) tuples and inspect the list\n",
    "zipped = list(zip(list_keys, list_values))\n",
    "print(zipped)\n",
    "\n",
    "# Build and inspect a dictionary with the zipped list\n",
    "data = dict(zipped)\n",
    "print(data)\n",
    "\n",
    "# Build and inspect a DataFrame from the dictionary\n",
    "df = pd.DataFrame(data)\n",
    "print(df)"
   ]
  },
  {
   "cell_type": "code",
   "execution_count": 21,
   "metadata": {},
   "outputs": [
    {
     "name": "stdout",
     "output_type": "stream",
     "text": [
      "   year             artist                            song  chart weeks\n",
      "0  1980            Blondie                         Call Me            6\n",
      "1  1981  Christopher Cross                   Arthurs Theme            3\n",
      "2  1982          Joan Jett  Joan Jett I Love Rock and Roll            7\n"
     ]
    }
   ],
   "source": [
    "list_keys = ['a', 'b', 'c', 'd']\n",
    "list_values = [[1980, 1981, 1982], ['Blondie', 'Christopher Cross', 'Joan Jett'], \n",
    "            ['Call Me', 'Arthurs Theme', 'Joan Jett I Love Rock and Roll'], [6, 3, 7]]\n",
    "df = pd.DataFrame(dict(list(zip(list_keys, list_values))))\n",
    "# Build a list of labels\n",
    "list_labels = ['year', 'artist', 'song', 'chart weeks']\n",
    "\n",
    "# Assign the list of labels to the columns attribute\n",
    "df.columns = list_labels\n",
    "\n",
    "print(df)"
   ]
  },
  {
   "cell_type": "code",
   "execution_count": 24,
   "metadata": {},
   "outputs": [
    {
     "name": "stdout",
     "output_type": "stream",
     "text": [
      "{'state': 'PA', 'city': ['Manheim', 'Preston park', 'Biglerville', 'Indiana', 'Curwensville', 'Crown', 'Harveys lake', 'Mineral springs', 'Cassville', 'Hannastown', 'Saltsburg', 'Tunkhannock', 'Pittsburgh', 'Lemasters', 'Great bend']}\n",
      "   state             city\n",
      "0     PA          Manheim\n",
      "1     PA     Preston park\n",
      "2     PA      Biglerville\n",
      "3     PA          Indiana\n",
      "4     PA     Curwensville\n",
      "5     PA            Crown\n",
      "6     PA     Harveys lake\n",
      "7     PA  Mineral springs\n",
      "8     PA        Cassville\n",
      "9     PA       Hannastown\n",
      "10    PA        Saltsburg\n",
      "11    PA      Tunkhannock\n",
      "12    PA       Pittsburgh\n",
      "13    PA        Lemasters\n",
      "14    PA       Great bend\n"
     ]
    }
   ],
   "source": [
    "# Make a list of cities' names\n",
    "cities = ['Manheim', 'Preston park', 'Biglerville', 'Indiana', 'Curwensville', \n",
    "          'Crown', 'Harveys lake', 'Mineral springs', 'Cassville', 'Hannastown', \n",
    "          'Saltsburg', 'Tunkhannock', 'Pittsburgh', 'Lemasters', 'Great bend']\n",
    "\n",
    "# Make a string with the value 'PA'\n",
    "state = 'PA'\n",
    "\n",
    "# Construct a dictionary\n",
    "data = {'state': state, 'city': cities}\n",
    "print(data)\n",
    "\n",
    "# Construct a DataFrame with broadcasting\n",
    "df = pd.DataFrame(data)\n",
    "print(df)"
   ]
  },
  {
   "cell_type": "markdown",
   "metadata": {},
   "source": [
    "### Importing and Exporting Data"
   ]
  },
  {
   "cell_type": "code",
   "execution_count": 27,
   "metadata": {},
   "outputs": [
    {
     "name": "stdout",
     "output_type": "stream",
     "text": [
      "   year    population\n",
      "0  1960  3.034971e+09\n",
      "1  1970  3.684823e+09\n",
      "2  1980  4.436590e+09\n",
      "3  1990  5.282716e+09\n",
      "4  2000  6.115974e+09\n",
      "5  2010  6.924283e+09\n"
     ]
    }
   ],
   "source": [
    "# Read in the file, specifying the header and names\n",
    "df = pd.read_csv('data/world_population.csv', header=0, names=['year', 'population'])\n",
    "print(df)"
   ]
  },
  {
   "cell_type": "markdown",
   "metadata": {},
   "source": [
    "#### Delimiters, Headers, and Extensions"
   ]
  },
  {
   "cell_type": "code",
   "execution_count": 34,
   "metadata": {},
   "outputs": [
    {
     "name": "stdout",
     "output_type": "stream",
     "text": [
      "Index(['name', 'Jan', 'Feb', 'Mar', 'Apr', 'May', 'Jun', 'Jul', 'Aug', 'Sep',\n",
      "       'Oct', 'Nov', 'Dec'],\n",
      "      dtype='object')\n",
      "     name     Jan     Feb     Mar     Apr     May     Jun     Jul     Aug  \\\n",
      "0     IBM  156.08  160.01  159.81  165.22  172.25  167.15  164.75  152.77   \n",
      "1    MSFT   45.51   43.08   42.13   43.47   47.53   45.96   45.61   45.51   \n",
      "2  GOOGLE  512.42  537.99  559.72  540.50  535.24  532.92  590.09  636.84   \n",
      "3   APPLE  110.64  125.43  125.97  127.29  128.76  127.81  125.34  113.39   \n",
      "\n",
      "      Sep     Oct     Nov     Dec  \n",
      "0  145.36  146.11  137.21  137.96  \n",
      "1   43.56   48.70   53.88   55.40  \n",
      "2  617.93  663.59  735.39  755.35  \n",
      "3  112.80  113.36  118.16  111.73  \n"
     ]
    }
   ],
   "source": [
    "# Read in the file with correct parameters\n",
    "df = pd.read_csv('data/messy_stock_data.tsv', delimiter=' ', header=3, comment='#')\n",
    "print(df.columns)\n",
    "print(df.head())\n",
    "\n",
    "# Save the cleaned up DataFrame to a CSV file without the index\n",
    "df.to_csv('data/clean_stock_data.csv', index=False)\n",
    "\n",
    "# Save the cleaned up DataFrame to an excel file without the index\n",
    "df.to_excel('data/clean_stock_data.xlsx', index=False)"
   ]
  },
  {
   "cell_type": "markdown",
   "metadata": {},
   "source": [
    "### Plotting with Pandas"
   ]
  },
  {
   "cell_type": "markdown",
   "metadata": {},
   "source": [
    "#### Plotting Series using Pandas"
   ]
  },
  {
   "cell_type": "code",
   "execution_count": 36,
   "metadata": {},
   "outputs": [
    {
     "name": "stdout",
     "output_type": "stream",
     "text": [
      "Index(['Temperature', 'DewPoint', 'Pressure', 'Date'], dtype='object')\n",
      "   Temperature  DewPoint  Pressure            Date\n",
      "0         46.2      37.5       1.0  20100101 00:00\n",
      "1         44.6      37.1       1.0  20100101 01:00\n",
      "2         44.1      36.9       1.0  20100101 02:00\n",
      "3         43.8      36.9       1.0  20100101 03:00\n",
      "4         43.5      36.8       1.0  20100101 04:00\n"
     ]
    }
   ],
   "source": [
    "# Importing Data\n",
    "df = pd.read_csv('data/weather_data_austin_2010.csv')\n",
    "print(df.columns)\n",
    "print(df.head())"
   ]
  },
  {
   "cell_type": "code",
   "execution_count": 40,
   "metadata": {},
   "outputs": [
    {
     "data": {
      "image/png": "[encoded data removed]",
      "text/plain": [
       "<Figure size 432x288 with 1 Axes>"
      ]
     },
     "metadata": {
      "needs_background": "light"
     },
     "output_type": "display_data"
    }
   ],
   "source": [
    "import matplotlib.pyplot as plt\n",
    "%matplotlib inline\n",
    "\n",
    "# Create a plot with color red\n",
    "df.plot(color='red')\n",
    "plt.title('Temperature in Austin')\n",
    "plt.xlabel('Hours since midnight August 1, 2010')\n",
    "plt.ylabel('Temperature (degrees F)')\n",
    "plt.show()"
   ]
  },
  {
   "cell_type": "markdown",
   "metadata": {},
   "source": [
    "#### Plotting DataFrames"
   ]
  },
  {
   "cell_type": "code",
   "execution_count": 41,
   "metadata": {},
   "outputs": [
    {
     "data": {
      "text/plain": [
       "<matplotlib.axes._subplots.AxesSubplot at 0x119d67470>"
      ]
     },
     "execution_count": 41,
     "metadata": {},
     "output_type": "execute_result"
    },
    {
     "data": {
      "image/png": "[encoded data removed]",
      "text/plain": [
       "<Figure size 432x288 with 1 Axes>"
      ]
     },
     "metadata": {
      "needs_background": "light"
     },
     "output_type": "display_data"
    }
   ],
   "source": [
    "# Plot all columns by default\n",
    "df.plot()"
   ]
  },
  {
   "cell_type": "code",
   "execution_count": 42,
   "metadata": {},
   "outputs": [
    {
     "data": {
      "text/plain": [
       "array([<matplotlib.axes._subplots.AxesSubplot object at 0x119f517f0>,\n",
       "       <matplotlib.axes._subplots.AxesSubplot object at 0x119d5b5c0>,\n",
       "       <matplotlib.axes._subplots.AxesSubplot object at 0x11881fa20>],\n",
       "      dtype=object)"
      ]
     },
     "execution_count": 42,
     "metadata": {},
     "output_type": "execute_result"
    },
    {
     "data": {
      "image/png": "[encoded data removed]",
      "text/plain": [
       "<Figure size 432x288 with 3 Axes>"
      ]
     },
     "metadata": {
      "needs_background": "light"
     },
     "output_type": "display_data"
    }
   ],
   "source": [
    "# Plot all columns as subplots\n",
    "df.plot(subplots=True)"
   ]
  },
  {
   "cell_type": "code",
   "execution_count": 45,
   "metadata": {},
   "outputs": [
    {
     "data": {
      "text/plain": [
       "<matplotlib.axes._subplots.AxesSubplot at 0x118f462b0>"
      ]
     },
     "execution_count": 45,
     "metadata": {},
     "output_type": "execute_result"
    },
    {
     "data": {
      "image/png": "[encoded data removed]",
      "text/plain": [
       "<Figure size 432x288 with 1 Axes>"
      ]
     },
     "metadata": {
      "needs_background": "light"
     },
     "output_type": "display_data"
    }
   ],
   "source": [
    "# Plot just the Dew Point data\n",
    "column_list1 = ['DewPoint']\n",
    "df[column_list1].plot()"
   ]
  },
  {
   "cell_type": "code",
   "execution_count": 46,
   "metadata": {},
   "outputs": [
    {
     "data": {
      "text/plain": [
       "<matplotlib.axes._subplots.AxesSubplot at 0x118db1978>"
      ]
     },
     "execution_count": 46,
     "metadata": {},
     "output_type": "execute_result"
    },
    {
     "data": {
      "image/png": "[encoded data removed]",
      "text/plain": [
       "<Figure size 432x288 with 1 Axes>"
      ]
     },
     "metadata": {
      "needs_background": "light"
     },
     "output_type": "display_data"
    }
   ],
   "source": [
    "# Plot the Dew Point and Temperature data but not Pressure data\n",
    "column_list2 = ['Temperature', 'DewPoint']\n",
    "df[column_list2].plot()"
   ]
  },
  {
   "cell_type": "markdown",
   "metadata": {},
   "source": [
    "## Exploratory Data Analysis"
   ]
  },
  {
   "cell_type": "markdown",
   "metadata": {},
   "source": [
    "### Visual EDA"
   ]
  },
  {
   "cell_type": "markdown",
   "metadata": {},
   "source": [
    "#### Pandas Line Plots"
   ]
  },
  {
   "cell_type": "code",
   "execution_count": 62,
   "metadata": {},
   "outputs": [
    {
     "name": "stdout",
     "output_type": "stream",
     "text": [
      "Index(['index', 'IBM', 'MSFT', 'GOOGLE', 'APPLE'], dtype='object', name='name')\n",
      "Index(['Month', 'IBM', 'MSFT', 'GOOGLE', 'APPLE'], dtype='object', name='name')\n",
      "name Month     IBM   MSFT  GOOGLE   APPLE\n",
      "0      Jan  156.08  45.51  512.42  110.64\n",
      "1      Feb  160.01  43.08  537.99  125.43\n",
      "2      Mar  159.81  42.13  559.72  125.97\n",
      "3      Apr  165.22  43.47  540.50  127.29\n",
      "4      May  172.25  47.53  535.24  128.76\n",
      "5      Jun  167.15  45.96  532.92  127.81\n",
      "6      Jul  164.75  45.61  590.09  125.34\n",
      "7      Aug  152.77  45.51  636.84  113.39\n",
      "8      Sep  145.36  43.56  617.93  112.80\n",
      "9      Oct  146.11  48.70  663.59  113.36\n",
      "10     Nov  137.21  53.88  735.39  118.16\n",
      "11     Dec  137.96  55.40  755.35  111.73\n"
     ]
    }
   ],
   "source": [
    "import pandas as pd\n",
    "\n",
    "df = pd.read_csv('data/clean_stock_data.csv', index_col=0).T\n",
    "df.reset_index(level=0, inplace=True)\n",
    "print(df.columns)\n",
    "df.rename(columns={'index': 'Month'}, inplace=True)\n",
    "print(df.columns)\n",
    "print(df)"
   ]
  },
  {
   "cell_type": "markdown",
   "metadata": {},
   "source": [
    "#### Pandas Scatter Plots"
   ]
  },
  {
   "cell_type": "code",
   "execution_count": 67,
   "metadata": {},
   "outputs": [
    {
     "data": {
      "text/plain": [
       "Text(0, 0.5, 'Price (USD)')"
      ]
     },
     "execution_count": 67,
     "metadata": {},
     "output_type": "execute_result"
    },
    {
     "data": {
      "image/png": "[encoded data removed]",
      "text/plain": [
       "<Figure size 432x288 with 1 Axes>"
      ]
     },
     "metadata": {
      "needs_background": "light"
     },
     "output_type": "display_data"
    }
   ],
   "source": [
    "# Create a list of y-axis column names\n",
    "y_columns = ['IBM', 'APPLE']\n",
    "\n",
    "# Generate a line plot\n",
    "df.plot(x='Month', y=y_columns)\n",
    "\n",
    "# Add a title\n",
    "plt.title('Monthly stock prices')\n",
    "\n",
    "# Add a y-axis label \n",
    "plt.ylabel('Price (USD)')"
   ]
  },
  {
   "cell_type": "markdown",
   "metadata": {},
   "source": [
    "#### Pandas Boxplots"
   ]
  },
  {
   "cell_type": "code",
   "execution_count": 69,
   "metadata": {},
   "outputs": [
    {
     "name": "stdout",
     "output_type": "stream",
     "text": [
      "Index(['mpg', 'cyl', 'displ', 'hp', 'weight', 'accel', 'yr', 'origin', 'name'], dtype='object')\n"
     ]
    }
   ],
   "source": [
    "import pandas as pd\n",
    "\n",
    "df = pd.read_csv('data/auto-mpg.csv')\n",
    "print(df.columns)"
   ]
  },
  {
   "cell_type": "code",
   "execution_count": 70,
   "metadata": {},
   "outputs": [
    {
     "data": {
      "text/plain": [
       "weight       AxesSubplot(0.125,0.125;0.352273x0.755)\n",
       "mpg       AxesSubplot(0.547727,0.125;0.352273x0.755)\n",
       "dtype: object"
      ]
     },
     "execution_count": 70,
     "metadata": {},
     "output_type": "execute_result"
    },
    {
     "data": {
      "image/png": "[encoded data removed]",
      "text/plain": [
       "<Figure size 432x288 with 2 Axes>"
      ]
     },
     "metadata": {
      "needs_background": "light"
     },
     "output_type": "display_data"
    }
   ],
   "source": [
    "# Make a list of the column names to be plotted\n",
    "cols = ['weight', 'mpg']\n",
    "\n",
    "# Generate the boxplot\n",
    "df[cols].plot(kind='box', subplots=True)"
   ]
  },
  {
   "cell_type": "markdown",
   "metadata": {},
   "source": [
    "#### Pandas Hist, PDF and CDF"
   ]
  },
  {
   "cell_type": "code",
   "execution_count": 78,
   "metadata": {},
   "outputs": [
    {
     "name": "stdout",
     "output_type": "stream",
     "text": [
      "<class 'matplotlib.figure.Figure'> <class 'numpy.ndarray'> (2,)\n"
     ]
    },
    {
     "data": {
      "text/plain": [
       "<matplotlib.axes._subplots.AxesSubplot at 0x11ae8d278>"
      ]
     },
     "execution_count": 78,
     "metadata": {},
     "output_type": "execute_result"
    },
    {
     "data": {
      "image/png": "[encoded data removed]",
      "text/plain": [
       "<Figure size 432x288 with 2 Axes>"
      ]
     },
     "metadata": {
      "needs_background": "light"
     },
     "output_type": "display_data"
    }
   ],
   "source": [
    "# This formats the plots such that they appear on separate rows\n",
    "fig, axes = plt.subplots(nrows=2, ncols=1)\n",
    "print(type(fig), type(axes), axes.shape)\n",
    "\n",
    "# Read data into DataFrame\n",
    "df = pd.read_csv('data/tips.csv')\n",
    "\n",
    "# Plot the PDF\n",
    "df.fraction.plot(ax=axes[0], kind='hist', normed=True, bins=30, range=(0, 0.3))\n",
    "\n",
    "# Plot the CDF\n",
    "df.fraction.plot(ax=axes[1], kind='hist', normed=True, bins=30, cumulative=True, range=(0, 0.3))"
   ]
  },
  {
   "cell_type": "markdown",
   "metadata": {},
   "source": [
    "### Statistical EDA"
   ]
  },
  {
   "cell_type": "markdown",
   "metadata": {},
   "source": [
    "#### Median"
   ]
  },
  {
   "cell_type": "code",
   "execution_count": 79,
   "metadata": {},
   "outputs": [
    {
     "data": {
      "text/plain": [
       "22.75"
      ]
     },
     "execution_count": 79,
     "metadata": {},
     "output_type": "execute_result"
    }
   ],
   "source": [
    "df = pd.read_csv('data/auto-mpg.csv')\n",
    "\n",
    "df.mpg.median()"
   ]
  },
  {
   "cell_type": "markdown",
   "metadata": {},
   "source": [
    "#### Mean"
   ]
  },
  {
   "cell_type": "code",
   "execution_count": 84,
   "metadata": {},
   "outputs": [
    {
     "name": "stdout",
     "output_type": "stream",
     "text": [
      "0.8\n",
      "19.0\n"
     ]
    },
    {
     "data": {
      "text/plain": [
       "<matplotlib.axes._subplots.AxesSubplot at 0x117f2f400>"
      ]
     },
     "execution_count": 84,
     "metadata": {},
     "output_type": "execute_result"
    },
    {
     "data": {
      "image/png": "[encoded data removed]",
      "text/plain": [
       "<Figure size 432x288 with 1 Axes>"
      ]
     },
     "metadata": {
      "needs_background": "light"
     },
     "output_type": "display_data"
    }
   ],
   "source": [
    "df = pd.read_csv('data/percent-bachelors-degrees-women-usa.csv')\n",
    "\n",
    "# The minimum value of the Engineering column\n",
    "print(df.Engineering.min())\n",
    "\n",
    "# The maximum value of the Engineering column\n",
    "print(df.Engineering.max())\n",
    "\n",
    "# The mean percentage per year\n",
    "mean = df.mean(axis='columns')\n",
    "\n",
    "# Plot the yearly mean percentage\n",
    "mean.plot()"
   ]
  },
  {
   "cell_type": "markdown",
   "metadata": {},
   "source": [
    "#### Median vs Mean"
   ]
  },
  {
   "cell_type": "code",
   "execution_count": 86,
   "metadata": {},
   "outputs": [
    {
     "name": "stdout",
     "output_type": "stream",
     "text": [
      "count    1308.000000\n",
      "mean       33.295479\n",
      "std        51.758668\n",
      "min         0.000000\n",
      "25%         7.895800\n",
      "50%        14.454200\n",
      "75%        31.275000\n",
      "max       512.329200\n",
      "Name: fare, dtype: float64\n"
     ]
    }
   ],
   "source": [
    "df = pd.read_csv('data/titanic.csv')\n",
    "\n",
    "# Print summary statistics of the fare column with describe\n",
    "print(df.fare.describe())"
   ]
  },
  {
   "cell_type": "code",
   "execution_count": 87,
   "metadata": {},
   "outputs": [
    {
     "data": {
      "text/plain": [
       "<matplotlib.axes._subplots.AxesSubplot at 0x11a9f3208>"
      ]
     },
     "execution_count": 87,
     "metadata": {},
     "output_type": "execute_result"
    },
    {
     "data": {
      "image/png": "[encoded data removed]",
      "text/plain": [
       "<Figure size 432x288 with 1 Axes>"
      ]
     },
     "metadata": {
      "needs_background": "light"
     },
     "output_type": "display_data"
    }
   ],
   "source": [
    "df.fare.plot(kind='box')"
   ]
  },
  {
   "cell_type": "markdown",
   "metadata": {},
   "source": [
    "#### Quantiles"
   ]
  },
  {
   "cell_type": "code",
   "execution_count": 93,
   "metadata": {},
   "outputs": [
    {
     "name": "stdout",
     "output_type": "stream",
     "text": [
      "209\n",
      "      Unnamed: 0   1800   1801   1802  1803  1804   1805   1806   1807  1808  \\\n",
      "0.05       12.95  25.40  25.30  25.20  25.2  25.2  25.40  25.40  25.40  25.3   \n",
      "0.95      246.05  37.92  37.35  38.37  38.0  38.3  38.37  38.37  38.37  38.0   \n",
      "\n",
      "      ...   2007   2008    2009    2010   2011    2012    2013   2014    2015  \\\n",
      "0.05  ...  53.07  53.60  54.235  54.935  55.97  56.335  56.705  56.87  57.855   \n",
      "0.95  ...  80.73  80.93  81.200  81.365  81.60  81.665  81.830  82.00  82.100   \n",
      "\n",
      "         2016  \n",
      "0.05  59.2555  \n",
      "0.95  82.1650  \n",
      "\n",
      "[2 rows x 218 columns]\n"
     ]
    },
    {
     "data": {
      "image/png": "[encoded data removed]",
      "text/plain": [
       "<Figure size 432x288 with 1 Axes>"
      ]
     },
     "metadata": {
      "needs_background": "light"
     },
     "output_type": "display_data"
    }
   ],
   "source": [
    "df = pd.read_csv('data/life_expectancy_at_birth.csv')\n",
    "\n",
    "# Print the number of countries reported in 2015\n",
    "print(df['2005'].count())\n",
    "\n",
    "# Print the 5th and 95th percentiles\n",
    "print(df.quantile([0.05, 0.95]))\n",
    "\n",
    "# Generate a boxplot\n",
    "years = ['1800', '1850', '1900', '1950', '2000']\n",
    "df[years].plot(kind='box')\n",
    "plt.show()"
   ]
  },
  {
   "cell_type": "markdown",
   "metadata": {},
   "source": [
    "#### Standard Deviation"
   ]
  },
  {
   "cell_type": "code",
   "execution_count": 96,
   "metadata": {},
   "outputs": [
    {
     "name": "stdout",
     "output_type": "stream",
     "text": [
      "Index(['Temperature', 'DewPoint', 'Pressure', 'Date'], dtype='object')\n",
      "   Temperature  DewPoint  Pressure            Date\n",
      "0         46.2      37.5       1.0  20100101 00:00\n",
      "1         44.6      37.1       1.0  20100101 01:00\n",
      "2         44.1      36.9       1.0  20100101 02:00\n",
      "3         43.8      36.9       1.0  20100101 03:00\n",
      "4         43.5      36.8       1.0  20100101 04:00\n"
     ]
    }
   ],
   "source": [
    "df = pd.read_csv('data/weather_data_austin_2010.csv')\n",
    "print(df.columns)\n",
    "print(df.head())"
   ]
  },
  {
   "cell_type": "code",
   "execution_count": 100,
   "metadata": {},
   "outputs": [
    {
     "data": {
      "text/plain": [
       "dtype('<M8[ns]')"
      ]
     },
     "execution_count": 100,
     "metadata": {},
     "output_type": "execute_result"
    }
   ],
   "source": [
    "df['Date'] = pd.to_datetime(df['Date'], format='%Y%m%d %H:%M')\n",
    "df.Date.dtype"
   ]
  },
  {
   "cell_type": "code",
   "execution_count": 102,
   "metadata": {},
   "outputs": [
    {
     "name": "stdout",
     "output_type": "stream",
     "text": [
      "   Temperature  DewPoint  Pressure                Date\n",
      "0         46.2      37.5       1.0 2010-01-01 00:00:00\n",
      "1         44.6      37.1       1.0 2010-01-01 01:00:00\n",
      "2         44.1      36.9       1.0 2010-01-01 02:00:00\n",
      "3         43.8      36.9       1.0 2010-01-01 03:00:00\n",
      "4         43.5      36.8       1.0 2010-01-01 04:00:00\n",
      "(744, 4)\n"
     ]
    }
   ],
   "source": [
    "jan = df[df['Date'].dt.month == 1]\n",
    "print(jan.head())\n",
    "print(jan.shape)"
   ]
  },
  {
   "cell_type": "code",
   "execution_count": 103,
   "metadata": {},
   "outputs": [
    {
     "name": "stdout",
     "output_type": "stream",
     "text": [
      "(743, 4)\n"
     ]
    }
   ],
   "source": [
    "mar = df[df['Date'].dt.month == 3]\n",
    "print(mar.shape)"
   ]
  },
  {
   "cell_type": "code",
   "execution_count": 104,
   "metadata": {},
   "outputs": [
    {
     "name": "stdout",
     "output_type": "stream",
     "text": [
      "49.9873655913979 60.8955585464334\n",
      "5.90756765806953 6.479669152231178\n"
     ]
    }
   ],
   "source": [
    "print(jan.Temperature.mean(), mar.Temperature.mean())\n",
    "print(jan.Temperature.std(), mar.Temperature.std())"
   ]
  },
  {
   "cell_type": "markdown",
   "metadata": {},
   "source": [
    "### Separating Populations"
   ]
  },
  {
   "cell_type": "markdown",
   "metadata": {},
   "source": [
    "#### Filtering and Counting"
   ]
  },
  {
   "cell_type": "code",
   "execution_count": 106,
   "metadata": {},
   "outputs": [
    {
     "name": "stdout",
     "output_type": "stream",
     "text": [
      "Index(['mpg', 'cyl', 'displ', 'hp', 'weight', 'accel', 'yr', 'origin', 'name'], dtype='object')\n"
     ]
    }
   ],
   "source": [
    "df = pd.read_csv('data/auto-mpg.csv')\n",
    "print(df.columns)"
   ]
  },
  {
   "cell_type": "code",
   "execution_count": 108,
   "metadata": {},
   "outputs": [
    {
     "data": {
      "text/plain": [
       "mpg       79\n",
       "cyl       79\n",
       "displ     79\n",
       "hp        79\n",
       "weight    79\n",
       "accel     79\n",
       "yr        79\n",
       "origin    79\n",
       "name      79\n",
       "dtype: int64"
      ]
     },
     "execution_count": 108,
     "metadata": {},
     "output_type": "execute_result"
    }
   ],
   "source": [
    "df[df['origin'] == 'Asia'].count()"
   ]
  },
  {
   "cell_type": "markdown",
   "metadata": {},
   "source": [
    "#### Separate and Plot"
   ]
  },
  {
   "cell_type": "code",
   "execution_count": 109,
   "metadata": {},
   "outputs": [
    {
     "name": "stdout",
     "output_type": "stream",
     "text": [
      "Index(['pclass', 'survived', 'name', 'sex', 'age', 'sibsp', 'parch', 'ticket',\n",
      "       'fare', 'cabin', 'embarked', 'boat', 'body', 'home.dest'],\n",
      "      dtype='object')\n"
     ]
    }
   ],
   "source": [
    "df = pd.read_csv('data/titanic.csv')\n",
    "print(df.columns)"
   ]
  },
  {
   "cell_type": "code",
   "execution_count": 111,
   "metadata": {},
   "outputs": [
    {
     "data": {
      "text/plain": [
       "<matplotlib.axes._subplots.AxesSubplot at 0x11b7949b0>"
      ]
     },
     "execution_count": 111,
     "metadata": {},
     "output_type": "execute_result"
    },
    {
     "data": {
      "image/png": "[encoded data removed]",
      "text/plain": [
       "<Figure size 432x288 with 3 Axes>"
      ]
     },
     "metadata": {
      "needs_background": "light"
     },
     "output_type": "display_data"
    }
   ],
   "source": [
    "# Display the boxplots on 3 separate rows and 1 column\n",
    "fig, axes = plt.subplots(nrows=3, ncols=1)\n",
    "\n",
    "# Generate a boxplot of the fare prices for First class passengers\n",
    "df[df['pclass'] == 1].plot(ax=axes[0], y='fare', kind='box')\n",
    "\n",
    "# Generate a boxplot of the fare prices for Second class passengers\n",
    "df[df['pclass'] == 2].plot(ax=axes[1], y='fare', kind='box')\n",
    "\n",
    "# Generate a boxplot of the fare prices for Third class passengers\n",
    "df[df['pclass'] == 3].plot(ax=axes[2], y='fare', kind='box')"
   ]
  },
  {
   "cell_type": "markdown",
   "metadata": {},
   "source": [
    "### Indexing Time Series"
   ]
  },
  {
   "cell_type": "markdown",
   "metadata": {},
   "source": [
    "#### Reading and Slicing Times"
   ]
  },
  {
   "cell_type": "code",
   "execution_count": 5,
   "metadata": {},
   "outputs": [
    {
     "name": "stdout",
     "output_type": "stream",
     "text": [
      "   Temperature  DewPoint  Pressure            Date\n",
      "0         46.2      37.5       1.0  20100101 00:00\n",
      "1         44.6      37.1       1.0  20100101 01:00\n",
      "2         44.1      36.9       1.0  20100101 02:00\n",
      "3         43.8      36.9       1.0  20100101 03:00\n",
      "4         43.5      36.8       1.0  20100101 04:00\n",
      "<class 'pandas.core.frame.DataFrame'>\n",
      "RangeIndex: 8759 entries, 0 to 8758\n",
      "Data columns (total 4 columns):\n",
      "Temperature    8759 non-null float64\n",
      "DewPoint       8759 non-null float64\n",
      "Pressure       8759 non-null float64\n",
      "Date           8759 non-null object\n",
      "dtypes: float64(3), object(1)\n",
      "memory usage: 273.8+ KB\n",
      "None\n"
     ]
    }
   ],
   "source": [
    "import pandas as pd\n",
    "\n",
    "df = pd.read_csv('data/weather_data_austin_2010.csv')\n",
    "print(df.head())\n",
    "print(df.info())"
   ]
  },
  {
   "cell_type": "code",
   "execution_count": 6,
   "metadata": {},
   "outputs": [
    {
     "name": "stdout",
     "output_type": "stream",
     "text": [
      "   Temperature  DewPoint  Pressure                Date\n",
      "0         46.2      37.5       1.0 2010-01-01 00:00:00\n",
      "1         44.6      37.1       1.0 2010-01-01 01:00:00\n",
      "2         44.1      36.9       1.0 2010-01-01 02:00:00\n",
      "3         43.8      36.9       1.0 2010-01-01 03:00:00\n",
      "4         43.5      36.8       1.0 2010-01-01 04:00:00\n",
      "<class 'pandas.core.frame.DataFrame'>\n",
      "RangeIndex: 8759 entries, 0 to 8758\n",
      "Data columns (total 4 columns):\n",
      "Temperature    8759 non-null float64\n",
      "DewPoint       8759 non-null float64\n",
      "Pressure       8759 non-null float64\n",
      "Date           8759 non-null datetime64[ns]\n",
      "dtypes: datetime64[ns](1), float64(3)\n",
      "memory usage: 273.8 KB\n",
      "None\n"
     ]
    }
   ],
   "source": [
    "df = pd.read_csv('data/weather_data_austin_2010.csv', parse_dates=['Date'])\n",
    "print(df.head())\n",
    "print(df.info())"
   ]
  },
  {
   "cell_type": "code",
   "execution_count": 8,
   "metadata": {},
   "outputs": [
    {
     "name": "stdout",
     "output_type": "stream",
     "text": [
      "                     Temperature  DewPoint  Pressure\n",
      "Date                                                \n",
      "2010-01-01 00:00:00         46.2      37.5       1.0\n",
      "2010-01-01 01:00:00         44.6      37.1       1.0\n",
      "2010-01-01 02:00:00         44.1      36.9       1.0\n",
      "2010-01-01 03:00:00         43.8      36.9       1.0\n",
      "2010-01-01 04:00:00         43.5      36.8       1.0\n",
      "<class 'pandas.core.frame.DataFrame'>\n",
      "DatetimeIndex: 8759 entries, 2010-01-01 00:00:00 to 2010-12-31 23:00:00\n",
      "Data columns (total 3 columns):\n",
      "Temperature    8759 non-null float64\n",
      "DewPoint       8759 non-null float64\n",
      "Pressure       8759 non-null float64\n",
      "dtypes: float64(3)\n",
      "memory usage: 273.7 KB\n",
      "None\n"
     ]
    }
   ],
   "source": [
    "df = pd.read_csv('data/weather_data_austin_2010.csv', index_col='Date',\n",
    "                  parse_dates=True)\n",
    "print(df.head())\n",
    "print(df.info())"
   ]
  },
  {
   "cell_type": "code",
   "execution_count": 9,
   "metadata": {},
   "outputs": [
    {
     "name": "stdout",
     "output_type": "stream",
     "text": [
      "                     Temperature  DewPoint  Pressure\n",
      "Date                                                \n",
      "2010-08-01 00:00:00         79.0      70.8       1.0\n",
      "2010-08-01 01:00:00         77.4      71.2       1.0\n",
      "2010-08-01 02:00:00         76.4      71.3       1.0\n",
      "2010-08-01 03:00:00         75.7      71.4       1.0\n",
      "2010-08-01 04:00:00         75.1      71.4       1.0\n",
      "2010-08-01 05:00:00         74.6      71.3       1.0\n",
      "2010-08-01 06:00:00         74.5      71.3       1.0\n",
      "2010-08-01 07:00:00         76.0      72.3       1.0\n",
      "2010-08-01 08:00:00         79.8      72.8       1.0\n",
      "2010-08-01 09:00:00         83.3      72.1       1.0\n",
      "2010-08-01 10:00:00         86.6      71.1       1.0\n",
      "2010-08-01 11:00:00         89.3      70.2       1.0\n",
      "2010-08-01 12:00:00         91.6      69.1       1.0\n",
      "2010-08-01 13:00:00         93.2      68.4       1.0\n",
      "2010-08-01 14:00:00         94.4      67.6       1.0\n",
      "2010-08-01 15:00:00         95.0      67.1       1.0\n",
      "2010-08-01 16:00:00         94.8      66.8       1.0\n",
      "2010-08-01 17:00:00         93.9      66.9       1.0\n",
      "2010-08-01 18:00:00         92.4      66.7       1.0\n",
      "2010-08-01 19:00:00         89.9      67.7       1.0\n",
      "2010-08-01 20:00:00         86.1      68.6       1.0\n",
      "2010-08-01 21:00:00         83.6      69.5       1.0\n",
      "2010-08-01 22:00:00         81.8      70.3       1.0\n",
      "2010-08-01 23:00:00         80.0      70.7       1.0\n"
     ]
    }
   ],
   "source": [
    "print(df.loc['2010-Aug-01'])"
   ]
  },
  {
   "cell_type": "markdown",
   "metadata": {},
   "source": [
    "#### Creating and Using a DatetimeIndex"
   ]
  },
  {
   "cell_type": "code",
   "execution_count": 14,
   "metadata": {},
   "outputs": [
    {
     "name": "stdout",
     "output_type": "stream",
     "text": [
      "   Temperature  DewPoint  Pressure            Date\n",
      "0         46.2      37.5       1.0  20100101 00:00\n",
      "1         44.6      37.1       1.0  20100101 01:00\n",
      "2         44.1      36.9       1.0  20100101 02:00\n",
      "3         43.8      36.9       1.0  20100101 03:00\n",
      "4         43.5      36.8       1.0  20100101 04:00\n",
      "Date\n",
      "2010-01-01 00:00:00    46.2\n",
      "2010-01-01 01:00:00    44.6\n",
      "2010-01-01 02:00:00    44.1\n",
      "2010-01-01 03:00:00    43.8\n",
      "2010-01-01 04:00:00    43.5\n",
      "dtype: float64\n"
     ]
    }
   ],
   "source": [
    "df = pd.read_csv('data/weather_data_austin_2010.csv')\n",
    "print(df.head())\n",
    "\n",
    "# A format string\n",
    "time_format = '%Y-%m-%d %H:%M'\n",
    "\n",
    "# Convert string to datetime\n",
    "df['Date'] = pd.to_datetime(df['Date'], format=time_format)\n",
    "\n",
    "ts = pd.Series(df['Temperature'].array, index=df['Date'])\n",
    "print(ts.head())"
   ]
  },
  {
   "cell_type": "markdown",
   "metadata": {},
   "source": [
    "#### Partial String Indexing and Slicing"
   ]
  },
  {
   "cell_type": "code",
   "execution_count": 17,
   "metadata": {},
   "outputs": [
    {
     "name": "stdout",
     "output_type": "stream",
     "text": [
      "Date\n",
      "2010-10-11 21:00:00    69.0\n",
      "2010-10-11 22:00:00    67.7\n",
      "dtype: float64\n"
     ]
    }
   ],
   "source": [
    "# Extract data from 9pm to 10pm on 2010-10-11\n",
    "print(ts.loc['2010-10-11 21:00:00':'2010-10-11 22:00:00'])"
   ]
  },
  {
   "cell_type": "code",
   "execution_count": 16,
   "metadata": {},
   "outputs": [
    {
     "name": "stdout",
     "output_type": "stream",
     "text": [
      "Date\n",
      "2010-07-04 00:00:00    77.6\n",
      "2010-07-04 01:00:00    76.3\n",
      "2010-07-04 02:00:00    75.5\n",
      "2010-07-04 03:00:00    74.9\n",
      "2010-07-04 04:00:00    74.6\n",
      "2010-07-04 05:00:00    74.2\n",
      "2010-07-04 06:00:00    74.4\n",
      "2010-07-04 07:00:00    76.0\n",
      "2010-07-04 08:00:00    79.0\n",
      "2010-07-04 09:00:00    81.8\n",
      "2010-07-04 10:00:00    84.6\n",
      "2010-07-04 11:00:00    86.8\n",
      "2010-07-04 12:00:00    88.9\n",
      "2010-07-04 13:00:00    90.1\n",
      "2010-07-04 14:00:00    91.1\n",
      "2010-07-04 15:00:00    91.6\n",
      "2010-07-04 16:00:00    91.5\n",
      "2010-07-04 17:00:00    90.7\n",
      "2010-07-04 18:00:00    89.5\n",
      "2010-07-04 19:00:00    87.3\n",
      "2010-07-04 20:00:00    84.0\n",
      "2010-07-04 21:00:00    81.8\n",
      "2010-07-04 22:00:00    80.0\n",
      "2010-07-04 23:00:00    78.5\n",
      "dtype: float64\n"
     ]
    }
   ],
   "source": [
    "# Extract data on 2010-07-04\n",
    "print(ts.loc['2010-07-04'])"
   ]
  },
  {
   "cell_type": "code",
   "execution_count": 18,
   "metadata": {},
   "outputs": [
    {
     "name": "stdout",
     "output_type": "stream",
     "text": [
      "Date\n",
      "2010-12-15 00:00:00    48.0\n",
      "2010-12-15 01:00:00    47.2\n",
      "2010-12-15 02:00:00    46.5\n",
      "2010-12-15 03:00:00    46.0\n",
      "2010-12-15 04:00:00    45.6\n",
      "2010-12-15 05:00:00    45.3\n",
      "2010-12-15 06:00:00    45.6\n",
      "2010-12-15 07:00:00    45.0\n",
      "2010-12-15 08:00:00    45.8\n",
      "2010-12-15 09:00:00    49.1\n",
      "2010-12-15 10:00:00    52.2\n",
      "2010-12-15 11:00:00    54.9\n",
      "2010-12-15 12:00:00    57.2\n",
      "2010-12-15 13:00:00    58.9\n",
      "2010-12-15 14:00:00    60.2\n",
      "2010-12-15 15:00:00    60.9\n",
      "2010-12-15 16:00:00    60.5\n",
      "2010-12-15 17:00:00    59.1\n",
      "2010-12-15 18:00:00    55.8\n",
      "2010-12-15 19:00:00    52.5\n",
      "2010-12-15 20:00:00    50.7\n",
      "2010-12-15 21:00:00    49.6\n",
      "2010-12-15 22:00:00    48.6\n",
      "2010-12-15 23:00:00    47.7\n",
      "2010-12-16 00:00:00    47.6\n",
      "2010-12-16 01:00:00    46.7\n",
      "2010-12-16 02:00:00    46.1\n",
      "2010-12-16 03:00:00    45.6\n",
      "2010-12-16 04:00:00    45.2\n",
      "2010-12-16 05:00:00    44.8\n",
      "                       ... \n",
      "2010-12-30 18:00:00    54.1\n",
      "2010-12-30 19:00:00    50.9\n",
      "2010-12-30 20:00:00    49.0\n",
      "2010-12-30 21:00:00    47.9\n",
      "2010-12-30 22:00:00    46.9\n",
      "2010-12-30 23:00:00    46.1\n",
      "2010-12-31 00:00:00    46.1\n",
      "2010-12-31 01:00:00    44.5\n",
      "2010-12-31 02:00:00    44.1\n",
      "2010-12-31 03:00:00    43.7\n",
      "2010-12-31 04:00:00    43.5\n",
      "2010-12-31 05:00:00    42.9\n",
      "2010-12-31 06:00:00    43.0\n",
      "2010-12-31 07:00:00    42.2\n",
      "2010-12-31 08:00:00    42.5\n",
      "2010-12-31 09:00:00    46.0\n",
      "2010-12-31 10:00:00    49.4\n",
      "2010-12-31 11:00:00    52.4\n",
      "2010-12-31 12:00:00    54.7\n",
      "2010-12-31 13:00:00    56.9\n",
      "2010-12-31 14:00:00    58.2\n",
      "2010-12-31 15:00:00    58.8\n",
      "2010-12-31 16:00:00    58.8\n",
      "2010-12-31 17:00:00    57.6\n",
      "2010-12-31 18:00:00    54.3\n",
      "2010-12-31 19:00:00    51.1\n",
      "2010-12-31 20:00:00    49.0\n",
      "2010-12-31 21:00:00    47.9\n",
      "2010-12-31 22:00:00    46.9\n",
      "2010-12-31 23:00:00    46.2\n",
      "Length: 408, dtype: float64\n"
     ]
    }
   ],
   "source": [
    "# Extract data from 2010-12-15 to 2010-12-31\n",
    "print(ts.loc['2010-12-15':'2010-12-31'])"
   ]
  },
  {
   "cell_type": "markdown",
   "metadata": {},
   "source": [
    "#### Reindexing"
   ]
  },
  {
   "cell_type": "code",
   "execution_count": 26,
   "metadata": {},
   "outputs": [
    {
     "name": "stdout",
     "output_type": "stream",
     "text": [
      "0    46.2\n",
      "1    44.6\n",
      "2    44.1\n",
      "3    43.8\n",
      "4    43.5\n",
      "dtype: float64\n",
      "RangeIndex(start=0, stop=8759, step=1)\n"
     ]
    }
   ],
   "source": [
    "ts2 = pd.Series(df['Temperature'].array)\n",
    "print(ts2.head())\n",
    "print(ts2.index)"
   ]
  },
  {
   "cell_type": "code",
   "execution_count": 29,
   "metadata": {},
   "outputs": [
    {
     "name": "stdout",
     "output_type": "stream",
     "text": [
      "Date\n",
      "2010-01-01 00:00:00    46.2\n",
      "2010-01-01 01:00:00    44.6\n",
      "2010-01-01 02:00:00    44.1\n",
      "2010-01-01 03:00:00    43.8\n",
      "2010-01-01 04:00:00    43.5\n",
      "dtype: float64\n",
      "DatetimeIndex(['2010-01-01 00:00:00', '2010-01-01 01:00:00',\n",
      "               '2010-01-01 02:00:00', '2010-01-01 03:00:00',\n",
      "               '2010-01-01 04:00:00', '2010-01-01 05:00:00',\n",
      "               '2010-01-01 06:00:00', '2010-01-01 07:00:00',\n",
      "               '2010-01-01 08:00:00', '2010-01-01 09:00:00',\n",
      "               ...\n",
      "               '2010-12-31 14:00:00', '2010-12-31 15:00:00',\n",
      "               '2010-12-31 16:00:00', '2010-12-31 17:00:00',\n",
      "               '2010-12-31 18:00:00', '2010-12-31 19:00:00',\n",
      "               '2010-12-31 20:00:00', '2010-12-31 21:00:00',\n",
      "               '2010-12-31 22:00:00', '2010-12-31 23:00:00'],\n",
      "              dtype='datetime64[ns]', name='Date', length=8759, freq=None)\n"
     ]
    }
   ],
   "source": [
    "ts2 = ts.reindex(ts.index, method='ffill')\n",
    "print(ts2.head())\n",
    "print(ts2.index)"
   ]
  },
  {
   "cell_type": "markdown",
   "metadata": {},
   "source": [
    "### Resampling time series"
   ]
  },
  {
   "cell_type": "markdown",
   "metadata": {},
   "source": [
    "#### Resampling and Frequency"
   ]
  },
  {
   "cell_type": "code",
   "execution_count": 33,
   "metadata": {},
   "outputs": [
    {
     "name": "stdout",
     "output_type": "stream",
     "text": [
      "                     Temperature  DewPoint  Pressure\n",
      "Date                                                \n",
      "2010-01-01 00:00:00         46.2      37.5       1.0\n",
      "2010-01-01 01:00:00         44.6      37.1       1.0\n",
      "2010-01-01 02:00:00         44.1      36.9       1.0\n",
      "2010-01-01 03:00:00         43.8      36.9       1.0\n",
      "2010-01-01 04:00:00         43.5      36.8       1.0\n",
      "Date\n",
      "2010-01-01 00:00:00    44.200000\n",
      "2010-01-01 06:00:00    45.933333\n",
      "2010-01-01 12:00:00    57.766667\n",
      "2010-01-01 18:00:00    49.450000\n",
      "2010-01-02 00:00:00    44.516667\n",
      "Freq: 6H, Name: Temperature, dtype: float64\n"
     ]
    }
   ],
   "source": [
    "df = pd.read_csv('data/weather_data_austin_2010.csv', index_col='Date', \n",
    "                 parse_dates=['Date'])\n",
    "print(df.head())\n",
    "# Downsample to 6 hour data and aggregate by mean\n",
    "df1 = df['Temperature'].resample('6h').mean()\n",
    "print(df1.head())"
   ]
  },
  {
   "cell_type": "code",
   "execution_count": 34,
   "metadata": {},
   "outputs": [
    {
     "name": "stdout",
     "output_type": "stream",
     "text": [
      "Date\n",
      "2010-01-01    24\n",
      "2010-01-02    24\n",
      "2010-01-03    24\n",
      "2010-01-04    24\n",
      "2010-01-05    24\n",
      "Freq: D, Name: Temperature, dtype: int64\n"
     ]
    }
   ],
   "source": [
    "# Downsample to daily data\n",
    "df2 = df['Temperature'].resample('D').count()\n",
    "print(df2.head())"
   ]
  },
  {
   "cell_type": "markdown",
   "metadata": {},
   "source": [
    "#### Rolling Mean and Frequency"
   ]
  },
  {
   "cell_type": "code",
   "execution_count": 43,
   "metadata": {},
   "outputs": [
    {
     "name": "stdout",
     "output_type": "stream",
     "text": [
      "Date\n",
      "2010-08-31 19:00:00    86.6\n",
      "2010-08-31 20:00:00    83.4\n",
      "2010-08-31 21:00:00    81.2\n",
      "2010-08-31 22:00:00    79.7\n",
      "2010-08-31 23:00:00    78.2\n",
      "Name: Temperature, dtype: float64\n"
     ]
    }
   ],
   "source": [
    "# Extract data from 2010-08-01 to 2010-08-15\n",
    "unsmoothed = df['Temperature']['2010-08-01':'2010-08-31']\n",
    "print(unsmoothed.tail())"
   ]
  },
  {
   "cell_type": "code",
   "execution_count": 44,
   "metadata": {},
   "outputs": [
    {
     "name": "stdout",
     "output_type": "stream",
     "text": [
      "Date\n",
      "2010-08-31 19:00:00    82.704167\n",
      "2010-08-31 20:00:00    82.691667\n",
      "2010-08-31 21:00:00    82.679167\n",
      "2010-08-31 22:00:00    82.670833\n",
      "2010-08-31 23:00:00    82.662500\n",
      "Name: Temperature, dtype: float64\n"
     ]
    }
   ],
   "source": [
    "# Apply a rolling mean with a 24 hour window\n",
    "smoothed = unsmoothed.rolling(window=24).mean()\n",
    "print(smoothed.tail())"
   ]
  },
  {
   "cell_type": "code",
   "execution_count": 46,
   "metadata": {},
   "outputs": [
    {
     "data": {
      "image/png": "[encoded data removed]",
      "text/plain": [
       "<Figure size 432x288 with 1 Axes>"
      ]
     },
     "metadata": {
      "needs_background": "light"
     },
     "output_type": "display_data"
    }
   ],
   "source": [
    "# Create a DataFrame with columns smoothed and unsmoothed\n",
    "august = pd.DataFrame({'smoothed': smoothed, 'unsmoothed': unsmoothed})\n",
    "\n",
    "# Plot both smoothed and unsmoothed data\n",
    "import matplotlib.pyplot as plt\n",
    "august.plot()\n",
    "plt.show()"
   ]
  },
  {
   "cell_type": "markdown",
   "metadata": {},
   "source": [
    "#### Resample and Roll with It"
   ]
  },
  {
   "cell_type": "code",
   "execution_count": 47,
   "metadata": {},
   "outputs": [
    {
     "name": "stdout",
     "output_type": "stream",
     "text": [
      "Date\n",
      "2010-08-01          NaN\n",
      "2010-08-02          NaN\n",
      "2010-08-03          NaN\n",
      "2010-08-04          NaN\n",
      "2010-08-05          NaN\n",
      "2010-08-06          NaN\n",
      "2010-08-07    95.114286\n",
      "2010-08-08    95.142857\n",
      "2010-08-09    95.171429\n",
      "2010-08-10    95.171429\n",
      "2010-08-11    95.157143\n",
      "2010-08-12    95.128571\n",
      "2010-08-13    95.100000\n",
      "2010-08-14    95.042857\n",
      "2010-08-15    94.971429\n",
      "2010-08-16    94.900000\n",
      "2010-08-17    94.857143\n",
      "2010-08-18    94.828571\n",
      "2010-08-19    94.814286\n",
      "2010-08-20    94.785714\n",
      "2010-08-21    94.757143\n",
      "2010-08-22    94.742857\n",
      "2010-08-23    94.714286\n",
      "2010-08-24    94.642857\n",
      "2010-08-25    94.542857\n",
      "2010-08-26    94.428571\n",
      "2010-08-27    94.271429\n",
      "2010-08-28    94.100000\n",
      "2010-08-29    93.914286\n",
      "2010-08-30    93.742857\n",
      "2010-08-31    93.571429\n",
      "Freq: D, Name: Temperature, dtype: float64\n"
     ]
    }
   ],
   "source": [
    "# Extract August 2010 data\n",
    "august = df['Temperature']['2010-08']\n",
    "\n",
    "# Resample to daily data, aggregating by max\n",
    "daily_highs = august.resample('D').max()\n",
    "\n",
    "# Use a rolling 7-day window with method chaining to smooth the daily high temperatures\n",
    "daily_highs_smoothed = daily_highs.rolling(window=7).mean()\n",
    "print(daily_highs_smoothed)"
   ]
  },
  {
   "cell_type": "markdown",
   "metadata": {},
   "source": [
    "### Manipulating Time Series"
   ]
  },
  {
   "cell_type": "markdown",
   "metadata": {},
   "source": [
    "#### Method Chaining and Filtering"
   ]
  },
  {
   "cell_type": "code",
   "execution_count": 142,
   "metadata": {},
   "outputs": [
    {
     "name": "stdout",
     "output_type": "stream",
     "text": [
      "                    Carrier Code  Flight Number Tail Number  \\\n",
      "Date (MM/DD/YYYY)                                             \n",
      "2015-07-01                    WN          103.0      N8607M   \n",
      "2015-07-01                    WN          144.0      N8609A   \n",
      "2015-07-01                    WN          178.0      N646SW   \n",
      "2015-07-01                    WN          232.0      N204WN   \n",
      "2015-07-01                    WN          238.0      N233LV   \n",
      "\n",
      "                  Destination Airport  Scheduled Departure Time  \\\n",
      "Date (MM/DD/YYYY)                                                 \n",
      "2015-07-01                         MDW                    06:30   \n",
      "2015-07-01                         SAN                    20:55   \n",
      "2015-07-01                         ELP                    20:30   \n",
      "2015-07-01                         ATL                    05:45   \n",
      "2015-07-01                         DAL                    12:30   \n",
      "\n",
      "                  Actual Departure Time  Scheduled Elapsed Time(Minutes)  \\\n",
      "Date (MM/DD/YYYY)                                                          \n",
      "2015-07-01                        06:52                            165.0   \n",
      "2015-07-01                        20:50                            170.0   \n",
      "2015-07-01                        20:45                             90.0   \n",
      "2015-07-01                        05:49                            135.0   \n",
      "2015-07-01                        12:34                             55.0   \n",
      "\n",
      "                   Actual Elapsed Time(Minutes)  Departure Delay(Minutes)  \\\n",
      "Date (MM/DD/YYYY)                                                           \n",
      "2015-07-01                                147.0                      22.0   \n",
      "2015-07-01                                158.0                      -5.0   \n",
      "2015-07-01                                 80.0                      15.0   \n",
      "2015-07-01                                137.0                       4.0   \n",
      "2015-07-01                                 48.0                       4.0   \n",
      "\n",
      "                  Wheels-off Time  Taxi-out Time(Minutes)  \\\n",
      "Date (MM/DD/YYYY)                                           \n",
      "2015-07-01                  07:01                     9.0   \n",
      "2015-07-01                  21:03                    13.0   \n",
      "2015-07-01                  20:55                    10.0   \n",
      "2015-07-01                  06:01                    12.0   \n",
      "2015-07-01                  12:41                     7.0   \n",
      "\n",
      "                   DelayCarrier(Minutes)  DelayWeather(Minutes)  \\\n",
      "Date (MM/DD/YYYY)                                                 \n",
      "2015-07-01                           0.0                    0.0   \n",
      "2015-07-01                           0.0                    0.0   \n",
      "2015-07-01                           0.0                    0.0   \n",
      "2015-07-01                           0.0                    0.0   \n",
      "2015-07-01                           0.0                    0.0   \n",
      "\n",
      "                   DelayNational Aviation System(Minutes)  \\\n",
      "Date (MM/DD/YYYY)                                           \n",
      "2015-07-01                                            0.0   \n",
      "2015-07-01                                            0.0   \n",
      "2015-07-01                                            0.0   \n",
      "2015-07-01                                            0.0   \n",
      "2015-07-01                                            0.0   \n",
      "\n",
      "                   DelaySecurity(Minutes)  \\\n",
      "Date (MM/DD/YYYY)                           \n",
      "2015-07-01                            0.0   \n",
      "2015-07-01                            0.0   \n",
      "2015-07-01                            0.0   \n",
      "2015-07-01                            0.0   \n",
      "2015-07-01                            0.0   \n",
      "\n",
      "                   DelayLate Aircraft Arrival(Minutes)  Unnamed: 17  \n",
      "Date (MM/DD/YYYY)                                                    \n",
      "2015-07-01                                         0.0          NaN  \n",
      "2015-07-01                                         0.0          NaN  \n",
      "2015-07-01                                         0.0          NaN  \n",
      "2015-07-01                                         0.0          NaN  \n",
      "2015-07-01                                         0.0          NaN  \n",
      "Index(['  Carrier Code', 'Flight Number', 'Tail Number',\n",
      "       'Destination Airport ', 'Scheduled Departure Time',\n",
      "       'Actual Departure Time', 'Scheduled Elapsed Time(Minutes)',\n",
      "       'Actual Elapsed Time(Minutes)', 'Departure Delay(Minutes)',\n",
      "       'Wheels-off Time', 'Taxi-out Time(Minutes)', 'DelayCarrier(Minutes)',\n",
      "       'DelayWeather(Minutes)', 'DelayNational Aviation System(Minutes)',\n",
      "       'DelaySecurity(Minutes)', 'DelayLate Aircraft Arrival(Minutes)',\n",
      "       'Unnamed: 17'],\n",
      "      dtype='object')\n"
     ]
    }
   ],
   "source": [
    "df = pd.read_csv('data/austin_airport_departure_data_2015_july.csv', header=10, \n",
    "                 index_col='Date (MM/DD/YYYY)', parse_dates=True)\n",
    "print(df.head())\n",
    "print(df.columns)"
   ]
  },
  {
   "cell_type": "code",
   "execution_count": 143,
   "metadata": {},
   "outputs": [
    {
     "name": "stdout",
     "output_type": "stream",
     "text": [
      "Index(['Carrier Code', 'Flight Number', 'Tail Number', 'Destination Airport',\n",
      "       'Scheduled Departure Time', 'Actual Departure Time',\n",
      "       'Scheduled Elapsed Time(Minutes)', 'Actual Elapsed Time(Minutes)',\n",
      "       'Departure Delay(Minutes)', 'Wheels-off Time', 'Taxi-out Time(Minutes)',\n",
      "       'DelayCarrier(Minutes)', 'DelayWeather(Minutes)',\n",
      "       'DelayNational Aviation System(Minutes)', 'DelaySecurity(Minutes)',\n",
      "       'DelayLate Aircraft Arrival(Minutes)', 'Unnamed: 17'],\n",
      "      dtype='object')\n"
     ]
    }
   ],
   "source": [
    "# Strip extra whitespace from the column names\n",
    "df.columns = df.columns.str.strip()\n",
    "print(df.columns)"
   ]
  },
  {
   "cell_type": "code",
   "execution_count": 144,
   "metadata": {},
   "outputs": [
    {
     "name": "stdout",
     "output_type": "stream",
     "text": [
      "count    31.000000\n",
      "mean      9.322581\n",
      "std       1.989759\n",
      "min       3.000000\n",
      "25%       9.500000\n",
      "50%      10.000000\n",
      "75%      10.000000\n",
      "max      11.000000\n",
      "dtype: float64\n"
     ]
    }
   ],
   "source": [
    "# Extract data for which the destination airport is Dallas\n",
    "dallas = df['Destination Airport'].str.contains('DAL')\n",
    "\n",
    "# Compute the total number of Dallas departures each day\n",
    "daily_departures = dallas.resample('D').sum()\n",
    "\n",
    "# Generate the summary statistics for daily Dallas departures\n",
    "stats = daily_departures. describe()\n",
    "print(stats)"
   ]
  },
  {
   "cell_type": "markdown",
   "metadata": {},
   "source": [
    "#### Missing Values and Interpolation"
   ]
  },
  {
   "cell_type": "code",
   "execution_count": 129,
   "metadata": {},
   "outputs": [
    {
     "name": "stdout",
     "output_type": "stream",
     "text": [
      "2016-07-01     0\n",
      "2016-07-02     1\n",
      "2016-07-03     2\n",
      "2016-07-04     3\n",
      "2016-07-05     4\n",
      "2016-07-06     5\n",
      "2016-07-07     6\n",
      "2016-07-08     7\n",
      "2016-07-09     8\n",
      "2016-07-10     9\n",
      "2016-07-11    10\n",
      "2016-07-12    11\n",
      "2016-07-13    12\n",
      "2016-07-14    13\n",
      "2016-07-15    14\n",
      "2016-07-16    15\n",
      "2016-07-17    16\n",
      "Freq: D, dtype: int64\n"
     ]
    }
   ],
   "source": [
    "ts1 = pd.Series(data=list(range(17)), index=date_rng)\n",
    "print(ts1)"
   ]
  },
  {
   "cell_type": "code",
   "execution_count": 131,
   "metadata": {},
   "outputs": [
    {
     "name": "stdout",
     "output_type": "stream",
     "text": [
      "2016-07-01     0\n",
      "2016-07-04     1\n",
      "2016-07-05     2\n",
      "2016-07-06     3\n",
      "2016-07-07     4\n",
      "2016-07-08     5\n",
      "2016-07-11     6\n",
      "2016-07-12     7\n",
      "2016-07-13     8\n",
      "2016-07-14     9\n",
      "2016-07-15    10\n",
      "dtype: int64\n"
     ]
    }
   ],
   "source": [
    "date_rng2 = pd.to_datetime(['2016-07-01', '2016-07-04',\n",
    "               '2016-07-05', '2016-07-06', '2016-07-07', '2016-07-08',\n",
    "               '2016-07-11', '2016-07-12',\n",
    "               '2016-07-13', '2016-07-14', '2016-07-15'])\n",
    "ts2 = pd.Series(data=list(range(11)), index=date_rng2)\n",
    "print(ts2)"
   ]
  },
  {
   "cell_type": "code",
   "execution_count": 133,
   "metadata": {},
   "outputs": [
    {
     "name": "stdout",
     "output_type": "stream",
     "text": [
      "count    17.000000\n",
      "mean      2.882353\n",
      "std       1.585267\n",
      "min       0.000000\n",
      "25%       2.000000\n",
      "50%       2.666667\n",
      "75%       4.000000\n",
      "max       6.000000\n",
      "dtype: float64\n"
     ]
    }
   ],
   "source": [
    "# Reset ts2's index to ts1's and then use linear interpolation to fill in NaNs\n",
    "ts2_interpolated = ts2.reindex(ts1.index).interpolate(how='linear')\n",
    "\n",
    "differences = np.abs(ts1-ts2_interpolated)\n",
    "print(differences.describe())"
   ]
  },
  {
   "cell_type": "markdown",
   "metadata": {},
   "source": [
    "#### Time Zones and Conversion"
   ]
  },
  {
   "cell_type": "code",
   "execution_count": 145,
   "metadata": {},
   "outputs": [
    {
     "name": "stdout",
     "output_type": "stream",
     "text": [
      "  Carrier Code Date (MM/DD/YYYY)  Flight Number Tail Number  \\\n",
      "0           WN        07/01/2015          103.0      N8607M   \n",
      "1           WN        07/01/2015          144.0      N8609A   \n",
      "2           WN        07/01/2015          178.0      N646SW   \n",
      "3           WN        07/01/2015          232.0      N204WN   \n",
      "4           WN        07/01/2015          238.0      N233LV   \n",
      "\n",
      "  Destination Airport Scheduled Departure Time Actual Departure Time  \\\n",
      "0                 MDW                    06:30                 06:52   \n",
      "1                 SAN                    20:55                 20:50   \n",
      "2                 ELP                    20:30                 20:45   \n",
      "3                 ATL                    05:45                 05:49   \n",
      "4                 DAL                    12:30                 12:34   \n",
      "\n",
      "   Scheduled Elapsed Time(Minutes)  Actual Elapsed Time(Minutes)  \\\n",
      "0                            165.0                         147.0   \n",
      "1                            170.0                         158.0   \n",
      "2                             90.0                          80.0   \n",
      "3                            135.0                         137.0   \n",
      "4                             55.0                          48.0   \n",
      "\n",
      "   Departure Delay(Minutes) Wheels-off Time  Taxi-out Time(Minutes)  \\\n",
      "0                      22.0           07:01                     9.0   \n",
      "1                      -5.0           21:03                    13.0   \n",
      "2                      15.0           20:55                    10.0   \n",
      "3                       4.0           06:01                    12.0   \n",
      "4                       4.0           12:41                     7.0   \n",
      "\n",
      "   DelayCarrier(Minutes)  DelayWeather(Minutes)  \\\n",
      "0                    0.0                    0.0   \n",
      "1                    0.0                    0.0   \n",
      "2                    0.0                    0.0   \n",
      "3                    0.0                    0.0   \n",
      "4                    0.0                    0.0   \n",
      "\n",
      "   DelayNational Aviation System(Minutes)  DelaySecurity(Minutes)  \\\n",
      "0                                     0.0                     0.0   \n",
      "1                                     0.0                     0.0   \n",
      "2                                     0.0                     0.0   \n",
      "3                                     0.0                     0.0   \n",
      "4                                     0.0                     0.0   \n",
      "\n",
      "   DelayLate Aircraft Arrival(Minutes)  Unnamed: 17  \n",
      "0                                  0.0          NaN  \n",
      "1                                  0.0          NaN  \n",
      "2                                  0.0          NaN  \n",
      "3                                  0.0          NaN  \n",
      "4                                  0.0          NaN  \n",
      "Index(['Carrier Code', 'Date (MM/DD/YYYY)', 'Flight Number', 'Tail Number',\n",
      "       'Destination Airport', 'Scheduled Departure Time',\n",
      "       'Actual Departure Time', 'Scheduled Elapsed Time(Minutes)',\n",
      "       'Actual Elapsed Time(Minutes)', 'Departure Delay(Minutes)',\n",
      "       'Wheels-off Time', 'Taxi-out Time(Minutes)', 'DelayCarrier(Minutes)',\n",
      "       'DelayWeather(Minutes)', 'DelayNational Aviation System(Minutes)',\n",
      "       'DelaySecurity(Minutes)', 'DelayLate Aircraft Arrival(Minutes)',\n",
      "       'Unnamed: 17'],\n",
      "      dtype='object')\n"
     ]
    }
   ],
   "source": [
    "df = pd.read_csv('data/austin_airport_departure_data_2015_july.csv', header=10)\n",
    "df.columns = df.columns.str.strip()\n",
    "print(df.head())\n",
    "print(df.columns)"
   ]
  },
  {
   "cell_type": "code",
   "execution_count": 153,
   "metadata": {},
   "outputs": [
    {
     "name": "stdout",
     "output_type": "stream",
     "text": [
      "33    2015-07-01 05:43:00\n",
      "55    2015-07-01 16:27:00\n",
      "91    2015-07-02 05:47:00\n",
      "113   2015-07-02 16:23:00\n",
      "134   2015-07-03 05:30:00\n",
      "dtype: datetime64[ns]\n",
      "33    2015-07-01 05:43:00-05:00\n",
      "55    2015-07-01 16:27:00-05:00\n",
      "91    2015-07-02 05:47:00-05:00\n",
      "113   2015-07-02 16:23:00-05:00\n",
      "134   2015-07-03 05:30:00-05:00\n",
      "dtype: datetime64[ns, US/Central]\n",
      "33    2015-07-01 03:43:00-07:00\n",
      "55    2015-07-01 14:27:00-07:00\n",
      "91    2015-07-02 03:47:00-07:00\n",
      "113   2015-07-02 14:23:00-07:00\n",
      "134   2015-07-03 03:30:00-07:00\n",
      "dtype: datetime64[ns, US/Pacific]\n",
      "33    2015-07-01 17:43:00+07:00\n",
      "55    2015-07-02 04:27:00+07:00\n",
      "91    2015-07-02 17:47:00+07:00\n",
      "113   2015-07-03 04:23:00+07:00\n",
      "134   2015-07-03 17:30:00+07:00\n",
      "dtype: datetime64[ns, Asia/Saigon]\n"
     ]
    }
   ],
   "source": [
    "mask = df['Destination Airport'] == 'LAX'\n",
    "la = df[mask]\n",
    "times_tz = pd.to_datetime(la['Date (MM/DD/YYYY)'] + ' ' + la['Wheels-off Time'])\n",
    "print(times_tz[:5])\n",
    "times_tz_central = times_tz.dt.tz_localize('US/Central')\n",
    "print(times_tz_central[:5])\n",
    "times_tz_pacific = times_tz_central.dt.tz_convert('US/Pacific')\n",
    "print(times_tz_pacific[:5])\n",
    "times_tz_hcm = times_tz_central.dt.tz_convert('Asia/Saigon')\n",
    "print(times_tz_hcm[:5])"
   ]
  },
  {
   "cell_type": "markdown",
   "metadata": {},
   "source": [
    "### Time Series Visualization"
   ]
  },
  {
   "cell_type": "markdown",
   "metadata": {},
   "source": [
    "#### Plotting Time Series, Datetime Indexing"
   ]
  },
  {
   "cell_type": "code",
   "execution_count": 155,
   "metadata": {},
   "outputs": [
    {
     "data": {
      "image/png": "[encoded data removed]",
      "text/plain": [
       "<Figure size 432x288 with 1 Axes>"
      ]
     },
     "metadata": {
      "needs_background": "light"
     },
     "output_type": "display_data"
    }
   ],
   "source": [
    "df = pd.read_csv('data/weather_data_austin_2010.csv', index_col='Date', parse_dates=['Date'])\n",
    "df.plot()\n",
    "plt.show()"
   ]
  },
  {
   "cell_type": "code",
   "execution_count": 161,
   "metadata": {},
   "outputs": [
    {
     "data": {
      "image/png": "[encoded data removed]",
      "text/plain": [
       "<Figure size 432x288 with 1 Axes>"
      ]
     },
     "metadata": {
      "needs_background": "light"
     },
     "output_type": "display_data"
    }
   ],
   "source": [
    "df = pd.read_csv('data/weather_data_austin_2010.csv')\n",
    "df.Date = pd.to_datetime(df.Date)\n",
    "df.set_index('Date', inplace=True)\n",
    "df['Temperature']['2010-01'].plot()\n",
    "plt.show()"
   ]
  },
  {
   "cell_type": "markdown",
   "metadata": {},
   "source": [
    "#### Plotting Date Ranges, Partial Indexing"
   ]
  },
  {
   "cell_type": "code",
   "execution_count": 163,
   "metadata": {},
   "outputs": [
    {
     "data": {
      "image/png": "[encoded data removed]",
      "text/plain": [
       "<Figure size 432x288 with 1 Axes>"
      ]
     },
     "metadata": {
      "needs_background": "light"
     },
     "output_type": "display_data"
    },
    {
     "data": {
      "image/png": "[encoded data removed]",
      "text/plain": [
       "<Figure size 432x288 with 1 Axes>"
      ]
     },
     "metadata": {
      "needs_background": "light"
     },
     "output_type": "display_data"
    }
   ],
   "source": [
    "# Plot the summer data\n",
    "df.Temperature['2010-Jun':'2010-Aug'].plot()\n",
    "plt.show()\n",
    "plt.clf()\n",
    "\n",
    "# Plot the one week data\n",
    "df.Temperature['2010-06-10':'2010-06-17'].plot()\n",
    "plt.show()\n"
   ]
  },
  {
   "cell_type": "markdown",
   "metadata": {},
   "source": [
    "## Case Study: Sunlight in Austin"
   ]
  },
  {
   "cell_type": "markdown",
   "metadata": {},
   "source": [
    "### Reading and Cleaning Data"
   ]
  },
  {
   "cell_type": "markdown",
   "metadata": {},
   "source": [
    "#### Reading in a Data File"
   ]
  },
  {
   "cell_type": "code",
   "execution_count": 79,
   "metadata": {},
   "outputs": [
    {
     "name": "stdout",
     "output_type": "stream",
     "text": [
      "Int64Index([ 0,  1,  2,  3,  4,  5,  6,  7,  8,  9, 10, 11, 12, 13, 14, 15, 16,\n",
      "            17, 18, 19, 20, 21, 22, 23, 24, 25, 26, 27, 28, 29, 30, 31, 32, 33,\n",
      "            34, 35, 36, 37, 38, 39, 40, 41, 42, 43],\n",
      "           dtype='int64')\n",
      "      0         1    2   3       4  5      6  7  8  9   ...   34 35     36 37  \\\n",
      "0  13904  20110101   53  12  OVC045     10.00           ...          29.95      \n",
      "1  13904  20110101  153  12  OVC049     10.00           ...          30.01      \n",
      "2  13904  20110101  253  12  OVC060     10.00           ...  030     30.01      \n",
      "3  13904  20110101  353  12  OVC065     10.00           ...          30.03      \n",
      "4  13904  20110101  453  12  BKN070     10.00           ...          30.04      \n",
      "\n",
      "   38 39 40 41     42 43  \n",
      "0  AA           29.95     \n",
      "1  AA           30.02     \n",
      "2  AA           30.02     \n",
      "3  AA           30.04     \n",
      "4  AA           30.04     \n",
      "\n",
      "[5 rows x 44 columns]\n"
     ]
    }
   ],
   "source": [
    "import pandas as pd\n",
    "\n",
    "df = pd.read_csv('data/NOAA_QCLCD_2011_hourly_13904.txt', header=None)\n",
    "print(df.columns)\n",
    "print(df.head())"
   ]
  },
  {
   "cell_type": "code",
   "execution_count": 81,
   "metadata": {},
   "outputs": [
    {
     "name": "stdout",
     "output_type": "stream",
     "text": [
      "    Wban      date  Time  StationType sky_condition visibility dry_bulb_faren  \\\n",
      "0  13904  20110101    53           12        OVC045      10.00             51   \n",
      "1  13904  20110101   153           12        OVC049      10.00             51   \n",
      "2  13904  20110101   253           12        OVC060      10.00             51   \n",
      "3  13904  20110101   353           12        OVC065      10.00             50   \n",
      "4  13904  20110101   453           12        BKN070      10.00             50   \n",
      "\n",
      "  dry_bulb_cel wet_bulb_faren wet_bulb_cel dew_point_faren dew_point_cel  \\\n",
      "0         10.6             38          3.1              15          -9.4   \n",
      "1         10.6             37          3.0              14         -10.0   \n",
      "2         10.6             37          2.9              13         -10.6   \n",
      "3         10.0             38          3.1              17          -8.3   \n",
      "4         10.0             37          2.8              15          -9.4   \n",
      "\n",
      "  relative_humidity wind_speed wind_direction station_pressure  \\\n",
      "0                24         15            360            29.42   \n",
      "1                23         10            340            29.49   \n",
      "2                22         15            010            29.49   \n",
      "3                27          7            350            29.51   \n",
      "4                25         11            020            29.51   \n",
      "\n",
      "  sea_level_pressure  \n",
      "0              29.95  \n",
      "1              30.01  \n",
      "2              30.01  \n",
      "3              30.03  \n",
      "4              30.04  \n"
     ]
    }
   ],
   "source": [
    "columns = 'Wban,date,Time,StationType,sky_condition,sky_conditionFlag,visibility,visibilityFlag,wx_and_obst_to_vision,wx_and_obst_to_visionFlag,dry_bulb_faren,dry_bulb_farenFlag,dry_bulb_cel,dry_bulb_celFlag,wet_bulb_faren,wet_bulb_farenFlag,wet_bulb_cel,wet_bulb_celFlag,dew_point_faren,dew_point_farenFlag,dew_point_cel,dew_point_celFlag,relative_humidity,relative_humidityFlag,wind_speed,wind_speedFlag,wind_direction,wind_directionFlag,value_for_wind_character,value_for_wind_characterFlag,station_pressure,station_pressureFlag,pressure_tendency,pressure_tendencyFlag,presschange,presschangeFlag,sea_level_pressure,sea_level_pressureFlag,record_type,hourly_precip,hourly_precipFlag,altimeter,altimeterFlag,junk'\n",
    "df.columns = columns.split(',')\n",
    "drop_cols = ['sky_conditionFlag', 'visibilityFlag', 'wx_and_obst_to_vision', 'wx_and_obst_to_visionFlag', 'dry_bulb_farenFlag', 'dry_bulb_celFlag', 'wet_bulb_farenFlag', 'wet_bulb_celFlag', 'dew_point_farenFlag', 'dew_point_celFlag', 'relative_humidityFlag', 'wind_speedFlag', 'wind_directionFlag', 'value_for_wind_character', 'value_for_wind_characterFlag', 'station_pressureFlag', 'pressure_tendencyFlag', 'pressure_tendency', 'presschange', 'presschangeFlag', 'sea_level_pressureFlag', 'hourly_precip', 'hourly_precipFlag', 'altimeter', 'record_type', 'altimeterFlag', 'junk']\n",
    "df = df.drop(drop_cols, axis='columns')\n",
    "print(df.head())"
   ]
  },
  {
   "cell_type": "code",
   "execution_count": 83,
   "metadata": {},
   "outputs": [
    {
     "name": "stdout",
     "output_type": "stream",
     "text": [
      "                      Wban      date  Time  StationType sky_condition  \\\n",
      "2011-01-01 00:53:00  13904  20110101  0053           12        OVC045   \n",
      "2011-01-01 01:53:00  13904  20110101  0153           12        OVC049   \n",
      "2011-01-01 02:53:00  13904  20110101  0253           12        OVC060   \n",
      "2011-01-01 03:53:00  13904  20110101  0353           12        OVC065   \n",
      "2011-01-01 04:53:00  13904  20110101  0453           12        BKN070   \n",
      "\n",
      "                    visibility dry_bulb_faren dry_bulb_cel wet_bulb_faren  \\\n",
      "2011-01-01 00:53:00      10.00             51         10.6             38   \n",
      "2011-01-01 01:53:00      10.00             51         10.6             37   \n",
      "2011-01-01 02:53:00      10.00             51         10.6             37   \n",
      "2011-01-01 03:53:00      10.00             50         10.0             38   \n",
      "2011-01-01 04:53:00      10.00             50         10.0             37   \n",
      "\n",
      "                    wet_bulb_cel dew_point_faren dew_point_cel  \\\n",
      "2011-01-01 00:53:00          3.1              15          -9.4   \n",
      "2011-01-01 01:53:00          3.0              14         -10.0   \n",
      "2011-01-01 02:53:00          2.9              13         -10.6   \n",
      "2011-01-01 03:53:00          3.1              17          -8.3   \n",
      "2011-01-01 04:53:00          2.8              15          -9.4   \n",
      "\n",
      "                    relative_humidity wind_speed wind_direction  \\\n",
      "2011-01-01 00:53:00                24         15            360   \n",
      "2011-01-01 01:53:00                23         10            340   \n",
      "2011-01-01 02:53:00                22         15            010   \n",
      "2011-01-01 03:53:00                27          7            350   \n",
      "2011-01-01 04:53:00                25         11            020   \n",
      "\n",
      "                    station_pressure sea_level_pressure  \n",
      "2011-01-01 00:53:00            29.42              29.95  \n",
      "2011-01-01 01:53:00            29.49              30.01  \n",
      "2011-01-01 02:53:00            29.49              30.01  \n",
      "2011-01-01 03:53:00            29.51              30.03  \n",
      "2011-01-01 04:53:00            29.51              30.04  \n"
     ]
    }
   ],
   "source": [
    "df['date'] = df['date'].astype(str)\n",
    "df['Time'] = df['Time'].apply(lambda x:'{:0>4}'.format(x))\n",
    "date_string = df['date'] + df['Time']\n",
    "datetimes = pd.to_datetime(date_string, format='%Y%m%d%H%M')\n",
    "df = df.set_index(datetimes)\n",
    "print(df.head())"
   ]
  },
  {
   "cell_type": "code",
   "execution_count": 119,
   "metadata": {},
   "outputs": [],
   "source": [
    "df['dry_bulb_faren'] = pd.to_numeric(df['dry_bulb_faren'], errors='coerce')\n",
    "df['wind_speed'] = pd.to_numeric(df['wind_speed'], errors='coerce')\n",
    "df['dew_point_faren'] = pd.to_numeric(df['dew_point_faren'], errors='coerce')\n",
    "df['visibility'] = pd.to_numeric(df['visibility'], errors='coerce')"
   ]
  },
  {
   "cell_type": "markdown",
   "metadata": {},
   "source": [
    "### Statistical EDA"
   ]
  },
  {
   "cell_type": "markdown",
   "metadata": {},
   "source": [
    "#### Signal Min, Max, Median"
   ]
  },
  {
   "cell_type": "code",
   "execution_count": 89,
   "metadata": {},
   "outputs": [
    {
     "name": "stdout",
     "output_type": "stream",
     "text": [
      "72.0\n"
     ]
    }
   ],
   "source": [
    "print(df['dry_bulb_faren'].median())"
   ]
  },
  {
   "cell_type": "code",
   "execution_count": 91,
   "metadata": {},
   "outputs": [
    {
     "name": "stdout",
     "output_type": "stream",
     "text": [
      "78.0\n"
     ]
    }
   ],
   "source": [
    "print(df.loc['2011-Apr':'2011-Jun', 'dry_bulb_faren'].median())"
   ]
  },
  {
   "cell_type": "code",
   "execution_count": 93,
   "metadata": {},
   "outputs": [
    {
     "name": "stdout",
     "output_type": "stream",
     "text": [
      "48.0\n"
     ]
    }
   ],
   "source": [
    "print(df.loc['2011-Jan', 'dry_bulb_faren'].median())"
   ]
  },
  {
   "cell_type": "code",
   "execution_count": 106,
   "metadata": {},
   "outputs": [
    {
     "name": "stdout",
     "output_type": "stream",
     "text": [
      "[50.16666667 39.41666667 46.84615385 53.36734694 57.96551724]\n"
     ]
    }
   ],
   "source": [
    "daily_mean = df.resample('D').mean()\n",
    "daily_temp = daily_mean['dry_bulb_faren'].values\n",
    "print(daily_temp[:5])"
   ]
  },
  {
   "cell_type": "code",
   "execution_count": 107,
   "metadata": {},
   "outputs": [
    {
     "name": "stdout",
     "output_type": "stream",
     "text": [
      "0    49.337500\n",
      "1    49.795833\n",
      "2    49.900000\n",
      "3    49.729167\n",
      "4    49.841667\n",
      "Name: Temperature, dtype: float64\n"
     ]
    }
   ],
   "source": [
    "df2 = pd.read_csv('data/weather_data_austin_2010.csv', index_col='Date', parse_dates=['Date'])\n",
    "daily_mean2 = df2.resample('D').mean()\n",
    "daily_temp2 = daily_mean2.reset_index()['Temperature']\n",
    "print(daily_temp2[:5])"
   ]
  },
  {
   "cell_type": "code",
   "execution_count": 108,
   "metadata": {},
   "outputs": [
    {
     "name": "stdout",
     "output_type": "stream",
     "text": [
      "1.3301831870056482\n"
     ]
    }
   ],
   "source": [
    "difference = daily_temp - daily_temp2\n",
    "print(difference.mean())"
   ]
  },
  {
   "cell_type": "code",
   "execution_count": 109,
   "metadata": {},
   "outputs": [
    {
     "data": {
      "text/html": [
       "<div>\n",
       "<style scoped>\n",
       "    .dataframe tbody tr th:only-of-type {\n",
       "        vertical-align: middle;\n",
       "    }\n",
       "\n",
       "    .dataframe tbody tr th {\n",
       "        vertical-align: top;\n",
       "    }\n",
       "\n",
       "    .dataframe thead th {\n",
       "        text-align: right;\n",
       "    }\n",
       "</style>\n",
       "<table border=\"1\" class=\"dataframe\">\n",
       "  <thead>\n",
       "    <tr style=\"text-align: right;\">\n",
       "      <th></th>\n",
       "      <th>Wban</th>\n",
       "      <th>date</th>\n",
       "      <th>Time</th>\n",
       "      <th>StationType</th>\n",
       "      <th>sky_condition</th>\n",
       "      <th>dry_bulb_faren</th>\n",
       "      <th>dry_bulb_cel</th>\n",
       "      <th>wet_bulb_faren</th>\n",
       "      <th>wet_bulb_cel</th>\n",
       "      <th>dew_point_faren</th>\n",
       "      <th>dew_point_cel</th>\n",
       "      <th>relative_humidity</th>\n",
       "      <th>wind_speed</th>\n",
       "      <th>wind_direction</th>\n",
       "      <th>station_pressure</th>\n",
       "      <th>sea_level_pressure</th>\n",
       "    </tr>\n",
       "  </thead>\n",
       "  <tbody>\n",
       "    <tr>\n",
       "      <th>2011-01-01</th>\n",
       "      <td>13904.0</td>\n",
       "      <td>20110101</td>\n",
       "      <td>2353</td>\n",
       "      <td>12.0</td>\n",
       "      <td>CLR</td>\n",
       "      <td>59.0</td>\n",
       "      <td>8.3</td>\n",
       "      <td>45</td>\n",
       "      <td>7.2</td>\n",
       "      <td>28.0</td>\n",
       "      <td>-6.1</td>\n",
       "      <td>53</td>\n",
       "      <td>16.0</td>\n",
       "      <td>360</td>\n",
       "      <td>29.78</td>\n",
       "      <td>30.33</td>\n",
       "    </tr>\n",
       "    <tr>\n",
       "      <th>2011-01-02</th>\n",
       "      <td>13904.0</td>\n",
       "      <td>20110102</td>\n",
       "      <td>2253</td>\n",
       "      <td>12.0</td>\n",
       "      <td>CLR</td>\n",
       "      <td>35.0</td>\n",
       "      <td>1.7</td>\n",
       "      <td>32</td>\n",
       "      <td>0.1</td>\n",
       "      <td>28.0</td>\n",
       "      <td>-7.2</td>\n",
       "      <td>76</td>\n",
       "      <td>8.0</td>\n",
       "      <td>360</td>\n",
       "      <td>29.82</td>\n",
       "      <td>30.38</td>\n",
       "    </tr>\n",
       "    <tr>\n",
       "      <th>2011-01-03</th>\n",
       "      <td>13904.0</td>\n",
       "      <td>20110103</td>\n",
       "      <td>0453</td>\n",
       "      <td>12.0</td>\n",
       "      <td>CLR</td>\n",
       "      <td>32.0</td>\n",
       "      <td>0.0</td>\n",
       "      <td>29</td>\n",
       "      <td>-1.9</td>\n",
       "      <td>26.0</td>\n",
       "      <td>-4.4</td>\n",
       "      <td>85</td>\n",
       "      <td>0.0</td>\n",
       "      <td>000</td>\n",
       "      <td>29.71</td>\n",
       "      <td>30.27</td>\n",
       "    </tr>\n",
       "    <tr>\n",
       "      <th>2011-01-04</th>\n",
       "      <td>NaN</td>\n",
       "      <td>NaN</td>\n",
       "      <td>NaN</td>\n",
       "      <td>NaN</td>\n",
       "      <td>NaN</td>\n",
       "      <td>NaN</td>\n",
       "      <td>NaN</td>\n",
       "      <td>NaN</td>\n",
       "      <td>NaN</td>\n",
       "      <td>NaN</td>\n",
       "      <td>NaN</td>\n",
       "      <td>NaN</td>\n",
       "      <td>NaN</td>\n",
       "      <td>NaN</td>\n",
       "      <td>NaN</td>\n",
       "      <td>NaN</td>\n",
       "    </tr>\n",
       "    <tr>\n",
       "      <th>2011-01-05</th>\n",
       "      <td>13904.0</td>\n",
       "      <td>20110105</td>\n",
       "      <td>2353</td>\n",
       "      <td>12.0</td>\n",
       "      <td>CLR</td>\n",
       "      <td>35.0</td>\n",
       "      <td>1.7</td>\n",
       "      <td>33</td>\n",
       "      <td>0.3</td>\n",
       "      <td>29.0</td>\n",
       "      <td>-1.7</td>\n",
       "      <td>79</td>\n",
       "      <td>0.0</td>\n",
       "      <td>000</td>\n",
       "      <td>29.54</td>\n",
       "      <td>30.08</td>\n",
       "    </tr>\n",
       "  </tbody>\n",
       "</table>\n",
       "</div>"
      ],
      "text/plain": [
       "               Wban      date  Time  StationType sky_condition  \\\n",
       "2011-01-01  13904.0  20110101  2353         12.0           CLR   \n",
       "2011-01-02  13904.0  20110102  2253         12.0           CLR   \n",
       "2011-01-03  13904.0  20110103  0453         12.0           CLR   \n",
       "2011-01-04      NaN       NaN   NaN          NaN           NaN   \n",
       "2011-01-05  13904.0  20110105  2353         12.0           CLR   \n",
       "\n",
       "            dry_bulb_faren dry_bulb_cel wet_bulb_faren wet_bulb_cel  \\\n",
       "2011-01-01            59.0          8.3             45          7.2   \n",
       "2011-01-02            35.0          1.7             32          0.1   \n",
       "2011-01-03            32.0          0.0             29         -1.9   \n",
       "2011-01-04             NaN          NaN            NaN          NaN   \n",
       "2011-01-05            35.0          1.7             33          0.3   \n",
       "\n",
       "            dew_point_faren dew_point_cel relative_humidity  wind_speed  \\\n",
       "2011-01-01             28.0          -6.1                53        16.0   \n",
       "2011-01-02             28.0          -7.2                76         8.0   \n",
       "2011-01-03             26.0          -4.4                85         0.0   \n",
       "2011-01-04              NaN           NaN               NaN         NaN   \n",
       "2011-01-05             29.0          -1.7                79         0.0   \n",
       "\n",
       "           wind_direction station_pressure sea_level_pressure  \n",
       "2011-01-01            360            29.78              30.33  \n",
       "2011-01-02            360            29.82              30.38  \n",
       "2011-01-03            000            29.71              30.27  \n",
       "2011-01-04            NaN              NaN                NaN  \n",
       "2011-01-05            000            29.54              30.08  "
      ]
     },
     "execution_count": 109,
     "metadata": {},
     "output_type": "execute_result"
    }
   ],
   "source": [
    "is_sky_clear = df['sky_condition'] == 'CLR'\n",
    "sunny = df.loc[is_sky_clear]\n",
    "sunny_daily_max = sunny.resample('D').max()\n",
    "sunny_daily_max.head()"
   ]
  },
  {
   "cell_type": "code",
   "execution_count": 110,
   "metadata": {},
   "outputs": [
    {
     "data": {
      "text/html": [
       "<div>\n",
       "<style scoped>\n",
       "    .dataframe tbody tr th:only-of-type {\n",
       "        vertical-align: middle;\n",
       "    }\n",
       "\n",
       "    .dataframe tbody tr th {\n",
       "        vertical-align: top;\n",
       "    }\n",
       "\n",
       "    .dataframe thead th {\n",
       "        text-align: right;\n",
       "    }\n",
       "</style>\n",
       "<table border=\"1\" class=\"dataframe\">\n",
       "  <thead>\n",
       "    <tr style=\"text-align: right;\">\n",
       "      <th></th>\n",
       "      <th>Wban</th>\n",
       "      <th>date</th>\n",
       "      <th>Time</th>\n",
       "      <th>StationType</th>\n",
       "      <th>sky_condition</th>\n",
       "      <th>dry_bulb_faren</th>\n",
       "      <th>dry_bulb_cel</th>\n",
       "      <th>wet_bulb_faren</th>\n",
       "      <th>wet_bulb_cel</th>\n",
       "      <th>dew_point_faren</th>\n",
       "      <th>dew_point_cel</th>\n",
       "      <th>relative_humidity</th>\n",
       "      <th>wind_speed</th>\n",
       "      <th>wind_direction</th>\n",
       "      <th>station_pressure</th>\n",
       "      <th>sea_level_pressure</th>\n",
       "    </tr>\n",
       "  </thead>\n",
       "  <tbody>\n",
       "    <tr>\n",
       "      <th>2011-01-01</th>\n",
       "      <td>13904.0</td>\n",
       "      <td>20110101</td>\n",
       "      <td>0353</td>\n",
       "      <td>12.0</td>\n",
       "      <td>OVC065</td>\n",
       "      <td>51.0</td>\n",
       "      <td>10.6</td>\n",
       "      <td>38</td>\n",
       "      <td>3.1</td>\n",
       "      <td>17.0</td>\n",
       "      <td>-9.4</td>\n",
       "      <td>27</td>\n",
       "      <td>15.0</td>\n",
       "      <td>360</td>\n",
       "      <td>29.51</td>\n",
       "      <td>30.03</td>\n",
       "    </tr>\n",
       "    <tr>\n",
       "      <th>2011-01-02</th>\n",
       "      <td>NaN</td>\n",
       "      <td>NaN</td>\n",
       "      <td>NaN</td>\n",
       "      <td>NaN</td>\n",
       "      <td>NaN</td>\n",
       "      <td>NaN</td>\n",
       "      <td>NaN</td>\n",
       "      <td>NaN</td>\n",
       "      <td>NaN</td>\n",
       "      <td>NaN</td>\n",
       "      <td>NaN</td>\n",
       "      <td>NaN</td>\n",
       "      <td>NaN</td>\n",
       "      <td>NaN</td>\n",
       "      <td>NaN</td>\n",
       "      <td>NaN</td>\n",
       "    </tr>\n",
       "    <tr>\n",
       "      <th>2011-01-03</th>\n",
       "      <td>13904.0</td>\n",
       "      <td>20110103</td>\n",
       "      <td>2353</td>\n",
       "      <td>12.0</td>\n",
       "      <td>SCT042 OVC055</td>\n",
       "      <td>58.0</td>\n",
       "      <td>9.4</td>\n",
       "      <td>49</td>\n",
       "      <td>9.7</td>\n",
       "      <td>45.0</td>\n",
       "      <td>7.0</td>\n",
       "      <td>79</td>\n",
       "      <td>10.0</td>\n",
       "      <td>200</td>\n",
       "      <td>29.70</td>\n",
       "      <td>M</td>\n",
       "    </tr>\n",
       "    <tr>\n",
       "      <th>2011-01-04</th>\n",
       "      <td>13904.0</td>\n",
       "      <td>20110104</td>\n",
       "      <td>2353</td>\n",
       "      <td>12.0</td>\n",
       "      <td>SCT010 OVC016</td>\n",
       "      <td>57.0</td>\n",
       "      <td>8.9</td>\n",
       "      <td>56</td>\n",
       "      <td>9.4</td>\n",
       "      <td>56.0</td>\n",
       "      <td>8.9</td>\n",
       "      <td>100</td>\n",
       "      <td>8.0</td>\n",
       "      <td>VR</td>\n",
       "      <td>29.59</td>\n",
       "      <td>M</td>\n",
       "    </tr>\n",
       "    <tr>\n",
       "      <th>2011-01-05</th>\n",
       "      <td>13904.0</td>\n",
       "      <td>20110105</td>\n",
       "      <td>0653</td>\n",
       "      <td>12.0</td>\n",
       "      <td>SCT006 OVC011</td>\n",
       "      <td>57.0</td>\n",
       "      <td>14.0</td>\n",
       "      <td>56</td>\n",
       "      <td>13.5</td>\n",
       "      <td>56.0</td>\n",
       "      <td>13.3</td>\n",
       "      <td>96</td>\n",
       "      <td>3.0</td>\n",
       "      <td>250</td>\n",
       "      <td>29.48</td>\n",
       "      <td>M</td>\n",
       "    </tr>\n",
       "  </tbody>\n",
       "</table>\n",
       "</div>"
      ],
      "text/plain": [
       "               Wban      date  Time  StationType  sky_condition  \\\n",
       "2011-01-01  13904.0  20110101  0353         12.0         OVC065   \n",
       "2011-01-02      NaN       NaN   NaN          NaN            NaN   \n",
       "2011-01-03  13904.0  20110103  2353         12.0  SCT042 OVC055   \n",
       "2011-01-04  13904.0  20110104  2353         12.0  SCT010 OVC016   \n",
       "2011-01-05  13904.0  20110105  0653         12.0  SCT006 OVC011   \n",
       "\n",
       "            dry_bulb_faren dry_bulb_cel wet_bulb_faren wet_bulb_cel  \\\n",
       "2011-01-01            51.0         10.6             38          3.1   \n",
       "2011-01-02             NaN          NaN            NaN          NaN   \n",
       "2011-01-03            58.0          9.4             49          9.7   \n",
       "2011-01-04            57.0          8.9             56          9.4   \n",
       "2011-01-05            57.0         14.0             56         13.5   \n",
       "\n",
       "            dew_point_faren dew_point_cel relative_humidity  wind_speed  \\\n",
       "2011-01-01             17.0          -9.4                27        15.0   \n",
       "2011-01-02              NaN           NaN               NaN         NaN   \n",
       "2011-01-03             45.0           7.0                79        10.0   \n",
       "2011-01-04             56.0           8.9               100         8.0   \n",
       "2011-01-05             56.0          13.3                96         3.0   \n",
       "\n",
       "           wind_direction station_pressure sea_level_pressure  \n",
       "2011-01-01            360            29.51              30.03  \n",
       "2011-01-02            NaN              NaN                NaN  \n",
       "2011-01-03            200            29.70                  M  \n",
       "2011-01-04            VR             29.59                  M  \n",
       "2011-01-05            250            29.48                  M  "
      ]
     },
     "execution_count": 110,
     "metadata": {},
     "output_type": "execute_result"
    }
   ],
   "source": [
    "is_sky_overcast = df['sky_condition'].str.contains('OVC')\n",
    "overcast = df.loc[is_sky_overcast]\n",
    "overcast_daily_max = overcast.resample('D').max()\n",
    "overcast_daily_max.head()"
   ]
  },
  {
   "cell_type": "code",
   "execution_count": 111,
   "metadata": {},
   "outputs": [
    {
     "name": "stdout",
     "output_type": "stream",
     "text": [
      "Wban               0.000000\n",
      "StationType        0.000000\n",
      "dry_bulb_faren     6.504304\n",
      "dew_point_faren   -4.339286\n",
      "wind_speed        -3.246062\n",
      "dtype: float64\n"
     ]
    }
   ],
   "source": [
    "# Calculate the mean of sunny_daily_max\n",
    "sunny_daily_max_mean = sunny_daily_max.mean()\n",
    "\n",
    "# Calculate the mean of overcast_daily_max\n",
    "overcast_daily_max_mean = overcast_daily_max.mean()\n",
    "\n",
    "# Print the difference (sunny minus overcast)\n",
    "print(sunny_daily_max_mean-overcast_daily_max_mean)"
   ]
  },
  {
   "cell_type": "markdown",
   "metadata": {},
   "source": [
    "#### Visual EDA"
   ]
  },
  {
   "cell_type": "code",
   "execution_count": 121,
   "metadata": {},
   "outputs": [
    {
     "name": "stdout",
     "output_type": "stream",
     "text": [
      "                visibility  dry_bulb_faren\n",
      "visibility        1.000000        0.490328\n",
      "dry_bulb_faren    0.490328        1.000000\n"
     ]
    },
    {
     "data": {
      "image/png": "[encoded data removed]",
      "text/plain": [
       "<Figure size 432x288 with 2 Axes>"
      ]
     },
     "metadata": {
      "needs_background": "light"
     },
     "output_type": "display_data"
    }
   ],
   "source": [
    "# Import matplotlib.pyplot as plt\n",
    "import matplotlib.pyplot as plt\n",
    "\n",
    "# Select the visibility and dry_bulb_faren columns and resample them: weekly_mean\n",
    "weekly_mean = df[['visibility', 'dry_bulb_faren']].resample('W').mean()\n",
    "\n",
    "# Print the output of weekly_mean.corr()\n",
    "print(weekly_mean.corr())\n",
    "\n",
    "# Plot weekly_mean with subplots=True\n",
    "weekly_mean.plot(subplots=True)\n",
    "plt.show()\n"
   ]
  },
  {
   "cell_type": "code",
   "execution_count": 123,
   "metadata": {},
   "outputs": [
    {
     "data": {
      "image/png": "[encoded data removed]",
      "text/plain": [
       "<Figure size 432x288 with 1 Axes>"
      ]
     },
     "metadata": {
      "needs_background": "light"
     },
     "output_type": "display_data"
    }
   ],
   "source": [
    "# From previous steps\n",
    "is_sky_clear = df['sky_condition'] == 'CLR'\n",
    "resampled = is_sky_clear.resample('D')\n",
    "sunny_hours = resampled.sum()\n",
    "total_hours = resampled.count()\n",
    "sunny_fraction = sunny_hours / total_hours\n",
    "\n",
    "# Make a box plot of sunny_fraction\n",
    "sunny_fraction.plot(kind='box')\n",
    "plt.show()"
   ]
  },
  {
   "cell_type": "code",
   "execution_count": 124,
   "metadata": {},
   "outputs": [
    {
     "data": {
      "image/png": "[encoded data removed]",
      "text/plain": [
       "<Figure size 432x288 with 2 Axes>"
      ]
     },
     "metadata": {
      "needs_background": "light"
     },
     "output_type": "display_data"
    }
   ],
   "source": [
    "# Resample dew_point_faren and dry_bulb_faren by Month, aggregating the maximum values: monthly_max\n",
    "monthly_max = df[['dew_point_faren', 'dry_bulb_faren']].resample('M').max()\n",
    "\n",
    "# Generate a histogram with bins=8, alpha=0.5, subplots=True\n",
    "monthly_max.plot(kind='hist', bins=8, alpha=0.5, subplots=True)\n",
    "\n",
    "# Show the plot\n",
    "plt.show()"
   ]
  },
  {
   "cell_type": "code",
   "execution_count": 126,
   "metadata": {},
   "outputs": [
    {
     "name": "stdout",
     "output_type": "stream",
     "text": [
      "95.3\n"
     ]
    },
    {
     "data": {
      "image/png": "[encoded data removed]",
      "text/plain": [
       "<Figure size 432x288 with 1 Axes>"
      ]
     },
     "metadata": {
      "needs_background": "light"
     },
     "output_type": "display_data"
    }
   ],
   "source": [
    "# Extract the maximum temperature in August 2010 from df_climate: august_max\n",
    "august_max = df2.loc['2010-Aug', 'Temperature'].max()\n",
    "print(august_max)\n",
    "\n",
    "# Resample the August 2011 temperatures in df_clean by day and aggregate the maximum value: august_2011\n",
    "august_2011 = df.loc['2011-Aug', 'dry_bulb_faren'].resample('D').max()\n",
    "\n",
    "# Filter for days in august_2011 where the value exceeded august_max: august_2011_high\n",
    "august_2011_high = august_2011.loc[august_2011 > august_max]\n",
    "\n",
    "# Construct a CDF of august_2011_high\n",
    "august_2011_high.plot(kind='hist', density=True, cumulative=True, bins=25)\n",
    "\n",
    "# Display the plot\n",
    "plt.show()\n"
   ]
  },
  {
   "cell_type": "code",
   "execution_count": 127,
   "metadata": {},
   "outputs": [
    {
     "name": "stdout",
     "output_type": "stream",
     "text": [
      "DatetimeIndex(['2016-07-01', '2016-07-02', '2016-07-03', '2016-07-04',\n",
      "               '2016-07-05', '2016-07-06', '2016-07-07', '2016-07-08',\n",
      "               '2016-07-09', '2016-07-10', '2016-07-11', '2016-07-12',\n",
      "               '2016-07-13', '2016-07-14', '2016-07-15', '2016-07-16',\n",
      "               '2016-07-17'],\n",
      "              dtype='datetime64[ns]', freq='D')\n"
     ]
    }
   ],
   "source": [
    "date_rng = pd.date_range(start='2016-07-01', end='2016-07-17', freq='D')\n",
    "print(date_rng)"
   ]
  },
  {
   "cell_type": "code",
   "execution_count": null,
   "metadata": {},
   "outputs": [],
   "source": []
  }
 ],
 "metadata": {
  "kernelspec": {
   "display_name": "Python 3",
   "language": "python",
   "name": "python3"
  },
  "language_info": {
   "codemirror_mode": {
    "name": "ipython",
    "version": 3
   },
   "file_extension": ".py",
   "mimetype": "text/x-python",
   "name": "python",
   "nbconvert_exporter": "python",
   "pygments_lexer": "ipython3",
   "version": "3.7.3"
  }
 },
 "nbformat": 4,
 "nbformat_minor": 4
}
