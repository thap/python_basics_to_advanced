{
 "cells": [
  {
   "cell_type": "code",
   "execution_count": 86,
   "metadata": {},
   "outputs": [],
   "source": [
    "import pandas as pd\n",
    "\n",
    "import numpy as np\n",
    "from numpy import unique\n",
    "\n",
    "from scipy.special import expit as sigmoid\n",
    "\n",
    "import matplotlib.pyplot as plt\n",
    "%matplotlib inline\n",
    "\n",
    "from keras.layers import Input, Dense\n",
    "from keras.models import Model\n",
    "from keras.utils import plot_model\n",
    "from keras.layers import Input, Embedding, Flatten, Subtract, Concatenate\n",
    "from keras.optimizers import Adam\n",
    "\n",
    "from sklearn.model_selection import train_test_split\n"
   ]
  },
  {
   "cell_type": "code",
   "execution_count": 155,
   "metadata": {},
   "outputs": [
    {
     "name": "stdout",
     "output_type": "stream",
     "text": [
      "<class 'pandas.core.frame.DataFrame'>\n",
      "RangeIndex: 4234 entries, 0 to 4233\n",
      "Data columns (total 9 columns):\n",
      "season        4234 non-null int64\n",
      "team_1        4234 non-null int64\n",
      "team_2        4234 non-null int64\n",
      "home          4234 non-null int64\n",
      "seed_diff     4234 non-null int64\n",
      "score_diff    4234 non-null int64\n",
      "score_1       4234 non-null int64\n",
      "score_2       4234 non-null int64\n",
      "won           4234 non-null int64\n",
      "dtypes: int64(9)\n",
      "memory usage: 297.8 KB\n",
      "None\n",
      "      season  team_1  team_2  home  seed_diff  score_diff  score_1  score_2  \\\n",
      "3425    2011     667   10690     0         -9         -14       58       72   \n",
      "3426    2011    1039   10690     0         -4           7       61       54   \n",
      "3427    2011    4209   10690     0         -1          -5       65       70   \n",
      "3428    2011    1073   10713     0         11           8       74       66   \n",
      "3429    2011    4899   10812     0         -5          11       66       55   \n",
      "\n",
      "      won  \n",
      "3425    0  \n",
      "3426    1  \n",
      "3427    0  \n",
      "3428    1  \n",
      "3429    1  \n",
      "      season  team_1  team_2  home  seed_diff  score_diff  score_1  score_2  \\\n",
      "3430    2012    1907     100     0          1           1       58       57   \n",
      "3431    2012    1704     649     0         -8         -17       63       80   \n",
      "3432    2012    4291     649     0          2          12       82       70   \n",
      "3433    2012    7533     649     0        -11          -8       60       68   \n",
      "3434    2012   10813     649     0         -7          -5       70       75   \n",
      "\n",
      "      won  \n",
      "3430    1  \n",
      "3431    0  \n",
      "3432    1  \n",
      "3433    0  \n",
      "3434    0  \n"
     ]
    }
   ],
   "source": [
    "games_tourney = pd.read_csv('basketball_data/games_tourney.csv')\n",
    "print(games_tourney.info())\n",
    "games_tourney_train = games_tourney[:3430]\n",
    "games_tourney_test = games_tourney[3430:]\n",
    "print(games_tourney_train.tail())\n",
    "print(games_tourney_test.head())"
   ]
  },
  {
   "cell_type": "code",
   "execution_count": 156,
   "metadata": {},
   "outputs": [
    {
     "name": "stdout",
     "output_type": "stream",
     "text": [
      "_________________________________________________________________\n",
      "Layer (type)                 Output Shape              Param #   \n",
      "=================================================================\n",
      "input_33 (InputLayer)        (None, 1)                 0         \n",
      "_________________________________________________________________\n",
      "dense_40 (Dense)             (None, 1)                 2         \n",
      "=================================================================\n",
      "Total params: 2\n",
      "Trainable params: 2\n",
      "Non-trainable params: 0\n",
      "_________________________________________________________________\n",
      "None\n"
     ]
    },
    {
     "data": {
      "image/png": "[encoded data removed]",
      "text/plain": [
       "<Figure size 432x288 with 1 Axes>"
      ]
     },
     "metadata": {
      "needs_background": "light"
     },
     "output_type": "display_data"
    },
    {
     "name": "stdout",
     "output_type": "stream",
     "text": [
      "Train on 3087 samples, validate on 343 samples\n",
      "Epoch 1/1\n",
      "3087/3087 [==============================] - 2s 784us/step - loss: 15.1262 - val_loss: 14.1167\n",
      "804/804 [==============================] - 0s 53us/step\n"
     ]
    },
    {
     "data": {
      "text/plain": [
       "14.188138662879147"
      ]
     },
     "execution_count": 156,
     "metadata": {},
     "output_type": "execute_result"
    }
   ],
   "source": [
    "input_tensor = Input(shape=(1,))\n",
    "output_tensor = Dense(1)(input_tensor)\n",
    "model1 = Model(input_tensor, output_tensor)\n",
    "model1.compile(optimizer='adam', loss='mean_absolute_error')\n",
    "print(model1.summary())\n",
    "plot_model(model1, to_file='model1.png')\n",
    "data = plt.imread('model1.png')\n",
    "plt.imshow(data)\n",
    "plt.show()\n",
    "model1.fit(games_tourney_train.seed_diff, games_tourney_train.score_diff, \n",
    "          epochs=1, batch_size=128, validation_split=0.1, verbose=True)\n",
    "model1.evaluate(games_tourney_test.seed_diff, games_tourney_test.score_diff)"
   ]
  },
  {
   "cell_type": "code",
   "execution_count": 157,
   "metadata": {},
   "outputs": [
    {
     "name": "stdout",
     "output_type": "stream",
     "text": [
      "   season  team_1  team_2  home  score_diff  score_1  score_2  won\n",
      "0    1985    3745    6664     0          17       81       64    1\n",
      "1    1985     126    7493     1           7       77       70    1\n",
      "2    1985     288    3593     1           7       63       56    1\n",
      "3    1985    1846    9881     1          16       70       54    1\n",
      "4    1985    2675   10298     1          12       86       74    1\n",
      "10888\n"
     ]
    }
   ],
   "source": [
    "games_season = pd.read_csv('basketball_data/games_season.csv')\n",
    "print(games_season.head())\n",
    "n_teams = unique(games_season.team_1).shape[0]\n",
    "print(n_teams)"
   ]
  },
  {
   "cell_type": "code",
   "execution_count": 158,
   "metadata": {},
   "outputs": [
    {
     "name": "stdout",
     "output_type": "stream",
     "text": [
      "Train on 280960 samples, validate on 31218 samples\n",
      "Epoch 1/10\n",
      "280960/280960 [==============================] - 3s 11us/step - loss: 12.1201 - val_loss: 11.8383\n",
      "Epoch 2/10\n",
      "280960/280960 [==============================] - 1s 3us/step - loss: 12.0967 - val_loss: 11.8210\n",
      "Epoch 3/10\n",
      "280960/280960 [==============================] - 1s 3us/step - loss: 12.0733 - val_loss: 11.8037\n",
      "Epoch 4/10\n",
      "280960/280960 [==============================] - 1s 3us/step - loss: 12.0500 - val_loss: 11.7864\n",
      "Epoch 5/10\n",
      "280960/280960 [==============================] - 1s 3us/step - loss: 12.0268 - val_loss: 11.7690\n",
      "Epoch 6/10\n",
      "280960/280960 [==============================] - 1s 4us/step - loss: 12.0035 - val_loss: 11.7518\n",
      "Epoch 7/10\n",
      "280960/280960 [==============================] - 1s 3us/step - loss: 11.9802 - val_loss: 11.7345\n",
      "Epoch 8/10\n",
      "280960/280960 [==============================] - 1s 3us/step - loss: 11.9569 - val_loss: 11.7172\n",
      "Epoch 9/10\n",
      "280960/280960 [==============================] - 1s 3us/step - loss: 11.9337 - val_loss: 11.6999\n",
      "Epoch 10/10\n",
      "280960/280960 [==============================] - 1s 4us/step - loss: 11.9104 - val_loss: 11.6826\n",
      "4234/4234 [==============================] - 0s 35us/step\n"
     ]
    },
    {
     "data": {
      "image/png": "[encoded data removed]",
      "text/plain": [
       "<Figure size 432x288 with 1 Axes>"
      ]
     },
     "metadata": {
      "needs_background": "light"
     },
     "output_type": "display_data"
    }
   ],
   "source": [
    "team_lookup = Embedding(input_dim=n_teams, output_dim=1, input_length=1, \n",
    "                        name='Team-Strength')\n",
    "teamid_in = Input(shape=(1, ))\n",
    "strength_lookup = team_lookup(teamid_in)\n",
    "strength_lookup_flat = Flatten()(strength_lookup)\n",
    "team_strength_model = Model(teamid_in, strength_lookup_flat, \n",
    "                            name='Team-Strength-Model')\n",
    "team_in_1 = Input(shape=(1, ), name='Team-1-In')\n",
    "team_in_2 = Input(shape=(1, ), name='Team-2-In')\n",
    "team_1_strength = team_strength_model(team_in_1)\n",
    "team_2_strength = team_strength_model(team_in_2)\n",
    "score_diff = Subtract()([team_1_strength, team_2_strength])\n",
    "model2 = Model([team_in_1, team_in_2], score_diff)\n",
    "model2.compile('adam', 'mean_absolute_error')\n",
    "input_1 = games_season.team_1\n",
    "input_2 = games_season.team_2\n",
    "model2.fit([input_1, input_2], games_season.score_diff, epochs=10, batch_size=2048,\n",
    "          validation_split=0.1, verbose=True)\n",
    "input_1 = games_tourney.team_1\n",
    "input_2 = games_tourney.team_2\n",
    "model2.evaluate([input_1, input_2], games_tourney.score_diff)\n",
    "plot_model(model2, to_file='model2.png')\n",
    "data = plt.imread('model2.png')\n",
    "plt.imshow(data)\n",
    "plt.show()"
   ]
  },
  {
   "cell_type": "code",
   "execution_count": 159,
   "metadata": {},
   "outputs": [
    {
     "name": "stdout",
     "output_type": "stream",
     "text": [
      "Train on 280960 samples, validate on 31218 samples\n",
      "Epoch 1/10\n",
      "280960/280960 [==============================] - 4s 15us/step - loss: 12.1024 - val_loss: 11.7191\n",
      "Epoch 2/10\n",
      "280960/280960 [==============================] - 2s 6us/step - loss: 12.0179 - val_loss: 11.8856\n",
      "Epoch 3/10\n",
      "280960/280960 [==============================] - 2s 6us/step - loss: 11.9233 - val_loss: 12.0408\n",
      "Epoch 4/10\n",
      "280960/280960 [==============================] - 2s 5us/step - loss: 11.8197 - val_loss: 12.1810\n",
      "Epoch 5/10\n",
      "280960/280960 [==============================] - 2s 5us/step - loss: 11.7090 - val_loss: 12.3015\n",
      "Epoch 6/10\n",
      "280960/280960 [==============================] - 2s 5us/step - loss: 11.5925 - val_loss: 12.4038\n",
      "Epoch 7/10\n",
      "280960/280960 [==============================] - 2s 6us/step - loss: 11.4713 - val_loss: 12.4832\n",
      "Epoch 8/10\n",
      "280960/280960 [==============================] - 2s 6us/step - loss: 11.3464 - val_loss: 12.5403\n",
      "Epoch 9/10\n",
      "280960/280960 [==============================] - 2s 6us/step - loss: 11.2187 - val_loss: 12.5751\n",
      "Epoch 10/10\n",
      "280960/280960 [==============================] - 2s 6us/step - loss: 11.0889 - val_loss: 12.5897\n",
      "4234/4234 [==============================] - 0s 43us/step\n",
      "__________________________________________________________________________________________________\n",
      "Layer (type)                    Output Shape         Param #     Connected to                     \n",
      "==================================================================================================\n",
      "Team-1-In (InputLayer)          (None, 1)            0                                            \n",
      "__________________________________________________________________________________________________\n",
      "Team-2-In (InputLayer)          (None, 1)            0                                            \n",
      "__________________________________________________________________________________________________\n",
      "Team-Strength-Model (Model)     (None, 1)            10888       Team-1-In[0][0]                  \n",
      "                                                                 Team-2-In[0][0]                  \n",
      "__________________________________________________________________________________________________\n",
      "Home-In (InputLayer)            (None, 1)            0                                            \n",
      "__________________________________________________________________________________________________\n",
      "concatenate_8 (Concatenate)     (None, 3)            0           Team-Strength-Model[3][0]        \n",
      "                                                                 Team-Strength-Model[4][0]        \n",
      "                                                                 Home-In[0][0]                    \n",
      "__________________________________________________________________________________________________\n",
      "dense_41 (Dense)                (None, 1)            4           concatenate_8[0][0]              \n",
      "==================================================================================================\n",
      "Total params: 10,892\n",
      "Trainable params: 10,892\n",
      "Non-trainable params: 0\n",
      "__________________________________________________________________________________________________\n",
      "None\n"
     ]
    },
    {
     "data": {
      "image/png": "[encoded data removed]",
      "text/plain": [
       "<Figure size 432x288 with 1 Axes>"
      ]
     },
     "metadata": {
      "needs_background": "light"
     },
     "output_type": "display_data"
    }
   ],
   "source": [
    "team_in_1 = Input(shape=(1, ), name='Team-1-In')\n",
    "team_in_2 = Input(shape=(1, ), name='Team-2-In')\n",
    "home_in = Input(shape=(1, ), name='Home-In')\n",
    "team_1_strength = team_strength_model(team_in_1)\n",
    "team_2_strength = team_strength_model(team_in_2)\n",
    "out = Concatenate()([team_1_strength, team_2_strength, home_in])\n",
    "out = Dense(1)(out)\n",
    "model3 = Model([team_in_1, team_in_2, home_in], out)\n",
    "model3.compile(optimizer='adam', loss='mean_absolute_error')\n",
    "model3.fit([games_season.team_1, games_season.team_2, games_season.home],\n",
    "          games_season.score_diff, epochs=10, verbose=True, validation_split=0.1,\n",
    "          batch_size=2048)\n",
    "model3.evaluate([games_tourney.team_1, games_tourney.team_2, games_tourney.home],\n",
    "               games_tourney.score_diff)\n",
    "print(model3.summary())\n",
    "plot_model(model3, to_file='model3.png')\n",
    "data = plt.imread('model3.png')\n",
    "plt.imshow(data)\n",
    "plt.show()"
   ]
  },
  {
   "cell_type": "code",
   "execution_count": 160,
   "metadata": {},
   "outputs": [
    {
     "name": "stdout",
     "output_type": "stream",
     "text": [
      "Epoch 1/10\n",
      "3168/3168 [==============================] - 2s 726us/step - loss: 9.4479\n",
      "Epoch 2/10\n",
      "3168/3168 [==============================] - 0s 62us/step - loss: 9.3524\n",
      "Epoch 3/10\n",
      "3168/3168 [==============================] - 0s 64us/step - loss: 9.2811\n",
      "Epoch 4/10\n",
      "3168/3168 [==============================] - 0s 62us/step - loss: 9.2309\n",
      "Epoch 5/10\n",
      "3168/3168 [==============================] - 0s 68us/step - loss: 9.1952\n",
      "Epoch 6/10\n",
      "3168/3168 [==============================] - 0s 63us/step - loss: 9.1693\n",
      "Epoch 7/10\n",
      "3168/3168 [==============================] - 0s 67us/step - loss: 9.1529\n",
      "Epoch 8/10\n",
      "3168/3168 [==============================] - 0s 95us/step - loss: 9.1417\n",
      "Epoch 9/10\n",
      "3168/3168 [==============================] - 0s 68us/step - loss: 9.1338\n",
      "Epoch 10/10\n",
      "3168/3168 [==============================] - 0s 66us/step - loss: 9.1277\n",
      "1066/1066 [==============================] - 1s 711us/step\n"
     ]
    },
    {
     "data": {
      "image/png": "[encoded data removed]",
      "text/plain": [
       "<Figure size 432x288 with 1 Axes>"
      ]
     },
     "metadata": {
      "needs_background": "light"
     },
     "output_type": "display_data"
    }
   ],
   "source": [
    "games_tourney['pred'] = model3.predict([games_tourney.team_1, games_tourney.team_2, \\\n",
    "                                       games_tourney.home])\n",
    "input_tensor = Input((3, ))\n",
    "output_tensor = Dense(1)(input_tensor)\n",
    "model4 = Model(input_tensor, output_tensor)\n",
    "model4.compile(optimizer='adam', loss='mean_absolute_error')\n",
    "games_tourney_train = games_tourney[:3168]\n",
    "model4.fit(games_tourney_train[['home', 'seed_diff', 'pred']], \n",
    "           games_tourney_train.score_diff, epochs=10, verbose=True)\n",
    "games_tourney_test = games_tourney[3168:]\n",
    "model4.evaluate(games_tourney_test[['home', 'seed_diff', 'pred']],\n",
    "               games_tourney_test.score_diff)\n",
    "plot_model(model4, to_file='model4.png')\n",
    "data = plt.imread('model4.png')\n",
    "plt.imshow(data)\n",
    "plt.show()"
   ]
  },
  {
   "cell_type": "code",
   "execution_count": 163,
   "metadata": {},
   "outputs": [
    {
     "name": "stdout",
     "output_type": "stream",
     "text": [
      "Epoch 1/10\n",
      "3168/3168 [==============================] - 2s 745us/step - loss: 72.7259\n",
      "Epoch 2/10\n",
      "3168/3168 [==============================] - 0s 2us/step - loss: 72.7240\n",
      "Epoch 3/10\n",
      "3168/3168 [==============================] - 0s 5us/step - loss: 72.7215\n",
      "Epoch 4/10\n",
      "3168/3168 [==============================] - 0s 5us/step - loss: 72.7192\n",
      "Epoch 5/10\n",
      "3168/3168 [==============================] - 0s 4us/step - loss: 72.7167\n",
      "Epoch 6/10\n",
      "3168/3168 [==============================] - 0s 4us/step - loss: 72.7143\n",
      "Epoch 7/10\n",
      "3168/3168 [==============================] - 0s 5us/step - loss: 72.7118\n",
      "Epoch 8/10\n",
      "3168/3168 [==============================] - 0s 5us/step - loss: 72.7093\n",
      "Epoch 9/10\n",
      "3168/3168 [==============================] - 0s 5us/step - loss: 72.7067\n",
      "Epoch 10/10\n",
      "3168/3168 [==============================] - 0s 6us/step - loss: 72.7042\n",
      "[array([[-0.3858854 ,  1.1541948 ],\n",
      "       [-0.41200235, -0.6369628 ]], dtype=float32), array([0.00957607, 0.00957607], dtype=float32)]\n",
      "season        1997.045455\n",
      "team_1        5546.025568\n",
      "team_2        5546.025568\n",
      "home             0.000000\n",
      "seed_diff        0.000000\n",
      "score_diff       0.000000\n",
      "score_1         71.912247\n",
      "score_2         71.912247\n",
      "won              0.500000\n",
      "pred             1.523519\n",
      "dtype: float64\n",
      "1066/1066 [==============================] - 1s 773us/step\n"
     ]
    },
    {
     "data": {
      "image/png": "[encoded data removed]",
      "text/plain": [
       "<Figure size 432x288 with 1 Axes>"
      ]
     },
     "metadata": {
      "needs_background": "light"
     },
     "output_type": "display_data"
    }
   ],
   "source": [
    "input_tensor = Input(shape=(2, ))\n",
    "output_tensor = Dense(2)(input_tensor)\n",
    "model5 = Model(input_tensor, output_tensor)\n",
    "model5.compile(optimizer='adam', loss='mean_absolute_error')\n",
    "model5.fit(games_tourney_train[['seed_diff', 'pred']], \n",
    "          games_tourney_train[['score_1', 'score_2']], \n",
    "          verbose=True, epochs=10, batch_size=16384)\n",
    "print(model5.get_weights())\n",
    "print(games_tourney_train.mean())\n",
    "model5.evaluate(games_tourney_test[['seed_diff', 'pred']], \n",
    "               games_tourney_test[['score_1', 'score_2']])\n",
    "plot_model(model5, to_file='model5.png')\n",
    "data = plt.imread('model5.png')\n",
    "plt.imshow(data)\n",
    "plt.show()"
   ]
  },
  {
   "cell_type": "code",
   "execution_count": 139,
   "metadata": {},
   "outputs": [
    {
     "name": "stdout",
     "output_type": "stream",
     "text": [
      "Epoch 1/10\n",
      "3168/3168 [==============================] - 2s 647us/step - loss: 17.7384 - dense_33_loss: 9.1994 - dense_34_loss: 8.5390\n",
      "Epoch 2/10\n",
      "3168/3168 [==============================] - 0s 4us/step - loss: 17.7121 - dense_33_loss: 9.1945 - dense_34_loss: 8.5176\n",
      "Epoch 3/10\n",
      "3168/3168 [==============================] - 0s 5us/step - loss: 17.6597 - dense_33_loss: 9.1884 - dense_34_loss: 8.4713\n",
      "Epoch 4/10\n",
      "3168/3168 [==============================] - 0s 7us/step - loss: 17.6115 - dense_33_loss: 9.1825 - dense_34_loss: 8.4290\n",
      "Epoch 5/10\n",
      "3168/3168 [==============================] - 0s 6us/step - loss: 17.5656 - dense_33_loss: 9.1775 - dense_34_loss: 8.3882\n",
      "Epoch 6/10\n",
      "3168/3168 [==============================] - 0s 7us/step - loss: 17.5181 - dense_33_loss: 9.1725 - dense_34_loss: 8.3456\n",
      "Epoch 7/10\n",
      "3168/3168 [==============================] - 0s 5us/step - loss: 17.4725 - dense_33_loss: 9.1688 - dense_34_loss: 8.3037\n",
      "Epoch 8/10\n",
      "3168/3168 [==============================] - 0s 4us/step - loss: 17.4177 - dense_33_loss: 9.1652 - dense_34_loss: 8.2525\n",
      "Epoch 9/10\n",
      "3168/3168 [==============================] - 0s 6us/step - loss: 17.3786 - dense_33_loss: 9.1620 - dense_34_loss: 8.2166\n",
      "Epoch 10/10\n",
      "3168/3168 [==============================] - 0s 6us/step - loss: 17.3118 - dense_33_loss: 9.1595 - dense_34_loss: 8.1523\n",
      "[array([[1.2973938],\n",
      "       [1.3411772]], dtype=float32), array([[-1.4929492]], dtype=float32)]\n",
      "season        1997.045455\n",
      "team_1        5546.025568\n",
      "team_2        5546.025568\n",
      "home             0.000000\n",
      "seed_diff        0.000000\n",
      "score_diff       0.000000\n",
      "score_1         71.912247\n",
      "score_2         71.912247\n",
      "won              0.500000\n",
      "pred             0.143138\n",
      "dtype: float64\n",
      "0.5349429451582145\n",
      "0.8021838885585818\n",
      "1066/1066 [==============================] - 1s 669us/step\n"
     ]
    },
    {
     "data": {
      "text/plain": [
       "[16.715229317126532, 9.178218735986535, 7.537010595454061]"
      ]
     },
     "execution_count": 139,
     "metadata": {},
     "output_type": "execute_result"
    }
   ],
   "source": [
    "input_tensor = Input(shape=(2, ))\n",
    "output_tensor_1 = Dense(1, activation='linear', use_bias=False)(input_tensor)\n",
    "output_tensor_2 = Dense(1, activation='sigmoid', use_bias=False)(output_tensor_1)\n",
    "model = Model(input_tensor, [output_tensor_1, output_tensor_2])\n",
    "model.compile(loss=['mean_absolute_error', 'binary_crossentropy'], \n",
    "              optimizer=Adam(0.01))\n",
    "model.fit(games_tourney_train[['seed_diff', 'pred']],\n",
    "          [games_tourney_train[['score_diff']], games_tourney_train[['won']]],\n",
    "          epochs=10, verbose=True, batch_size=16384)\n",
    "print(model.get_weights())\n",
    "print(games_tourney_train.mean())\n",
    "weight = 0.14\n",
    "print(sigmoid(weight))\n",
    "print(sigmoid(10*weight))\n",
    "model.evaluate(games_tourney_test[['seed_diff', 'pred']],\n",
    "               [games_tourney_test[['score_diff']], games_tourney_test[['won']]])"
   ]
  },
  {
   "cell_type": "code",
   "execution_count": null,
   "metadata": {},
   "outputs": [],
   "source": []
  }
 ],
 "metadata": {
  "kernelspec": {
   "display_name": "Python 3",
   "language": "python",
   "name": "python3"
  },
  "language_info": {
   "codemirror_mode": {
    "name": "ipython",
    "version": 3
   },
   "file_extension": ".py",
   "mimetype": "text/x-python",
   "name": "python",
   "nbconvert_exporter": "python",
   "pygments_lexer": "ipython3",
   "version": "3.7.3"
  }
 },
 "nbformat": 4,
 "nbformat_minor": 4
}
