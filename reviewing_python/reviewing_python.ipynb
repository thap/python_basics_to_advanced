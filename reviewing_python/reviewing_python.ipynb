{
 "cells": [
  {
   "cell_type": "markdown",
   "metadata": {},
   "source": [
    "# Python Review"
   ]
  },
  {
   "cell_type": "markdown",
   "metadata": {},
   "source": [
    "## Python Data Structures and String Manipulation"
   ]
  },
  {
   "cell_type": "markdown",
   "metadata": {},
   "source": [
    "### List Methods "
   ]
  },
  {
   "cell_type": "code",
   "execution_count": 1,
   "metadata": {},
   "outputs": [
    {
     "name": "stdout",
     "output_type": "stream",
     "text": [
      "Basket 1: ['banana', 'kiwifruits', 'grapefruits', 'apples', 'apricots', 'nectarines', 'oranges', 'peaches', 'pears', 'lemons']\n",
      "Basket 2: ['grapes', 'dragonfruits', 'limes', 'papaya']\n"
     ]
    }
   ],
   "source": [
    "basket1 = ['banana', 'kiwifruits', 'grapefruits', 'apples', 'apricots', 'nectarines', 'oranges', 'peaches', 'pears', 'lemons']\n",
    "basket2 = ['apples', 'grapes', 'apricots', 'dragonfruits', 'peaches', 'pears', 'limes', 'papaya']\n",
    "\n",
    "# Remove fruits from basket2 that are present in basket1\n",
    "for item in basket1:\n",
    "    if item in basket2:\n",
    "        basket2.remove(item)\n",
    "\n",
    "print('Basket 1: ' + str(basket1))\n",
    "print('Basket 2: ' + str(basket2))"
   ]
  },
  {
   "cell_type": "markdown",
   "metadata": {},
   "source": [
    "### Operations on Sets"
   ]
  },
  {
   "cell_type": "code",
   "execution_count": 2,
   "metadata": {},
   "outputs": [
    {
     "data": {
      "text/plain": [
       "{1, 2, 3, 4, 5, 6, 7}"
      ]
     },
     "execution_count": 2,
     "metadata": {},
     "output_type": "execute_result"
    }
   ],
   "source": [
    "A = {1, 2, 3, 4, 5, 6, 7}\n",
    "B = {5, 7, 9, 11, 13, 15}\n",
    "C = {1, 2, 8, 10, 11, 12, 13, 14, 15, 16, 17}\n",
    "D = {1, 3, 5, 7, 9, 11, 12, 13, 14, 15, 16, 17, 18, 19, 20}\n",
    "E = {9, 10, 11, 12, 13, 14, 15}\n",
    "\n",
    "(A | (B & C)) - (D & E)"
   ]
  },
  {
   "cell_type": "markdown",
   "metadata": {},
   "source": [
    "### Dictionary"
   ]
  },
  {
   "cell_type": "code",
   "execution_count": 3,
   "metadata": {},
   "outputs": [
    {
     "data": {
      "text/plain": [
       "5.2"
      ]
     },
     "execution_count": 3,
     "metadata": {},
     "output_type": "execute_result"
    }
   ],
   "source": [
    "range_x = [0.0, 0.2, 0.4, 0.6, 0.8, 1.0, 1.2, 1.4, 1.6, 1.8, 2.0]\n",
    "range_y = [0.0, 0.2, 0.4, 0.6, 0.8, 1.0, 1.2, 1.4, 1.6, 1.8, 2.0]\n",
    "\n",
    "circ_parab = dict()\n",
    "\n",
    "for x in range_x:\n",
    "    for y in range_y:        \n",
    "        # Calculate the value for z\n",
    "        z = x*x + y*y\n",
    "        # Create a new key for the dictionary\n",
    "        key = (x, y)\n",
    "        # Create a new key-value pair      \n",
    "        circ_parab[key] = z\n",
    "        \n",
    "circ_parab[(1.8, 1.4)]"
   ]
  },
  {
   "cell_type": "markdown",
   "metadata": {},
   "source": [
    "### String Indexing and Concatenation"
   ]
  },
  {
   "cell_type": "code",
   "execution_count": 4,
   "metadata": {},
   "outputs": [
    {
     "name": "stdout",
     "output_type": "stream",
     "text": [
      "zidryx\n",
      "python\n"
     ]
    }
   ],
   "source": [
    "alphabet = 'abcdefghijklmnopqrstuvwxyz'\n",
    "\n",
    "def encrypt(text, key):\n",
    "  \n",
    "    result = []\n",
    "\n",
    "    # Fill in the blanks to create an encrypted text\n",
    "    for char in text.lower():\n",
    "        idx = (alphabet.index(char) + key) % len(alphabet)\n",
    "        result.append(alphabet[idx])\n",
    "\n",
    "    return ''.join(result)\n",
    "\n",
    "def decrypt(text, key):\n",
    "    result = []\n",
    "    \n",
    "    for char in text.lower():\n",
    "        idx = alphabet.index(char) - key\n",
    "        result.append(alphabet[idx])\n",
    "        \n",
    "    return ''.join(result)\n",
    "\n",
    "# Check the encryption function with the shift equals to 10\n",
    "print(encrypt(\"python\", 10))\n",
    "print(decrypt(encrypt(\"python\", 10), 10))"
   ]
  },
  {
   "cell_type": "markdown",
   "metadata": {},
   "source": [
    "### Operations on Strings"
   ]
  },
  {
   "cell_type": "code",
   "execution_count": 5,
   "metadata": {},
   "outputs": [
    {
     "name": "stdout",
     "output_type": "stream",
     "text": [
      "string OBJECTS have MANY interesting PROPERTIES\n"
     ]
    }
   ],
   "source": [
    "text = 'StRing ObJeCts haVe mANy inTEResting pROPerTies'\n",
    "\n",
    "# Create a word list from the string stored in 'text'\n",
    "word_list = text.split()\n",
    "\n",
    "# Make every other word uppercased; otherwise - lowercased\n",
    "for i in range(len(word_list)):\n",
    "    if (i + 1) % 2 == 0:\n",
    "        word_list[i] = word_list[i].upper()\n",
    "    else:\n",
    "        word_list[i] = word_list[i].lower()\n",
    "        \n",
    "# Join the words back and form a new string\n",
    "new_text = ' '.join(word_list)\n",
    "print(new_text)"
   ]
  },
  {
   "cell_type": "markdown",
   "metadata": {},
   "source": [
    "### Strings in DataFrames"
   ]
  },
  {
   "cell_type": "code",
   "execution_count": 7,
   "metadata": {},
   "outputs": [
    {
     "name": "stdout",
     "output_type": "stream",
     "text": [
      "-                   172\n",
      "Black               158\n",
      "Blond                99\n",
      "Brown                87\n",
      "No Hair              75\n",
      "Red                  51\n",
      "White                23\n",
      "Auburn               13\n",
      "Green                 8\n",
      "Strawberry Blond      7\n",
      "Grey                  5\n",
      "Purple                5\n",
      "Brown / White         4\n",
      "Silver                4\n",
      "blond                 3\n",
      "black                 3\n",
      "Blue                  3\n",
      "Orange                2\n",
      "Yellow                2\n",
      "Red / Orange          1\n",
      "Indigo                1\n",
      "Brown / Black         1\n",
      "Gold                  1\n",
      "Red / Grey            1\n",
      "Red / White           1\n",
      "Pink                  1\n",
      "Magenta               1\n",
      "Black / Blue          1\n",
      "Orange / White        1\n",
      "Name: Hair color, dtype: int64\n",
      "-                   172\n",
      "black               161\n",
      "blond               102\n",
      "brown                87\n",
      "no hair              75\n",
      "red                  51\n",
      "white                23\n",
      "auburn               13\n",
      "green                 8\n",
      "strawberry blond      7\n",
      "purple                5\n",
      "grey                  5\n",
      "silver                4\n",
      "brown / white         4\n",
      "blue                  3\n",
      "yellow                2\n",
      "orange                2\n",
      "red / orange          1\n",
      "red / white           1\n",
      "black / blue          1\n",
      "magenta               1\n",
      "gold                  1\n",
      "red / grey            1\n",
      "pink                  1\n",
      "brown / black         1\n",
      "indigo                1\n",
      "orange / white        1\n",
      "Name: Hair color, dtype: int64\n"
     ]
    }
   ],
   "source": [
    "import pandas as pd\n",
    "\n",
    "heroes = pd.read_csv('heroes_information.csv', index_col=0)\n",
    "  \n",
    "# Check the values in the 'Hair color' column\n",
    "print(heroes['Hair color'].value_counts())\n",
    "\n",
    "# Make all the values in the 'Hair color' column lowercased\n",
    "heroes['Hair color'] = heroes['Hair color'].str.lower()\n",
    "  \n",
    "# Check the values in the 'Hair color' column\n",
    "print(heroes['Hair color'].value_counts())"
   ]
  },
  {
   "cell_type": "code",
   "execution_count": 8,
   "metadata": {},
   "outputs": [
    {
     "name": "stdout",
     "output_type": "stream",
     "text": [
      "Male      505\n",
      "Female    200\n",
      "-          29\n",
      "Name: Gender, dtype: int64\n",
      "Male      505\n",
      "Female    200\n",
      "-          29\n",
      "Name: Gender, dtype: int64\n"
     ]
    }
   ],
   "source": [
    "# Check if there is no occurences of 'Fmale'\n",
    "print(heroes['Gender'].value_counts())\n",
    "\n",
    "# Substitute 'Fmale' with 'Female' in the 'Gender' column\n",
    "heroes['Gender'] = heroes['Gender'].str.replace('Fmale', 'Female')\n",
    "\n",
    "# Check if there is no occurences of 'Fmale'\n",
    "print(heroes['Gender'].value_counts())"
   ]
  },
  {
   "cell_type": "markdown",
   "metadata": {},
   "source": [
    "### Regular Expressions"
   ]
  },
  {
   "cell_type": "code",
   "execution_count": 9,
   "metadata": {},
   "outputs": [
    {
     "name": "stdout",
     "output_type": "stream",
     "text": [
      "['+23 C', '0 C', '-20.0 C', '-2.2 C', '-5.65 C', '0.0001 C', '+73.4 F', '32 F', '-4.0 F', '+28.04 F', '21.83 F', '+32.00018 F']\n"
     ]
    }
   ],
   "source": [
    "import re\n",
    "\n",
    "text = \"Let's consider the following temperatures using the Celsius scale: +23 C, 0 C, -20.0 C, -2.2 C, -5.65 C, 0.0001 C. To convert them to the Fahrenheit scale you have multiply the number by 9/5 and add 32 to the result. Therefore, the corresponding temperatures in the Fahrenheit scale will be: +73.4 F, 32 F, -4.0 F, +28.04 F, 21.83 F, +32.00018 F.\"\n",
    "\n",
    "# Define the pattern to search for valid temperatures\n",
    "pattern = re.compile(r'[+-]?\\d+\\.?\\d* [CF]')\n",
    "\n",
    "# Print the temperatures out\n",
    "print(re.findall(pattern, text))"
   ]
  },
  {
   "cell_type": "code",
   "execution_count": 10,
   "metadata": {},
   "outputs": [
    {
     "name": "stdout",
     "output_type": "stream",
     "text": [
      "matching sequence = +23 C\n",
      "start index = 67\n",
      "end index = 72\n",
      "matching sequence = 0 C\n",
      "start index = 74\n",
      "end index = 77\n",
      "matching sequence = -20.0 C\n",
      "start index = 79\n",
      "end index = 86\n",
      "matching sequence = -2.2 C\n",
      "start index = 88\n",
      "end index = 94\n",
      "matching sequence = -5.65 C\n",
      "start index = 96\n",
      "end index = 103\n",
      "matching sequence = 0.0001 C\n",
      "start index = 105\n",
      "end index = 113\n",
      "matching sequence = +73.4 F\n",
      "start index = 292\n",
      "end index = 299\n",
      "matching sequence = 32 F\n",
      "start index = 301\n",
      "end index = 305\n",
      "matching sequence = -4.0 F\n",
      "start index = 307\n",
      "end index = 313\n",
      "matching sequence = +28.04 F\n",
      "start index = 315\n",
      "end index = 323\n",
      "matching sequence = 21.83 F\n",
      "start index = 325\n",
      "end index = 332\n",
      "matching sequence = +32.00018 F\n",
      "start index = 334\n",
      "end index = 345\n"
     ]
    }
   ],
   "source": [
    "# Create an object storing the matches using 'finditer()'\n",
    "matches_storage = re.finditer(pattern, text)\n",
    "\n",
    "# Loop over matches_storage and print out item properties\n",
    "for match in matches_storage:\n",
    "    print('matching sequence = ' + match.group())\n",
    "    print('start index = ' + str(match.start()))\n",
    "    print('end index = ' + str(match.end()))"
   ]
  },
  {
   "cell_type": "code",
   "execution_count": 11,
   "metadata": {},
   "outputs": [
    {
     "name": "stdout",
     "output_type": "stream",
     "text": [
      "['October 26, 1988', 'Oct 26, 1988']\n"
     ]
    }
   ],
   "source": [
    "pattern = re.compile('[A-Z][a-z]+\\s[1-3]?\\d,\\s\\d+')\n",
    "print(re.findall(pattern, 'October 26, 1988. Oct 26, 1988. Oct 44, 1988'))"
   ]
  },
  {
   "cell_type": "code",
   "execution_count": 12,
   "metadata": {},
   "outputs": [
    {
     "name": "stdout",
     "output_type": "stream",
     "text": [
      "['', 'P', 'y', 't', 'h', 'o', 'n', '', 'h', 'a', 's', '', '4', '', 'm', 'a', 'i', 'n', '', 'd', 'a', 't', 'a', '', 's', 't', 'r', 'u', 'c', 't', 'u', 'r', 'e', 's', '', 'l', 'i', 's', 't', '', 't', 'u', 'p', 'l', 'e', '', 's', 'e', 't', '', 'a', 'n', 'd', '', 'd', 'i', 'c', 't', 'i', 'o', 'n', 'a', 'r', 'y', '', '']\n"
     ]
    }
   ],
   "source": [
    "text = 'Python has 4 main data structures: list, tuple, set, and dictionary.'\n",
    "\n",
    "# Compile the regular expression\n",
    "pattern = re.compile(r'[,:\\.]?\\s?')\n",
    "\n",
    "# Split the text that only words or numbers are left\n",
    "words = re.split(pattern, text)\n",
    "print(words)"
   ]
  },
  {
   "cell_type": "code",
   "execution_count": 13,
   "metadata": {},
   "outputs": [
    {
     "name": "stdout",
     "output_type": "stream",
     "text": [
      "['Python', 'has', '4', 'main', 'data', 'structures', 'list', 'tuple', 'set', 'and', 'dictionary']\n"
     ]
    }
   ],
   "source": [
    "# Define an easier way to extract words or numbers\n",
    "alt_pattern = re.compile(r'\\w+')\n",
    "print(re.findall(alt_pattern, text))"
   ]
  },
  {
   "cell_type": "markdown",
   "metadata": {},
   "source": [
    "### Iterable Objects"
   ]
  },
  {
   "cell_type": "code",
   "execution_count": 14,
   "metadata": {},
   "outputs": [
    {
     "name": "stdout",
     "output_type": "stream",
     "text": [
      "{'e': [0, 4, 8, 15, 20], 'n': [1, 11], 'u': [2], 'm': [3], 'r': [5, 16], 'a': [6, 10, 17], 't': [7, 14], ' ': [9, 12], 'I': [13], 'b': [18], 'l': [19]}\n"
     ]
    }
   ],
   "source": [
    "def retrieve_character_indices(string):\n",
    "    character_indices = dict()\n",
    "    # Define the 'for' loop\n",
    "    for index, character in enumerate(string):\n",
    "        # Update the dictionary if the key already exists\n",
    "        if character in character_indices:\n",
    "            character_indices[character].append(index)\n",
    "        # Update the dictionary if the key is absent\n",
    "        else:\n",
    "            character_indices[character] = [index]\n",
    "            \n",
    "    return character_indices\n",
    "  \n",
    "print(retrieve_character_indices('enumerate an Iterable'))"
   ]
  },
  {
   "cell_type": "markdown",
   "metadata": {},
   "source": [
    "### Traversing DataFrames"
   ]
  },
  {
   "cell_type": "code",
   "execution_count": 15,
   "metadata": {},
   "outputs": [
    {
     "name": "stdout",
     "output_type": "stream",
     "text": [
      "dict_keys(['name', 'Gender', 'Eye color', 'Race', 'Hair color', 'Height', 'Publisher', 'Skin color', 'Alignment', 'Weight'])\n"
     ]
    }
   ],
   "source": [
    "column_counts = dict()\n",
    "\n",
    "# Traverse through the columns in the heroes DataFrame\n",
    "for column_name, series in heroes.iteritems():\n",
    "    # Retrieve the values stored in series in a list form\n",
    "    values = list(series)\n",
    "    category_counts = dict()  \n",
    "    # Traverse through unique categories in values\n",
    "    for category in set(values):\n",
    "        # Count the appearance of category in values\n",
    "        category_counts[category] = values.count(category)\n",
    "    \n",
    "    column_counts[column_name] = category_counts\n",
    "    \n",
    "print(column_counts.keys())"
   ]
  },
  {
   "cell_type": "markdown",
   "metadata": {},
   "source": [
    "### List Comprehension"
   ]
  },
  {
   "cell_type": "code",
   "execution_count": 16,
   "metadata": {},
   "outputs": [
    {
     "name": "stdout",
     "output_type": "stream",
     "text": [
      "verify: 2\n",
      "your: 4\n",
      "account: 3\n",
      "administration: 2\n",
      "to: 4\n",
      "service: 2\n",
      "team: 2\n",
      "you: 3\n",
      "our: 2\n",
      "the: 4\n"
     ]
    }
   ],
   "source": [
    "def create_word_list(string):\n",
    "  \n",
    "        # Finding all the words\n",
    "    pattern = re.compile(r'\\w+')\n",
    "    words = re.findall(pattern, string)\n",
    "        \n",
    "    return words\n",
    "\n",
    "spam = '''Dear User,\n",
    "\n",
    "Our Administration Team needs to inform you that you are reaching the storage limit of your Mailbox account.\n",
    "You have to verify your account within the next 24 hours.\n",
    "Otherwise, it will not be possible to use the service.\n",
    "Please, click on the link below to verify your account and continue using our service.\n",
    "\n",
    "Your Administration Team.'''\n",
    "\n",
    "# Convert the text to lower case and create a word list\n",
    "words = create_word_list(spam.lower())\n",
    "\n",
    "# Create a set storing only unique words\n",
    "word_set = set(words)\n",
    "\n",
    "# Create a dictionary that counts each word in the list\n",
    "tuples = [(word, words.count(word)) for word in word_set]\n",
    "word_counter = dict(tuples)\n",
    "\n",
    "# Printing words that appear more than once\n",
    "for (key, value) in word_counter.items():\n",
    "    if value > 1:\n",
    "        print(\"{}: {}\".format(key, value))"
   ]
  },
  {
   "cell_type": "code",
   "execution_count": 17,
   "metadata": {},
   "outputs": [
    {
     "name": "stdout",
     "output_type": "stream",
     "text": [
      "primes = [5, 13, 17, 29, 37, 41]\n"
     ]
    }
   ],
   "source": [
    "import math\n",
    "def is_prime(n):\n",
    "    # Define the initial check\n",
    "    if n < 2:\n",
    "       return False\n",
    "    # Define the loop checking if a number is not prime\n",
    "    for i in range(2, int(math.sqrt(n)) + 1):\n",
    "        if n % i == 0:\n",
    "            return False\n",
    "    return True\n",
    "cands = [1, 5, 9, 13, 17, 21, 25, 29, 33, 37, 41, 45, 49]    \n",
    "# Filter prime numbers into the new list\n",
    "primes = [num for num in cands if is_prime(num)]\n",
    "print(\"primes = \" + str(primes))"
   ]
  },
  {
   "cell_type": "code",
   "execution_count": 18,
   "metadata": {},
   "outputs": [
    {
     "name": "stdout",
     "output_type": "stream",
     "text": [
      "[(5, 7), (5, 14), (5, 21), (5, 28), (5, 42), (5, 49), (5, 56), (5, 63), (5, 77), (5, 84), (5, 91), (5, 98), (10, 7), (10, 21), (10, 49), (10, 63), (10, 77), (10, 91), (15, 7), (15, 14), (15, 28), (15, 49), (15, 56), (15, 77), (15, 91), (15, 98), (20, 7), (20, 21), (20, 49), (20, 63), (20, 77), (20, 91), (25, 7), (25, 14), (25, 21), (25, 28), (25, 42), (25, 49), (25, 56), (25, 63), (25, 77), (25, 84), (25, 91), (25, 98), (30, 7), (30, 49), (30, 77), (30, 91), (40, 7), (40, 21), (40, 49), (40, 63), (40, 77), (40, 91), (45, 7), (45, 14), (45, 28), (45, 49), (45, 56), (45, 77), (45, 91), (45, 98), (50, 7), (50, 21), (50, 49), (50, 63), (50, 77), (50, 91), (55, 7), (55, 14), (55, 21), (55, 28), (55, 42), (55, 49), (55, 56), (55, 63), (55, 84), (55, 91), (55, 98), (60, 7), (60, 49), (60, 77), (60, 91), (65, 7), (65, 14), (65, 21), (65, 28), (65, 42), (65, 49), (65, 56), (65, 63), (65, 77), (65, 84), (65, 98)]\n"
     ]
    }
   ],
   "source": [
    "def gcd(a, b):\n",
    "    # Define the while loop as described\n",
    "    while b != 0:\n",
    "        temp_a = a\n",
    "        a = b\n",
    "        b = temp_a % b   \n",
    "    # Complete the return statement\n",
    "    return a\n",
    "\n",
    "list1 = [5, 10, 15, 20, 25, 30, 35, 40, 45, 50, 55, 60, 65, 70] \n",
    "list2 = [7, 14, 21, 28, 35, 42, 49, 56, 63, 70, 77, 84, 91, 98]\n",
    "# Create a list of tuples defining pairs of coprime numbers\n",
    "coprimes = [(i, j) for i in list1 \n",
    "                 for j in list2 if gcd(i, j) == 1]\n",
    "print(coprimes)"
   ]
  },
  {
   "cell_type": "code",
   "execution_count": 19,
   "metadata": {},
   "outputs": [
    {
     "name": "stdout",
     "output_type": "stream",
     "text": [
      "(['Python', 'creativity', 'universe'], 3, 'creativity')\n",
      "(['interview', 'study', 'job', 'university', 'lecture'], 5, 'university')\n",
      "(['task', 'objective', 'aim', 'subject', 'programming', 'test', 'research'], 7, 'programming')\n"
     ]
    }
   ],
   "source": [
    "# Define a function searching for the longest word\n",
    "def get_longest_word(words):\n",
    "    longest_word = ''\n",
    "    for word in words:\n",
    "        if len(word) > len(longest_word):\n",
    "            longest_word = word\n",
    "    return longest_word\n",
    "\n",
    "wlist = [['Python', 'creativity', 'universe'], ['interview', 'study', 'job', 'university', 'lecture'], ['task', 'objective', 'aim', 'subject', 'programming', 'test', 'research']]\n",
    "# Create lists with the lengths and longest words\n",
    "lengths = [len(item) for item in wlist]\n",
    "words = [get_longest_word(item) for item in wlist]\n",
    "\n",
    "# Combine the resulting data into one iterable object\n",
    "for item in zip(wlist, lengths, words):\n",
    "    print(item)"
   ]
  },
  {
   "cell_type": "markdown",
   "metadata": {},
   "source": [
    "### Zip Objects"
   ]
  },
  {
   "cell_type": "code",
   "execution_count": 20,
   "metadata": {},
   "outputs": [
    {
     "name": "stdout",
     "output_type": "stream",
     "text": [
      "(['Python', 'creativity', 'universe'], 3, 'creativity')\n",
      "(['interview', 'study', 'job', 'university', 'lecture'], 5, 'university')\n",
      "(['task', 'objective', 'aim', 'subject', 'programming', 'test', 'research'], 7, 'programming')\n"
     ]
    }
   ],
   "source": [
    "# Create a list of tuples with lengths and longest words\n",
    "result = [(len(item), get_longest_word(item)) for item in wlist]\n",
    "\n",
    "# Unzip the result    \n",
    "lengths, words = zip(*result)\n",
    "\n",
    "for item in zip(wlist, lengths, words):\n",
    "    print(item)"
   ]
  },
  {
   "cell_type": "code",
   "execution_count": 21,
   "metadata": {},
   "outputs": [
    {
     "name": "stdout",
     "output_type": "stream",
     "text": [
      "           word  length\n",
      "0        Python       6\n",
      "1    creativity      10\n",
      "2      universe       8\n",
      "3     interview       9\n",
      "4         study       5\n",
      "5           job       3\n",
      "6    university      10\n",
      "7       lecture       7\n",
      "8          task       4\n",
      "9     objective       9\n",
      "10          aim       3\n",
      "11      subject       7\n",
      "12  programming      11\n",
      "13         test       4\n",
      "14     research       8\n"
     ]
    }
   ],
   "source": [
    "# Create a list of tuples with words and their lengths\n",
    "word_lengths = [\n",
    "    (item, len(item)) for items in wlist for item in items\n",
    "]\n",
    "\n",
    "# Unwrap the word_lengths\n",
    "words, lengths = zip(*word_lengths)\n",
    "\n",
    "# Create a zip object\n",
    "col_names = ['word', 'length']\n",
    "result = zip(col_names, [words, lengths])\n",
    "\n",
    "# Convert the result to a dictionary and build a DataFrame\n",
    "data_frame = pd.DataFrame(dict(result))\n",
    "print(data_frame)"
   ]
  },
  {
   "cell_type": "markdown",
   "metadata": {},
   "source": [
    "### Generators"
   ]
  },
  {
   "cell_type": "code",
   "execution_count": 22,
   "metadata": {},
   "outputs": [
    {
     "name": "stdout",
     "output_type": "stream",
     "text": [
      "aCampDat\n"
     ]
    }
   ],
   "source": [
    "def shift_string(string, shift):\n",
    "    len_string = len(string)\n",
    "    # Define a for loop with the yield statement\n",
    "    for idx in range(len_string):\n",
    "        yield string[(idx - shift) % len_string]\n",
    "       \n",
    "# Create a generator\n",
    "gen = shift_string('DataCamp', 5)\n",
    "\n",
    "# Create a new string using the generator and print it out\n",
    "string_shifted = ''.join(gen)\n",
    "print(string_shifted)"
   ]
  },
  {
   "cell_type": "code",
   "execution_count": 23,
   "metadata": {},
   "outputs": [
    {
     "name": "stdout",
     "output_type": "stream",
     "text": [
      "1: {1: [0, 0], 2: [0, 0], 3: [1, 1.0], 4: [0, 0], 5: [0, 0], 6: [0, 0]}\n",
      "2: {1: [0, 0], 2: [0, 0], 3: [1, 1.0], 4: [0, 0], 5: [0, 0], 6: [1, 0.5]}\n",
      "3: {1: [0, 0], 2: [1, 0.33], 3: [1, 1.0], 4: [0, 0], 5: [0, 0], 6: [1, 0.5]}\n",
      "4: {1: [0, 0], 2: [1, 0.33], 3: [1, 1.0], 4: [1, 0.25], 5: [0, 0], 6: [1, 0.5]}\n"
     ]
    }
   ],
   "source": [
    "import random\n",
    "def simulate_dice_throws():\n",
    "    total, out = 0, dict([(i, [0, 0]) for i in range(1, 7)])\n",
    "    while True:\n",
    "        # Simulate a single toss to get a new number\n",
    "        num = random.randint(1, 6)\n",
    "        total += 1\n",
    "        # Update the number and the ratio of realizations\n",
    "        out[num][0] = out[num][0] + 1\n",
    "        out[num][1] = round(out[num][0]/total, 2)\n",
    "        # Yield the updated dictionary\n",
    "        yield out\n",
    "\n",
    "# Create the generator and simulate 1000 tosses\n",
    "dice_simulator = simulate_dice_throws()\n",
    "for i in range(1, 5):\n",
    "    print(str(i) + ': ' + str(next(dice_simulator)))"
   ]
  },
  {
   "cell_type": "code",
   "execution_count": 24,
   "metadata": {},
   "outputs": [
    {
     "name": "stdout",
     "output_type": "stream",
     "text": [
      "(0, 0)\n",
      "(1, 1)\n",
      "(4, 4)\n",
      "(9, 9)\n",
      "(16, 16)\n",
      "(25, 25)\n",
      "(36, 36)\n",
      "(49, 49)\n",
      "(64, 64)\n",
      "(81, 81)\n"
     ]
    }
   ],
   "source": [
    "def func1(n):\n",
    "  for i in range(0, n):\n",
    "    yield i**2\n",
    "\n",
    "# Rewrite func1() as a generator comprehension\n",
    "gen = (i**2 for i in range(0, 10))\n",
    "\n",
    "for item in zip(gen, func1(10)):\n",
    "    print(item)"
   ]
  },
  {
   "cell_type": "code",
   "execution_count": 25,
   "metadata": {},
   "outputs": [
    {
     "name": "stdout",
     "output_type": "stream",
     "text": [
      "(0, 0)\n",
      "(4, 4)\n",
      "(8, 8)\n",
      "(12, 12)\n",
      "(16, 16)\n",
      "(20, 20)\n",
      "(24, 24)\n",
      "(28, 28)\n",
      "(32, 32)\n",
      "(36, 36)\n"
     ]
    }
   ],
   "source": [
    "def func2(n):\n",
    "  for i in range(0, n):\n",
    "     if i%2 == 0:\n",
    "       yield 2*i\n",
    "\n",
    "# Rewrite func2() as a generator comprehension\n",
    "gen = (2*i for i in range(0, 20) if i % 2 == 0)\n",
    "\n",
    "for item in zip(gen, func2(20)):\n",
    "    print(item)"
   ]
  },
  {
   "cell_type": "code",
   "execution_count": 26,
   "metadata": {},
   "outputs": [
    {
     "name": "stdout",
     "output_type": "stream",
     "text": [
      "(((0, 0), 0), ((0, 0), 0))\n",
      "(((0, 4), 4), ((0, 4), 4))\n",
      "(((0, 8), 8), ((0, 8), 8))\n",
      "(((0, 12), 12), ((0, 12), 12))\n",
      "(((0, 16), 16), ((0, 16), 16))\n",
      "(((1, 0), 1), ((1, 0), 1))\n",
      "(((1, 4), 5), ((1, 4), 5))\n",
      "(((1, 8), 9), ((1, 8), 9))\n",
      "(((1, 12), 13), ((1, 12), 13))\n",
      "(((1, 16), 17), ((1, 16), 17))\n",
      "(((4, 0), 4), ((4, 0), 4))\n",
      "(((4, 4), 8), ((4, 4), 8))\n",
      "(((4, 8), 12), ((4, 8), 12))\n",
      "(((4, 12), 16), ((4, 12), 16))\n",
      "(((4, 16), 20), ((4, 16), 20))\n",
      "(((9, 0), 9), ((9, 0), 9))\n",
      "(((9, 4), 13), ((9, 4), 13))\n",
      "(((9, 8), 17), ((9, 8), 17))\n",
      "(((9, 12), 21), ((9, 12), 21))\n",
      "(((9, 16), 25), ((9, 16), 25))\n",
      "(((16, 0), 16), ((16, 0), 16))\n",
      "(((16, 4), 20), ((16, 4), 20))\n",
      "(((16, 8), 24), ((16, 8), 24))\n",
      "(((16, 12), 28), ((16, 12), 28))\n",
      "(((16, 16), 32), ((16, 16), 32))\n",
      "(((25, 0), 25), ((25, 0), 25))\n",
      "(((25, 4), 29), ((25, 4), 29))\n",
      "(((25, 8), 33), ((25, 8), 33))\n",
      "(((25, 12), 37), ((25, 12), 37))\n",
      "(((25, 16), 41), ((25, 16), 41))\n",
      "(((36, 0), 36), ((36, 0), 36))\n",
      "(((36, 4), 40), ((36, 4), 40))\n",
      "(((36, 8), 44), ((36, 8), 44))\n",
      "(((36, 12), 48), ((36, 12), 48))\n",
      "(((36, 16), 52), ((36, 16), 52))\n",
      "(((49, 0), 49), ((49, 0), 49))\n",
      "(((49, 4), 53), ((49, 4), 53))\n",
      "(((49, 8), 57), ((49, 8), 57))\n",
      "(((49, 12), 61), ((49, 12), 61))\n",
      "(((49, 16), 65), ((49, 16), 65))\n"
     ]
    }
   ],
   "source": [
    "def func3(n, m):\n",
    "  for i in func1(n):\n",
    "    for j in func2(m):\n",
    "      yield ((i, j), i + j)\n",
    "    \n",
    "    # Rewrite func3() as a generator comprehension\n",
    "gen = (((i, j), i + j) for i in func1(8) for j in func2(10))\n",
    "\n",
    "for item in zip(gen, func3(8, 10)):\n",
    "    print(item)"
   ]
  },
  {
   "cell_type": "markdown",
   "metadata": {},
   "source": [
    "### \\*args, \\*\\*kwargs"
   ]
  },
  {
   "cell_type": "code",
   "execution_count": 27,
   "metadata": {},
   "outputs": [
    {
     "name": "stdout",
     "output_type": "stream",
     "text": [
      "([1.57, 4, 5, 0.89], ['car', 'hat', 'tree'])\n"
     ]
    }
   ],
   "source": [
    "# Define the function with an arbitrary number of arguments\n",
    "def sort_types(*args):\n",
    "    nums, strings = [], []    \n",
    "    for arg in args:\n",
    "        # Check if 'arg' is a number and add it to 'nums'\n",
    "        if isinstance(arg, int) or isinstance(arg, float):\n",
    "            nums.append(arg)\n",
    "        # Check if 'arg' is a string and add it to 'strings'\n",
    "        elif isinstance(arg, str):\n",
    "            strings.append(arg)\n",
    "    \n",
    "    return (nums, strings)\n",
    "            \n",
    "print(sort_types(1.57, 'car', 'hat', 4, 5, 'tree', 0.89))"
   ]
  },
  {
   "cell_type": "code",
   "execution_count": 28,
   "metadata": {},
   "outputs": [
    {
     "name": "stdout",
     "output_type": "stream",
     "text": [
      "{<class 'int'>: ['a', 'b'], <class 'tuple'>: ['c'], <class 'float'>: ['d', 'e']}\n"
     ]
    }
   ],
   "source": [
    "# Define the function with an arbitrary number of arguments\n",
    "def key_types(**kwargs):\n",
    "    dict_type = dict()\n",
    "    # Iterate over key value pairs\n",
    "    for key, value in kwargs.items():\n",
    "        # Update a list associated with a key\n",
    "        if type(value) in dict_type:\n",
    "            dict_type[type(value)].append(key)\n",
    "        else:\n",
    "            dict_type[type(value)] = [key]\n",
    "            \n",
    "    return dict_type\n",
    "  \n",
    "res = key_types(a=1, b=2, c=(1, 2), d=3.1, e=4.2)\n",
    "print(res)"
   ]
  },
  {
   "cell_type": "code",
   "execution_count": 29,
   "metadata": {},
   "outputs": [
    {
     "name": "stdout",
     "output_type": "stream",
     "text": [
      "([1, 2.0, 5.1, 0.0, 5], ['dog', 'cat'])\n"
     ]
    }
   ],
   "source": [
    "# Define the arguments passed to the function\n",
    "def sort_all_types(*args, **kwargs):\n",
    "\n",
    "    # Find all the numbers and strings in the 1st argument\n",
    "    nums1, strings1 = sort_types(*args)\n",
    "    \n",
    "    # Find all the numbers and strings in the 2nd argument\n",
    "    nums2, strings2 = sort_types(*kwargs.values())\n",
    "    \n",
    "    return (nums1 + nums2, strings1 + strings2)\n",
    "  \n",
    "res = sort_all_types(1, 2.0, 'dog', 5.1, num1 = 0.0, num2 = 5, str1 = 'cat')\n",
    "print(res)"
   ]
  },
  {
   "cell_type": "markdown",
   "metadata": {},
   "source": [
    "### Lambda"
   ]
  },
  {
   "cell_type": "code",
   "execution_count": 30,
   "metadata": {},
   "outputs": [
    {
     "name": "stdout",
     "output_type": "stream",
     "text": [
      "4.0\n",
      "0\n"
     ]
    }
   ],
   "source": [
    "# Take x and return x squared if x > 0 and 0, otherwise\n",
    "squared_no_negatives = lambda x: x*x if x > 0 else 0\n",
    "print(squared_no_negatives(2.0))\n",
    "print(squared_no_negatives(-1))"
   ]
  },
  {
   "cell_type": "code",
   "execution_count": 31,
   "metadata": {},
   "outputs": [
    {
     "name": "stdout",
     "output_type": "stream",
     "text": [
      "[2, 4, 6, 8, 10]\n"
     ]
    }
   ],
   "source": [
    "# Take a list of integers nums and leave only even numbers\n",
    "get_even = lambda nums: [num for num in nums if num % 2 == 0]\n",
    "print(get_even([1, 2, 3, 4, 5, 6, 7, 8, 9, 10]))"
   ]
  },
  {
   "cell_type": "code",
   "execution_count": 32,
   "metadata": {},
   "outputs": [
    {
     "name": "stdout",
     "output_type": "stream",
     "text": [
      "{'p', 'a'}\n"
     ]
    }
   ],
   "source": [
    "# Take strings s1, s2 and list their common characters\n",
    "common_chars = lambda s1, s2: set(s1) & set(s2)\n",
    "print(common_chars('pasta', 'pizza'))"
   ]
  },
  {
   "cell_type": "code",
   "execution_count": 33,
   "metadata": {},
   "outputs": [
    {
     "name": "stdout",
     "output_type": "stream",
     "text": [
      "5, 5\n",
      "5, 5\n"
     ]
    }
   ],
   "source": [
    "# Returns a bigger of the two numbers\n",
    "def func1(x, y):\n",
    "    if x >= y:\n",
    "        return x\n",
    "\n",
    "    return y\n",
    "# Convert func1() to a lambda expression\n",
    "lambda1 = lambda x, y: x if x >= y else y\n",
    "print(str(func1(5, 4)) + ', ' + str(lambda1(5, 4)))\n",
    "print(str(func1(4, 5)) + ', ' + str(lambda1(4, 5)))"
   ]
  },
  {
   "cell_type": "code",
   "execution_count": 34,
   "metadata": {},
   "outputs": [
    {
     "name": "stdout",
     "output_type": "stream",
     "text": [
      "{'t': 1, 'm': 1, 'C': 1, 'p': 1, 'a': 3, 'D': 1}\n",
      "{'t': 1, 'm': 1, 'C': 1, 'p': 1, 'a': 3, 'D': 1}\n"
     ]
    }
   ],
   "source": [
    "# Returns a dictionary counting charaters in a string\n",
    "def func2(s):\n",
    "    d = dict()\n",
    "    for c in set(s):\n",
    "        d[c] = s.count(c)\n",
    "    return d\n",
    "\n",
    "# Convert func2() to a lambda expression\n",
    "lambda2 = lambda s: {c:s.count(c) for c in set(s)}\n",
    "print(func2('DataCamp'))\n",
    "print(lambda2('DataCamp'))"
   ]
  },
  {
   "cell_type": "code",
   "execution_count": 35,
   "metadata": {},
   "outputs": [
    {
     "name": "stdout",
     "output_type": "stream",
     "text": [
      "5.0, 5.0\n",
      "7.0710678118654755, 7.0710678118654755\n"
     ]
    }
   ],
   "source": [
    "# Returns a squared root of a sum of squared numbers\n",
    "def func3(*nums):\n",
    "    squared_nums = [n**2 for n in nums]\n",
    "    sum_squared_nums = sum(squared_nums)\n",
    "\n",
    "    return math.sqrt(sum_squared_nums)\n",
    "\n",
    "# Convert func3() to a lambda expression\n",
    "lambda3 = lambda *nums: math.sqrt(sum([n**2 for n in nums]))\n",
    "print(str(func3(3, 4)) + ', ' + str(lambda3(3, 4)))\n",
    "print(str(func3(3, 4, 5)) + ', ' + str(lambda3(3, 4, 5)))"
   ]
  },
  {
   "cell_type": "code",
   "execution_count": 36,
   "metadata": {},
   "outputs": [
    {
     "name": "stdout",
     "output_type": "stream",
     "text": [
      "['car', 'bag', 'job', 'time', 'cell', 'call', 'area', 'item', 'unit', 'truck', 'phone', 'shape', 'plane', 'leader', 'height', 'tequila', 'chicken', 'country', 'service', 'creature', 'interview', 'advantage', 'government', 'atmosphere', 'transaction']\n"
     ]
    }
   ],
   "source": [
    "words = ['car', 'truck', 'interview', 'tequila', 'time', 'cell', 'chicken', 'leader', 'government', 'transaction', 'country', 'bag', 'call', 'area', 'service', 'phone', 'advantage', 'job', 'shape', 'item', 'atmosphere', 'height', 'creature', 'plane', 'unit']\n",
    "# Sort words by the string length\n",
    "words.sort(key=lambda s: len(s))\n",
    "print(words)"
   ]
  },
  {
   "cell_type": "code",
   "execution_count": 37,
   "metadata": {},
   "outputs": [
    {
     "name": "stdout",
     "output_type": "stream",
     "text": [
      "['area', 'tequila', 'job', 'time', 'phone', 'shape', 'plane', 'service', 'creature', 'advantage', 'atmosphere', 'bag', 'truck', 'cell', 'call', 'item', 'chicken', 'transaction', 'car', 'leader', 'unit', 'height', 'government', 'interview', 'country']\n"
     ]
    }
   ],
   "source": [
    "# Sort words by the last character in a string\n",
    "words.sort(key=lambda s: s[-1])\n",
    "print(words)"
   ]
  },
  {
   "cell_type": "code",
   "execution_count": 38,
   "metadata": {},
   "outputs": [
    {
     "name": "stdout",
     "output_type": "stream",
     "text": [
      "['time', 'phone', 'item', 'unit', 'height', 'government', 'interview', 'tequila', 'job', 'shape', 'plane', 'service', 'atmosphere', 'truck', 'cell', 'leader', 'country', 'area', 'creature', 'bag', 'call', 'chicken', 'car', 'advantage', 'transaction']\n"
     ]
    }
   ],
   "source": [
    "# Sort words by the total amount of certain characters\n",
    "words.sort(key=lambda s: s.count('a') + s.count('b') + s.count('c'))\n",
    "print(words)"
   ]
  },
  {
   "cell_type": "markdown",
   "metadata": {},
   "source": [
    "### Map"
   ]
  },
  {
   "cell_type": "code",
   "execution_count": 39,
   "metadata": {},
   "outputs": [
    {
     "name": "stdout",
     "output_type": "stream",
     "text": [
      "[(1, 'a', 'D'), (2, 'b', 'a'), (3, 'c', 't')]\n"
     ]
    }
   ],
   "source": [
    "def my_zip(*args):\n",
    "    \n",
    "    # Retrieve Iterable lengths and find the minimal length\n",
    "    lengths = list(map(len, args))\n",
    "    min_length = min(lengths)\n",
    "\n",
    "    tuple_list = []\n",
    "    for i in range(0, min_length):\n",
    "        # Append new items to the 'tuple_list'\n",
    "        tuple_list.append(tuple(map(lambda x: x[i], args)))\n",
    "\n",
    "    return tuple_list\n",
    "\n",
    "result = my_zip([1, 2, 3], ['a', 'b', 'c', 'd'], 'DataCamp')\n",
    "print(result)"
   ]
  },
  {
   "cell_type": "markdown",
   "metadata": {},
   "source": [
    "### Filter"
   ]
  },
  {
   "cell_type": "code",
   "execution_count": 40,
   "metadata": {},
   "outputs": [
    {
     "name": "stdout",
     "output_type": "stream",
     "text": [
      "[0, 1, 2, 3, 4, 5, 6, 7, 8, 9, 10, 11, 12, 13, 14, 15, 16, 17, 18, 19, 20, 21, 22, 23, 24, 25, 26, 27, 28, 29, 30, 31, 32, 33, 34, 35, 36, 37, 38, 39, 40, 41, 42, 43, 44, 45, 46, 47, 48, 49, 50, 51, 52, 53, 54, 55, 56, 57, 58, 59, 60, 61, 62, 63, 64, 65, 66, 67, 68, 69, 70, 71, 72, 73, 74, 75, 76, 77, 78, 79, 80, 81, 82, 83, 84, 85, 86, 87, 88, 89, 90, 91, 92, 93, 94, 95, 96, 97, 98, 99, 100]\n",
      "[1, 2, 4, 7, 8, 11, 13, 14, 16, 17, 19, 22, 23, 26, 28, 29, 31, 32, 34, 37, 38, 41, 43, 44, 46, 47, 49, 52, 53, 56, 58, 59, 61, 62, 64, 67, 68, 71, 73, 74, 76, 77, 79, 82, 83, 86, 88, 89, 91, 92, 94, 97, 98]\n"
     ]
    }
   ],
   "source": [
    "nums = [0, 1, 2, 3, 4, 5, 6, 7, 8, 9, 10, 11, 12, 13, 14, 15, 16, 17, 18, 19, 20, 21, 22, 23, 24, 25, 26, 27, 28, 29, 30, 31, 32, 33, 34, 35, 36, 37, 38, 39, 40, 41, 42, 43, 44, 45, 46, 47, 48, 49, 50, 51, 52, 53, 54, 55, 56, 57, 58, 59, 60, 61, 62, 63, 64, 65, 66, 67, 68, 69, 70, 71, 72, 73, 74, 75, 76, 77, 78, 79, 80, 81, 82, 83, 84, 85, 86, 87, 88, 89, 90, 91, 92, 93, 94, 95, 96, 97, 98, 99, 100]\n",
    "# Filter out all the numbers in nums divisible by 3 or 5\n",
    "print(nums)\n",
    "fnums = filter(lambda x: x % 3 != 0 and x % 5 != 0, nums)\n",
    "print(list(fnums))"
   ]
  },
  {
   "cell_type": "code",
   "execution_count": 41,
   "metadata": {},
   "outputs": [
    {
     "name": "stdout",
     "output_type": "stream",
     "text": [
      "Ordinary Least Squares\n",
      "rdnry Lst Sqrs\n"
     ]
    }
   ],
   "source": [
    "string = 'Ordinary Least Squares'\n",
    "# Return the string without its vowels\n",
    "print(string)\n",
    "vowels = 'AEIOUaeiou'\n",
    "fstring = filter(lambda x: x not in vowels, string)\n",
    "print(''.join(fstring))"
   ]
  },
  {
   "cell_type": "code",
   "execution_count": 42,
   "metadata": {},
   "outputs": [
    {
     "name": "stdout",
     "output_type": "stream",
     "text": [
      "['riddikulus', 'obliviate', 'sectumsempra', 'avada kedavra', 'alohomora', 'lumos', 'expelliarmus', 'expecto patronum']\n",
      "['avada kedavra']\n"
     ]
    }
   ],
   "source": [
    "spells = ['riddikulus', 'obliviate', 'sectumsempra', 'avada kedavra', 'alohomora', 'lumos', 'expelliarmus', 'expecto patronum']\n",
    "# Filter all the spells in spells with more than two 'a's\n",
    "print(spells)\n",
    "fspells = filter(lambda x: x.count('a') > 2, spells)\n",
    "print(list(fspells))"
   ]
  },
  {
   "cell_type": "markdown",
   "metadata": {},
   "source": [
    "### Reduce"
   ]
  },
  {
   "cell_type": "code",
   "execution_count": 43,
   "metadata": {},
   "outputs": [
    {
     "name": "stdout",
     "output_type": "stream",
     "text": [
      "Inverted string = pmaCataD\n"
     ]
    }
   ],
   "source": [
    "from functools import reduce\n",
    "# Reverse a string using reduce()\n",
    "string = 'DataCamp'\n",
    "inv_string = reduce(lambda x, y: y + x, string)\n",
    "print('Inverted string = ' + inv_string) "
   ]
  },
  {
   "cell_type": "code",
   "execution_count": 44,
   "metadata": {},
   "outputs": [
    {
     "name": "stdout",
     "output_type": "stream",
     "text": [
      "common items = {9, 4, 1}\n"
     ]
    }
   ],
   "source": [
    "# Find common items shared among all the lists in lists\n",
    "lists = [[1, 4, 8, 9], [2, 4, 6, 9, 10, 1], [9, 0, 1, 2, 4]]\n",
    "common_items = reduce(lambda x, y: set(x).intersection(y), lists)\n",
    "print('common items = ' + str(common_items))"
   ]
  },
  {
   "cell_type": "code",
   "execution_count": 45,
   "metadata": {},
   "outputs": [
    {
     "name": "stdout",
     "output_type": "stream",
     "text": [
      "[5, 6, 0, 1] is converted to 5601\n"
     ]
    }
   ],
   "source": [
    "# Convert a number sequence into a single number\n",
    "nums = [5, 6, 0, 1]\n",
    "num = reduce(lambda x, y: 10*x + y, nums)\n",
    "print(str(nums) + ' is converted to ' + str(num))"
   ]
  },
  {
   "cell_type": "markdown",
   "metadata": {},
   "source": [
    "### Recursion"
   ]
  },
  {
   "cell_type": "code",
   "execution_count": 46,
   "metadata": {},
   "outputs": [
    {
     "name": "stdout",
     "output_type": "stream",
     "text": [
      "3.0\n"
     ]
    }
   ],
   "source": [
    "# Calculate an average value of the sequence of numbers\n",
    "def average(nums):\n",
    "  \n",
    "    # Base case\n",
    "    if len(nums) == 1:  \n",
    "        return nums[0]\n",
    "    \n",
    "    # Recursive call\n",
    "    n = len(nums)\n",
    "    return (nums[0] + (n - 1) * average(nums[1:])) / n  \n",
    "\n",
    "# Testing the function\n",
    "print(average([1, 2, 3, 4, 5]))"
   ]
  },
  {
   "cell_type": "code",
   "execution_count": 47,
   "metadata": {},
   "outputs": [
    {
     "name": "stdout",
     "output_type": "stream",
     "text": [
      "approx = 3.143588659585789, theor = 3.141592653589793\n"
     ]
    }
   ],
   "source": [
    "# Write an expression to get the k-th element of the series \n",
    "get_elmnt = lambda k: ((-1)**k)/(2*k+1)\n",
    "\n",
    "def calc_pi(n):\n",
    "    curr_elmnt = get_elmnt(n)\n",
    "    \n",
    "    # Define the base case \n",
    "    if n == 0:\n",
    "    \treturn 4\n",
    "      \n",
    "    # Make the recursive call\n",
    "    return 4 * curr_elmnt + calc_pi(n-1)\n",
    "  \n",
    "# Compare the approximated Pi value to the theoretical one\n",
    "print(\"approx = {}, theor = {}\".format(calc_pi(500), math.pi))"
   ]
  },
  {
   "cell_type": "markdown",
   "metadata": {},
   "source": [
    "### Numpy Arrays"
   ]
  },
  {
   "cell_type": "code",
   "execution_count": 48,
   "metadata": {},
   "outputs": [
    {
     "data": {
      "text/plain": [
       "array([1, (2, 3), 4], dtype=object)"
      ]
     },
     "execution_count": 48,
     "metadata": {},
     "output_type": "execute_result"
    }
   ],
   "source": [
    "import numpy as np\n",
    "np.array([1, (2, 3), 4])"
   ]
  },
  {
   "cell_type": "code",
   "execution_count": 49,
   "metadata": {},
   "outputs": [
    {
     "data": {
      "text/plain": [
       "array([1, 2, 3], dtype=object)"
      ]
     },
     "execution_count": 49,
     "metadata": {},
     "output_type": "execute_result"
    }
   ],
   "source": [
    "np.array([1, 2, 3], dtype=np.dtype('O'))"
   ]
  },
  {
   "cell_type": "code",
   "execution_count": 50,
   "metadata": {},
   "outputs": [
    {
     "name": "stdout",
     "output_type": "stream",
     "text": [
      "[1, 2, 3, 4, 5, 10, 15, 20, 25, 24, 23, 22, 21, 16, 11, 6, 7, 8, 9, 14, 19, 18, 17, 12, 13]\n"
     ]
    }
   ],
   "source": [
    "square = np.array([[ 1,  2,  3,  4,  5],\n",
    "       [ 6,  7,  8,  9, 10],\n",
    "       [11, 12, 13, 14, 15],\n",
    "       [16, 17, 18, 19, 20],\n",
    "       [21, 22, 23, 24, 25]])\n",
    "\n",
    "spiral = []\n",
    "size = 5\n",
    "\n",
    "for i in range(0, size):\n",
    "    # Convert each part marked by a red arrow to a list\n",
    "    spiral += list(square[i, i:size-i])\n",
    "    # Convert each part marked by a green arrow to a list\n",
    "    spiral += list(square[i+1:size-i, size-i-1])\n",
    "    # Convert each part marked by a blue arrow to a list\n",
    "    spiral += list(reversed(square[size-i-1, i:size-i-1]))\n",
    "    # Convert each part marked by a magenta arrow to a list\n",
    "    spiral += list(reversed(square[i+1:size-i-1, i]))\n",
    "        \n",
    "print(spiral)"
   ]
  },
  {
   "cell_type": "code",
   "execution_count": 51,
   "metadata": {},
   "outputs": [
    {
     "name": "stdout",
     "output_type": "stream",
     "text": [
      "[[5, 10, 15], [20, 25, 30], [35, 40, 45]]\n",
      "[[ 5 10 15]\n",
      " [20 25 30]\n",
      " [35 40 45]]\n"
     ]
    }
   ],
   "source": [
    "input_array1 = np.array([[1, 2, 3],\n",
    "       [4, 5, 6],\n",
    "       [7, 8, 9]])\n",
    "input_list1 = [[1, 2, 3], [4, 5, 6], [7, 8, 9]]\n",
    "\n",
    "# Substitute the code in the block 1 given the input_array1\n",
    "output_array1 = 5 * input_array1\n",
    "\n",
    "print(list(map(lambda x: [5*i for i in x], input_list1)))\n",
    "print(output_array1)"
   ]
  },
  {
   "cell_type": "code",
   "execution_count": 52,
   "metadata": {},
   "outputs": [
    {
     "name": "stdout",
     "output_type": "stream",
     "text": [
      "[0, 2, 4, 6, 8]\n",
      "[0 2 4 6 8]\n"
     ]
    }
   ],
   "source": [
    "input_array2 = np.array([0, 1, 2, 3, 4, 5, 6, 7, 8, 9])\n",
    "input_list2 = [0, 1, 2, 3, 4, 5, 6, 7, 8, 9]\n",
    "\n",
    "# Substitute the code in the block 2 given the input_array2\n",
    "output_array2 = input_array2[input_array2 % 2 == 0]\n",
    "print(list(filter(lambda x: x % 2 == 0, input_list2)))\n",
    "print(output_array2)"
   ]
  },
  {
   "cell_type": "code",
   "execution_count": 53,
   "metadata": {},
   "outputs": [
    {
     "name": "stdout",
     "output_type": "stream",
     "text": [
      "[[1, 4], [9, 16], [25, 36]]\n",
      "[[ 1  4]\n",
      " [ 9 16]\n",
      " [25 36]]\n"
     ]
    }
   ],
   "source": [
    "input_array3 = np.array([[1, 2],\n",
    "       [3, 4],\n",
    "       [5, 6]])\n",
    "input_list3 = [[1, 2], [3, 4], [5, 6]]\n",
    "\n",
    "# Substitute the code in the block 3 given the input_array3\n",
    "output_array3 = input_array3 * input_array3\n",
    "print([[i*i for i in j] for j in input_list3])\n",
    "print(output_array3)"
   ]
  },
  {
   "cell_type": "markdown",
   "metadata": {},
   "source": [
    "### Apply"
   ]
  },
  {
   "cell_type": "code",
   "execution_count": 55,
   "metadata": {},
   "outputs": [
    {
     "name": "stdout",
     "output_type": "stream",
     "text": [
      "Index(['gender', 'race/ethnicity', 'parental level of education', 'lunch',\n",
      "       'test preparation course', 'math score', 'reading score',\n",
      "       'writing score'],\n",
      "      dtype='object')\n",
      "gender                               female\n",
      "race/ethnicity                      group C\n",
      "parental level of education    some college\n",
      "lunch                              standard\n",
      "test preparation course                none\n",
      "dtype: object\n"
     ]
    }
   ],
   "source": [
    "import pandas as pd\n",
    "scores = pd.read_csv('exams.xls')\n",
    "print(scores.columns)\n",
    "\n",
    "def prevalence(series):\n",
    "    vals = list(series)\n",
    "    # Create a tuple list with unique items and their counts\n",
    "    itms = [(x, vals.count(x)) for x in set(series)]\n",
    "    # Extract a tuple with the highest counts using reduce()\n",
    "    res = reduce(lambda x, y: x if x[1] > y[1] else y, itms)\n",
    "    # Return the item with the highest counts\n",
    "    return res[0]\n",
    "\n",
    "from functools import reduce\n",
    "groups_to_consider = ['gender', 'race/ethnicity', 'parental level of education', 'lunch', 'test preparation course']\n",
    "# Apply the prevalence function on the scores DataFrame\n",
    "result = scores[groups_to_consider].apply(prevalence)\n",
    "print(result)"
   ]
  },
  {
   "cell_type": "code",
   "execution_count": 57,
   "metadata": {},
   "outputs": [
    {
     "name": "stdout",
     "output_type": "stream",
     "text": [
      "Index(['gender', 'race/ethnicity', 'parental level of education', 'lunch',\n",
      "       'test preparation course', 'math score', 'reading score',\n",
      "       'writing score'],\n",
      "      dtype='object')\n",
      "        mean    rank\n",
      "0  80.666667  medium\n",
      "1  48.666667     low\n",
      "2  47.666667     low\n",
      "3  91.666667    high\n",
      "4  82.333333  medium\n"
     ]
    }
   ],
   "source": [
    "import pandas as pd\n",
    "scores = pd.read_csv('exams.xls')\n",
    "print(scores.columns)\n",
    "\n",
    "import numpy as np\n",
    "\n",
    "def rank(series):\n",
    "    # Calculate the mean of the input series\n",
    "    mean = np.mean(series)\n",
    "    # Return the mean and its rank as a list\n",
    "    if mean > 90:\n",
    "        return [mean, 'high']\n",
    "    if mean > 60:\n",
    "        return [mean, 'medium']\n",
    "    return [mean, 'low']\n",
    "\n",
    "# Insert the output of rank() into new columns of scores\n",
    "cols = ['math score', 'reading score', 'writing score']\n",
    "scores[['mean', 'rank']] = scores[cols].apply(rank, axis=1,\n",
    "                                              result_type='expand')\n",
    "print(scores[['mean', 'rank']].head())"
   ]
  },
  {
   "cell_type": "code",
   "execution_count": 59,
   "metadata": {},
   "outputs": [
    {
     "name": "stdout",
     "output_type": "stream",
     "text": [
      "Index(['gender', 'race/ethnicity', 'parental level of education', 'lunch',\n",
      "       'test preparation course', 'math score', 'reading score',\n",
      "       'writing score'],\n",
      "      dtype='object')\n",
      "   math score  reading score  writing score\n",
      "0        7.66           8.74           8.38\n",
      "1        4.96           5.41           5.77\n",
      "2        5.86           5.14           4.87\n",
      "3        8.92           9.55           9.28\n",
      "4        8.65           8.29           8.29\n"
     ]
    }
   ],
   "source": [
    "import pandas as pd\n",
    "scores = pd.read_csv('exams.xls')\n",
    "print(scores.columns)\n",
    "\n",
    "def rescale(series, low, high):\n",
    "   # Define the expression to rescale input series\n",
    "   return series * (high - low)/100 + low\n",
    "\n",
    "# Rescale the data in cols to lie between 1 and 10\n",
    "cols = ['math score', 'reading score', 'writing score'] \n",
    "scores[cols] = scores[cols].apply(rescale, args=[1, 10])\n",
    "print(scores[cols].head())"
   ]
  },
  {
   "cell_type": "code",
   "execution_count": 61,
   "metadata": {},
   "outputs": [
    {
     "name": "stdout",
     "output_type": "stream",
     "text": [
      "Index(['gender', 'race/ethnicity', 'parental level of education', 'lunch',\n",
      "       'test preparation course', 'math score', 'reading score',\n",
      "       'writing score'],\n",
      "      dtype='object')\n",
      "   math score  reading score  writing score\n",
      "0        7.66           8.74           8.38\n",
      "1        4.96           5.41           5.77\n",
      "2        5.86           5.14           4.87\n",
      "3        8.92           9.55           9.28\n",
      "4        8.65           8.29           8.29\n"
     ]
    }
   ],
   "source": [
    "import pandas as pd\n",
    "scores = pd.read_csv('exams.xls')\n",
    "print(scores.columns)\n",
    "\n",
    "# Redefine the function to accept keyword arguments\n",
    "def rescale(series, low=0, high=100):\n",
    "   return series * (high - low)/100 + low\n",
    "\n",
    "# Rescale the data in cols to lie between 1 and 10\n",
    "cols = ['math score', 'reading score', 'writing score']\n",
    "scores[cols] = scores[cols].apply(rescale, args=[1, 10])\n",
    "print(scores[cols].head())"
   ]
  },
  {
   "cell_type": "markdown",
   "metadata": {},
   "source": [
    "### Groupby"
   ]
  },
  {
   "cell_type": "code",
   "execution_count": 63,
   "metadata": {},
   "outputs": [
    {
     "name": "stdout",
     "output_type": "stream",
     "text": [
      "<class 'pandas.core.frame.DataFrame'>\n",
      "RangeIndex: 768 entries, 0 to 767\n",
      "Data columns (total 9 columns):\n",
      "n pregnant           768 non-null int64\n",
      "plasma glucose       763 non-null float64\n",
      "blood pressure       733 non-null float64\n",
      "skin thickness       541 non-null float64\n",
      "serum insulin        394 non-null float64\n",
      "bmi                  757 non-null float64\n",
      "pedigree function    768 non-null float64\n",
      "age                  768 non-null int64\n",
      "test result          768 non-null object\n",
      "dtypes: float64(6), int64(2), object(1)\n",
      "memory usage: 54.1+ KB\n",
      "None\n",
      "121.6867627785059\n",
      "test result\n",
      "negative    110.643863\n",
      "positive    142.319549\n",
      "Name: plasma glucose, dtype: float64\n"
     ]
    }
   ],
   "source": [
    "import pandas as pd\n",
    "\n",
    "# Load the data from the diabetes.csv file\n",
    "diabetes = pd.read_csv('diabetes.xls')\n",
    "print(diabetes.info())\n",
    "\n",
    "# Calculate the mean glucose level in the entire dataset\n",
    "print(diabetes['plasma glucose'].mean())\n",
    "\n",
    "# Group the data according to the diabetes test results\n",
    "diabetes_grouped = diabetes.groupby('test result')\n",
    "\n",
    "# Calculate the mean glucose levels per group\n",
    "print(diabetes_grouped['plasma glucose'].mean())"
   ]
  },
  {
   "cell_type": "code",
   "execution_count": 65,
   "metadata": {},
   "outputs": [
    {
     "data": {
      "text/html": [
       "<div>\n",
       "<style scoped>\n",
       "    .dataframe tbody tr th:only-of-type {\n",
       "        vertical-align: middle;\n",
       "    }\n",
       "\n",
       "    .dataframe tbody tr th {\n",
       "        vertical-align: top;\n",
       "    }\n",
       "\n",
       "    .dataframe thead th {\n",
       "        text-align: right;\n",
       "    }\n",
       "</style>\n",
       "<table border=\"1\" class=\"dataframe\">\n",
       "  <thead>\n",
       "    <tr style=\"text-align: right;\">\n",
       "      <th></th>\n",
       "      <th>name</th>\n",
       "      <th>Gender</th>\n",
       "      <th>Eye color</th>\n",
       "      <th>Race</th>\n",
       "      <th>Hair color</th>\n",
       "      <th>Height</th>\n",
       "      <th>Publisher</th>\n",
       "      <th>Skin color</th>\n",
       "      <th>Alignment</th>\n",
       "      <th>Weight</th>\n",
       "      <th>bmi</th>\n",
       "    </tr>\n",
       "  </thead>\n",
       "  <tbody>\n",
       "    <tr>\n",
       "      <th>0</th>\n",
       "      <td>A-Bomb</td>\n",
       "      <td>Male</td>\n",
       "      <td>yellow</td>\n",
       "      <td>Human</td>\n",
       "      <td>No Hair</td>\n",
       "      <td>203.0</td>\n",
       "      <td>Marvel Comics</td>\n",
       "      <td>-</td>\n",
       "      <td>good</td>\n",
       "      <td>441.0</td>\n",
       "      <td>107.015458</td>\n",
       "    </tr>\n",
       "    <tr>\n",
       "      <th>1</th>\n",
       "      <td>Abe Sapien</td>\n",
       "      <td>Male</td>\n",
       "      <td>blue</td>\n",
       "      <td>Icthyo Sapien</td>\n",
       "      <td>No Hair</td>\n",
       "      <td>191.0</td>\n",
       "      <td>Dark Horse Comics</td>\n",
       "      <td>blue</td>\n",
       "      <td>good</td>\n",
       "      <td>65.0</td>\n",
       "      <td>17.817494</td>\n",
       "    </tr>\n",
       "    <tr>\n",
       "      <th>2</th>\n",
       "      <td>Abin Sur</td>\n",
       "      <td>Male</td>\n",
       "      <td>blue</td>\n",
       "      <td>Ungaran</td>\n",
       "      <td>No Hair</td>\n",
       "      <td>185.0</td>\n",
       "      <td>DC Comics</td>\n",
       "      <td>red</td>\n",
       "      <td>good</td>\n",
       "      <td>90.0</td>\n",
       "      <td>26.296567</td>\n",
       "    </tr>\n",
       "    <tr>\n",
       "      <th>3</th>\n",
       "      <td>Abomination</td>\n",
       "      <td>Male</td>\n",
       "      <td>green</td>\n",
       "      <td>Human / Radiation</td>\n",
       "      <td>No Hair</td>\n",
       "      <td>203.0</td>\n",
       "      <td>Marvel Comics</td>\n",
       "      <td>-</td>\n",
       "      <td>bad</td>\n",
       "      <td>441.0</td>\n",
       "      <td>107.015458</td>\n",
       "    </tr>\n",
       "    <tr>\n",
       "      <th>4</th>\n",
       "      <td>Abraxas</td>\n",
       "      <td>Male</td>\n",
       "      <td>blue</td>\n",
       "      <td>Cosmic Entity</td>\n",
       "      <td>Black</td>\n",
       "      <td>-99.0</td>\n",
       "      <td>Marvel Comics</td>\n",
       "      <td>-</td>\n",
       "      <td>bad</td>\n",
       "      <td>-99.0</td>\n",
       "      <td>-101.010101</td>\n",
       "    </tr>\n",
       "  </tbody>\n",
       "</table>\n",
       "</div>"
      ],
      "text/plain": [
       "          name Gender Eye color               Race Hair color  Height  \\\n",
       "0       A-Bomb   Male    yellow              Human    No Hair   203.0   \n",
       "1   Abe Sapien   Male      blue      Icthyo Sapien    No Hair   191.0   \n",
       "2     Abin Sur   Male      blue            Ungaran    No Hair   185.0   \n",
       "3  Abomination   Male     green  Human / Radiation    No Hair   203.0   \n",
       "4      Abraxas   Male      blue      Cosmic Entity      Black   -99.0   \n",
       "\n",
       "           Publisher Skin color Alignment  Weight         bmi  \n",
       "0      Marvel Comics          -      good   441.0  107.015458  \n",
       "1  Dark Horse Comics       blue      good    65.0   17.817494  \n",
       "2          DC Comics        red      good    90.0   26.296567  \n",
       "3      Marvel Comics          -       bad   441.0  107.015458  \n",
       "4      Marvel Comics          -       bad   -99.0 -101.010101  "
      ]
     },
     "execution_count": 65,
     "metadata": {},
     "output_type": "execute_result"
    }
   ],
   "source": [
    "import pandas as pd\n",
    "\n",
    "heroes = pd.read_csv('heroes_information.csv', index_col=0)\n",
    "heroes['bmi'] = heroes['Weight'] / (heroes['Height'] / 100) ** 2\n",
    "heroes.head()"
   ]
  },
  {
   "cell_type": "code",
   "execution_count": 66,
   "metadata": {},
   "outputs": [
    {
     "name": "stdout",
     "output_type": "stream",
     "text": [
      "                                    bmi            \n",
      "                                   mean         std\n",
      "Publisher         Alignment                        \n",
      "DC Comics         bad         13.121538  223.552122\n",
      "                  good       -15.353158   59.322142\n",
      "                  neutral    -17.856179   69.314656\n",
      "Dark Horse Comics good       -17.905567   61.631452\n",
      "Image Comics      bad       -101.010101    0.000000\n",
      "Marvel Comics     bad         23.576160  260.314675\n",
      "                  good         7.493435   50.359506\n",
      "                  neutral     24.076486   73.907059\n",
      "NBC - Heroes      good      -101.010101    0.000000\n"
     ]
    }
   ],
   "source": [
    "import numpy as np\n",
    "\n",
    "# Group the data by two factors specified in the context\n",
    "groups = heroes.groupby(['Publisher', 'Alignment'])\n",
    "\n",
    "# Filter groups having more than 10 valid bmi observations\n",
    "fheroes = groups.filter(lambda x: x['bmi'].count() > 10)\n",
    "\n",
    "# Group the filtered data again by the same factors\n",
    "fgroups = fheroes.groupby(['Publisher', 'Alignment'])\n",
    "\n",
    "# Calculate the mean and standard deviation of the BMI index\n",
    "result = fgroups[['bmi']].agg([np.mean, np.std])\n",
    "print(result)"
   ]
  },
  {
   "cell_type": "code",
   "execution_count": 67,
   "metadata": {},
   "outputs": [
    {
     "name": "stdout",
     "output_type": "stream",
     "text": [
      "Global mean = 0.527667622587244\n",
      "\n",
      "Publisher          Alignment\n",
      "DC Comics          bad           13.121538\n",
      "                   good         -15.353158\n",
      "                   neutral      -17.856179\n",
      "Dark Horse Comics  good         -17.905567\n",
      "Image Comics       bad         -101.010101\n",
      "Marvel Comics      bad           23.576160\n",
      "                   good           7.493435\n",
      "                   neutral       24.076486\n",
      "NBC - Heroes       good        -101.010101\n",
      "Name: bmi, dtype: float64\n"
     ]
    }
   ],
   "source": [
    "# Define a lambda function that imputes NaN values in series\n",
    "impute = lambda series: series.fillna(np.mean(series))\n",
    "\n",
    "# Impute NaNs in the bmi column of imp_globmean\n",
    "imp_globmean = fheroes.copy()\n",
    "imp_globmean['bmi'] = imp_globmean['bmi'].transform(impute)\n",
    "print(\"Global mean = \" + str(fheroes['bmi'].mean()) + \"\\n\")\n",
    "\n",
    "imp_grpmean = fheroes.copy()\n",
    "groups = imp_grpmean.groupby(['Publisher', 'Alignment'])\n",
    "\n",
    "# Impute NaNs in the bmi column of imp_grpmean\n",
    "imp_grpmean['bmi'] = groups['bmi'].transform(impute)\n",
    "print(groups['bmi'].mean())"
   ]
  },
  {
   "cell_type": "markdown",
   "metadata": {},
   "source": [
    "### Matplotlib"
   ]
  },
  {
   "cell_type": "code",
   "execution_count": 69,
   "metadata": {},
   "outputs": [
    {
     "name": "stdout",
     "output_type": "stream",
     "text": [
      "Index(['age', 'gender', 'smoking', 'bmi', 'vitamin use', 'calories', 'fat',\n",
      "       'fiber', 'alcohol', 'cholesterol', 'diet B-carotene', 'diet retinol',\n",
      "       'plasma B-carotene', 'plasma retinol'],\n",
      "      dtype='object')\n"
     ]
    }
   ],
   "source": [
    "import pandas as pd\n",
    "\n",
    "retinol = pd.read_csv('retinol.xls')\n",
    "print(retinol.columns)"
   ]
  },
  {
   "cell_type": "code",
   "execution_count": 70,
   "metadata": {},
   "outputs": [
    {
     "data": {
      "text/plain": [
       "<matplotlib.collections.PathCollection at 0x11b3d6588>"
      ]
     },
     "execution_count": 70,
     "metadata": {},
     "output_type": "execute_result"
    },
    {
     "data": {
      "image/png": "[encoded data removed]",
      "text/plain": [
       "<Figure size 432x288 with 8 Axes>"
      ]
     },
     "metadata": {
      "needs_background": "light"
     },
     "output_type": "display_data"
    }
   ],
   "source": [
    "import matplotlib.pyplot as plt\n",
    "%matplotlib inline\n",
    "\n",
    "fig, ((ax1, ax2), (ax3, ax4), (ax5, ax6), (ax7, ax8)) = plt.subplots(nrows=4, ncols=2)\n",
    "ax1.scatter(data = retinol, x = 'age', y = 'plasma retinol')\n",
    "ax2.scatter(data = retinol, x = 'bmi', y = 'plasma retinol')\n",
    "ax3.scatter(data = retinol, x = 'calories', y = 'plasma retinol')\n",
    "ax4.scatter(data = retinol, x = 'fat', y = 'plasma retinol')\n",
    "ax5.scatter(data = retinol, x = 'cholesterol', y = 'plasma retinol')\n",
    "ax6.scatter(data = retinol, x = 'diet retinol', y = 'plasma retinol')\n",
    "ax7.scatter(data = retinol, x = 'diet B-carotene', y = 'plasma retinol')\n",
    "ax8.scatter(data = retinol, x = 'plasma B-carotene', y = 'plasma retinol')"
   ]
  },
  {
   "cell_type": "code",
   "execution_count": 71,
   "metadata": {},
   "outputs": [
    {
     "data": {
      "image/png": "[encoded data removed]",
      "text/plain": [
       "<Figure size 432x288 with 1 Axes>"
      ]
     },
     "metadata": {
      "needs_background": "light"
     },
     "output_type": "display_data"
    }
   ],
   "source": [
    "import matplotlib.pyplot as plt\n",
    "%matplotlib inline\n",
    "\n",
    "plt.hist(retinol['plasma retinol'], bins=20)\n",
    "plt.title('Histogram of Plasma Retinol')\n",
    "plt.xlabel('Plasma Retinol')\n",
    "plt.ylabel('Counts')\n",
    "plt.show()"
   ]
  },
  {
   "cell_type": "markdown",
   "metadata": {},
   "source": [
    "### Seaborn"
   ]
  },
  {
   "cell_type": "code",
   "execution_count": 72,
   "metadata": {},
   "outputs": [
    {
     "data": {
      "image/png": "[encoded data removed]",
      "text/plain": [
       "<Figure size 432x288 with 1 Axes>"
      ]
     },
     "metadata": {
      "needs_background": "light"
     },
     "output_type": "display_data"
    }
   ],
   "source": [
    "import seaborn as sns\n",
    "\n",
    "# Create a boxplot of BMI indices for 'good' and 'bad' sides\n",
    "sns.boxplot(x='Alignment', y='bmi', data=heroes)\n",
    "plt.show()"
   ]
  },
  {
   "cell_type": "code",
   "execution_count": 73,
   "metadata": {},
   "outputs": [
    {
     "data": {
      "image/png": "[encoded data removed]",
      "text/plain": [
       "<Figure size 432x288 with 1 Axes>"
      ]
     },
     "metadata": {
      "needs_background": "light"
     },
     "output_type": "display_data"
    }
   ],
   "source": [
    "import seaborn as sns\n",
    "\n",
    "# Select rows from heroes for which the BMI index < 1000\n",
    "heroes_filtered = heroes[heroes['bmi'] < 1000]\n",
    "\n",
    "# Create a new boxplot of BMI indices\n",
    "sns.boxplot(x='Alignment', y='bmi', data=heroes_filtered)\n",
    "plt.show()"
   ]
  },
  {
   "cell_type": "code",
   "execution_count": null,
   "metadata": {},
   "outputs": [],
   "source": []
  }
 ],
 "metadata": {
  "kernelspec": {
   "display_name": "Python 3",
   "language": "python",
   "name": "python3"
  },
  "language_info": {
   "codemirror_mode": {
    "name": "ipython",
    "version": 3
   },
   "file_extension": ".py",
   "mimetype": "text/x-python",
   "name": "python",
   "nbconvert_exporter": "python",
   "pygments_lexer": "ipython3",
   "version": "3.7.3"
  }
 },
 "nbformat": 4,
 "nbformat_minor": 4
}
