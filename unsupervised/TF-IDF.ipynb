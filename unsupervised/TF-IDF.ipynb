{
  "nbformat": 4,
  "nbformat_minor": 0,
  "metadata": {
    "colab": {
      "name": "TF-IDF.ipynb",
      "provenance": [],
      "include_colab_link": true
    },
    "kernelspec": {
      "name": "python3",
      "display_name": "Python 3"
    }
  },
  "cells": [
    {
      "cell_type": "markdown",
      "metadata": {
        "id": "view-in-github",
        "colab_type": "text"
      },
      "source": [
        "<a href=\"https://colab.research.google.com/github/thap/python_basics_to_advanced/blob/master/unsupervised/TF-IDF.ipynb\" target=\"_parent\"><img src=\"https://colab.research.google.com/assets/colab-badge.svg\" alt=\"Open In Colab\"/></a>"
      ]
    },
    {
      "cell_type": "code",
      "metadata": {
        "id": "3zBnhXQ_6A9-",
        "colab_type": "code",
        "colab": {}
      },
      "source": [
        "!pip install tensorflow-gpu==2.0.0-alpha0\n",
        "import tensorflow as tf\n",
        "print(tf.__version__)\n",
        "tf.test.gpu_device_name()"
      ],
      "execution_count": 0,
      "outputs": []
    },
    {
      "cell_type": "code",
      "metadata": {
        "id": "Skd_3j8VFdqv",
        "colab_type": "code",
        "colab": {
          "base_uri": "https://localhost:8080/",
          "height": 245
        },
        "outputId": "1d43d5a2-b9fb-43f0-de11-ffa1c2179328"
      },
      "source": [
        "from google.colab import drive\n",
        "drive.mount('/content/drive')\n",
        "import os\n",
        "os.chdir('/content/drive/My Drive/data/unsupervised/')\n",
        "print(os.getcwd())\n",
        "!ls"
      ],
      "execution_count": 12,
      "outputs": [
        {
          "output_type": "stream",
          "text": [
            "Go to this URL in a browser: https://accounts.google.com/o/oauth2/auth?client_id=947318989803-6bn6qk8qdgf4n4g3pfee6491hc0brc4i.apps.googleusercontent.com&redirect_uri=urn%3Aietf%3Awg%3Aoauth%3A2.0%3Aoob&scope=email%20https%3A%2F%2Fwww.googleapis.com%2Fauth%2Fdocs.test%20https%3A%2F%2Fwww.googleapis.com%2Fauth%2Fdrive%20https%3A%2F%2Fwww.googleapis.com%2Fauth%2Fdrive.photos.readonly%20https%3A%2F%2Fwww.googleapis.com%2Fauth%2Fpeopleapi.readonly&response_type=code\n",
            "\n",
            "Enter your authorization code:\n",
            "··········\n",
            "Mounted at /content/drive\n",
            "/content/drive/My Drive/data/unsupervised\n",
            "artists.csv\t\t\t\t    scrobbler-small-sample.csv\n",
            "company-stock-movements-2010-2015-incl.csv  seeds.csv\n",
            "eurovision-2016.csv\t\t\t    seeds-width-vs-length.csv\n",
            "fish.csv\t\t\t\t    wikipedia-vectors.csv\n",
            "lcd-digits.csv\t\t\t\t    wikipedia-vocabulary-utf8.txt\n",
            "preprocessing.md\t\t\t    wine.csv\n"
          ],
          "name": "stdout"
        }
      ]
    },
    {
      "cell_type": "code",
      "metadata": {
        "id": "a5d5Q_RgFiha",
        "colab_type": "code",
        "colab": {}
      },
      "source": [
        "import pandas as pd\n",
        "import numpy as np\n",
        "import matplotlib.pyplot as plt\n",
        "%matplotlib inline"
      ],
      "execution_count": 0,
      "outputs": []
    },
    {
      "cell_type": "code",
      "metadata": {
        "id": "08tJKyO9Fkb-",
        "colab_type": "code",
        "colab": {}
      },
      "source": [
        "documents = ['cats say meow', 'dogs say woof', 'dogs chase cats']"
      ],
      "execution_count": 0,
      "outputs": []
    },
    {
      "cell_type": "code",
      "metadata": {
        "id": "BVUpb9SBFvXu",
        "colab_type": "code",
        "colab": {}
      },
      "source": [
        "from sklearn.feature_extraction.text import TfidfVectorizer"
      ],
      "execution_count": 0,
      "outputs": []
    },
    {
      "cell_type": "code",
      "metadata": {
        "id": "OjldB5a3F60g",
        "colab_type": "code",
        "colab": {}
      },
      "source": [
        "tfidf = TfidfVectorizer()\n",
        "csr_mat = tfidf.fit_transform(documents)"
      ],
      "execution_count": 0,
      "outputs": []
    },
    {
      "cell_type": "code",
      "metadata": {
        "id": "M6I7WBmrGA75",
        "colab_type": "code",
        "colab": {
          "base_uri": "https://localhost:8080/",
          "height": 69
        },
        "outputId": "ed6bcf1c-7c40-4b9d-f834-a727e56928f3"
      },
      "source": [
        "print(csr_mat.toarray())"
      ],
      "execution_count": 6,
      "outputs": [
        {
          "output_type": "stream",
          "text": [
            "[[0.51785612 0.         0.         0.68091856 0.51785612 0.        ]\n",
            " [0.         0.         0.51785612 0.         0.51785612 0.68091856]\n",
            " [0.51785612 0.68091856 0.51785612 0.         0.         0.        ]]\n"
          ],
          "name": "stdout"
        }
      ]
    },
    {
      "cell_type": "code",
      "metadata": {
        "id": "0V2ai23CGG3q",
        "colab_type": "code",
        "colab": {}
      },
      "source": [
        "words = tfidf.get_feature_names()"
      ],
      "execution_count": 0,
      "outputs": []
    },
    {
      "cell_type": "code",
      "metadata": {
        "id": "VX2dKO8CGJRq",
        "colab_type": "code",
        "colab": {
          "base_uri": "https://localhost:8080/",
          "height": 35
        },
        "outputId": "d184142b-a9a6-4b38-cf5b-c089043e8b7c"
      },
      "source": [
        "print(words)"
      ],
      "execution_count": 8,
      "outputs": [
        {
          "output_type": "stream",
          "text": [
            "['cats', 'chase', 'dogs', 'meow', 'say', 'woof']\n"
          ],
          "name": "stdout"
        }
      ]
    },
    {
      "cell_type": "code",
      "metadata": {
        "id": "DQ-3fNIMGKRq",
        "colab_type": "code",
        "colab": {}
      },
      "source": [
        "from sklearn.decomposition import TruncatedSVD\n",
        "from sklearn.cluster import KMeans\n",
        "from sklearn.pipeline import make_pipeline\n"
      ],
      "execution_count": 0,
      "outputs": []
    },
    {
      "cell_type": "code",
      "metadata": {
        "id": "B6m_3pBPGald",
        "colab_type": "code",
        "colab": {}
      },
      "source": [
        "svd = TruncatedSVD(n_components=50)\n",
        "kmeans = KMeans(n_clusters=6)\n",
        "pipeline = make_pipeline(svd, kmeans)"
      ],
      "execution_count": 0,
      "outputs": []
    },
    {
      "cell_type": "code",
      "metadata": {
        "id": "CYNfIdY9GuLP",
        "colab_type": "code",
        "colab": {
          "base_uri": "https://localhost:8080/",
          "height": 55
        },
        "outputId": "ced8ed3e-7895-45ed-f756-99c627d16f99"
      },
      "source": [
        "import pandas as pd\n",
        "from scipy.sparse import csr_matrix\n",
        "\n",
        "df = pd.read_csv('wikipedia-vectors.csv', index_col=0)\n",
        "articles = csr_matrix(df.transpose())\n",
        "titles = list(df.columns)\n",
        "print(titles)"
      ],
      "execution_count": 15,
      "outputs": [
        {
          "output_type": "stream",
          "text": [
            "['HTTP 404', 'Alexa Internet', 'Internet Explorer', 'HTTP cookie', 'Google Search', 'Tumblr', 'Hypertext Transfer Protocol', 'Social search', 'Firefox', 'LinkedIn', 'Global warming', 'Nationally Appropriate Mitigation Action', 'Nigel Lawson', 'Connie Hedegaard', 'Climate change', 'Kyoto Protocol', '350.org', 'Greenhouse gas emissions by the United States', '2010 United Nations Climate Change Conference', '2007 United Nations Climate Change Conference', 'Angelina Jolie', 'Michael Fassbender', 'Denzel Washington', 'Catherine Zeta-Jones', 'Jessica Biel', 'Russell Crowe', 'Mila Kunis', 'Dakota Fanning', 'Anne Hathaway', 'Jennifer Aniston', 'France national football team', 'Cristiano Ronaldo', 'Arsenal F.C.', 'Radamel Falcao', 'Zlatan Ibrahimović', 'Colombia national football team', '2014 FIFA World Cup qualification', 'Football', 'Neymar', 'Franck Ribéry', 'Tonsillitis', 'Hepatitis B', 'Doxycycline', 'Leukemia', 'Gout', 'Hepatitis C', 'Prednisone', 'Fever', 'Gabapentin', 'Lymphoma', 'Chad Kroeger', 'Nate Ruess', 'The Wanted', 'Stevie Nicks', 'Arctic Monkeys', 'Black Sabbath', 'Skrillex', 'Red Hot Chili Peppers', 'Sepsis', 'Adam Levine']\n"
          ],
          "name": "stdout"
        }
      ]
    },
    {
      "cell_type": "code",
      "metadata": {
        "id": "3tRn8r29HNOK",
        "colab_type": "code",
        "colab": {
          "base_uri": "https://localhost:8080/",
          "height": 1000
        },
        "outputId": "8fce1fef-ae61-4c5a-f6b0-49e1cbb92e98"
      },
      "source": [
        "pipeline.fit(articles)\n",
        "labels = pipeline.predict(articles)\n",
        "df = pd.DataFrame({'label': labels, 'article': titles})\n",
        "print(df.sort_values('label'))"
      ],
      "execution_count": 14,
      "outputs": [
        {
          "output_type": "stream",
          "text": [
            "    label                                        article\n",
            "59      0                                    Adam Levine\n",
            "50      0                                   Chad Kroeger\n",
            "51      0                                     Nate Ruess\n",
            "52      0                                     The Wanted\n",
            "53      0                                   Stevie Nicks\n",
            "58      0                                         Sepsis\n",
            "55      0                                  Black Sabbath\n",
            "56      0                                       Skrillex\n",
            "57      0                          Red Hot Chili Peppers\n",
            "54      0                                 Arctic Monkeys\n",
            "30      1                  France national football team\n",
            "38      1                                         Neymar\n",
            "37      1                                       Football\n",
            "36      1              2014 FIFA World Cup qualification\n",
            "35      1                Colombia national football team\n",
            "34      1                             Zlatan Ibrahimović\n",
            "33      1                                 Radamel Falcao\n",
            "32      1                                   Arsenal F.C.\n",
            "31      1                              Cristiano Ronaldo\n",
            "39      1                                  Franck Ribéry\n",
            "0       2                                       HTTP 404\n",
            "8       2                                        Firefox\n",
            "1       2                                 Alexa Internet\n",
            "2       2                              Internet Explorer\n",
            "3       2                                    HTTP cookie\n",
            "4       2                                  Google Search\n",
            "5       2                                         Tumblr\n",
            "6       2                    Hypertext Transfer Protocol\n",
            "7       2                                  Social search\n",
            "9       2                                       LinkedIn\n",
            "10      3                                 Global warming\n",
            "11      3       Nationally Appropriate Mitigation Action\n",
            "12      3                                   Nigel Lawson\n",
            "13      3                               Connie Hedegaard\n",
            "18      3  2010 United Nations Climate Change Conference\n",
            "15      3                                 Kyoto Protocol\n",
            "16      3                                        350.org\n",
            "17      3  Greenhouse gas emissions by the United States\n",
            "19      3  2007 United Nations Climate Change Conference\n",
            "14      3                                 Climate change\n",
            "21      4                             Michael Fassbender\n",
            "29      4                               Jennifer Aniston\n",
            "20      4                                 Angelina Jolie\n",
            "22      4                              Denzel Washington\n",
            "23      4                           Catherine Zeta-Jones\n",
            "24      4                                   Jessica Biel\n",
            "25      4                                  Russell Crowe\n",
            "26      4                                     Mila Kunis\n",
            "27      4                                 Dakota Fanning\n",
            "28      4                                  Anne Hathaway\n",
            "42      5                                    Doxycycline\n",
            "49      5                                       Lymphoma\n",
            "48      5                                     Gabapentin\n",
            "47      5                                          Fever\n",
            "46      5                                     Prednisone\n",
            "45      5                                    Hepatitis C\n",
            "44      5                                           Gout\n",
            "43      5                                       Leukemia\n",
            "41      5                                    Hepatitis B\n",
            "40      5                                    Tonsillitis\n"
          ],
          "name": "stdout"
        }
      ]
    },
    {
      "cell_type": "code",
      "metadata": {
        "id": "b9n375NmH4QI",
        "colab_type": "code",
        "colab": {}
      },
      "source": [
        ""
      ],
      "execution_count": 0,
      "outputs": []
    }
  ]
}